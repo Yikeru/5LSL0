{
 "cells": [
  {
   "cell_type": "code",
   "execution_count": 1,
   "metadata": {},
   "outputs": [
    {
     "name": "stdout",
     "output_type": "stream",
     "text": [
      "C:\\Users\\20167271\\Desktop\\ML for signal processing\\5LSL0-GIT\\Assignment 4\n"
     ]
    },
    {
     "name": "stderr",
     "output_type": "stream",
     "text": [
      "\r",
      "  0%|          | 0/844 [00:00<?, ?it/s]"
     ]
    },
    {
     "name": "stdout",
     "output_type": "stream",
     "text": [
      "Running on:  cuda\n",
      "Training starts now! Good luck guuuurl!\n",
      "\n",
      "Training epoch 0: \t\n"
     ]
    },
    {
     "name": "stderr",
     "output_type": "stream",
     "text": [
      "100%|██████████| 844/844 [00:35<00:00, 24.08it/s]\n",
      "  0%|          | 0/844 [00:00<?, ?it/s]"
     ]
    },
    {
     "name": "stdout",
     "output_type": "stream",
     "text": [
      "\n",
      "Epoch training loss is 0.12969717595249555\n",
      "\n",
      "Epoch validation loss is 0.05507087707519531\n",
      "\n",
      "Training epoch 1: \t\n"
     ]
    },
    {
     "name": "stderr",
     "output_type": "stream",
     "text": [
      "100%|██████████| 844/844 [00:11<00:00, 71.58it/s]\n",
      "  0%|          | 0/844 [00:00<?, ?it/s]"
     ]
    },
    {
     "name": "stdout",
     "output_type": "stream",
     "text": [
      "\n",
      "Epoch training loss is 0.04094585762204717\n",
      "\n",
      "Epoch validation loss is 0.024648666381835938\n",
      "\n",
      "Training epoch 2: \t\n"
     ]
    },
    {
     "name": "stderr",
     "output_type": "stream",
     "text": [
      "100%|██████████| 844/844 [00:12<00:00, 69.95it/s]\n",
      "  0%|          | 0/844 [00:00<?, ?it/s]"
     ]
    },
    {
     "name": "stdout",
     "output_type": "stream",
     "text": [
      "\n",
      "Epoch training loss is 0.01899249180798282\n",
      "\n",
      "Epoch validation loss is 0.015325546264648438\n",
      "\n",
      "Training epoch 3: \t\n"
     ]
    },
    {
     "name": "stderr",
     "output_type": "stream",
     "text": [
      "100%|██████████| 844/844 [00:12<00:00, 68.59it/s]\n",
      "  0%|          | 0/844 [00:00<?, ?it/s]"
     ]
    },
    {
     "name": "stdout",
     "output_type": "stream",
     "text": [
      "\n",
      "Epoch training loss is 0.014654548247278585\n",
      "\n",
      "Epoch validation loss is 0.01351308822631836\n",
      "\n",
      "Training epoch 4: \t\n"
     ]
    },
    {
     "name": "stderr",
     "output_type": "stream",
     "text": [
      "100%|██████████| 844/844 [00:12<00:00, 69.91it/s]\n",
      "  1%|          | 6/844 [00:00<00:14, 56.70it/s]"
     ]
    },
    {
     "name": "stdout",
     "output_type": "stream",
     "text": [
      "\n",
      "Epoch training loss is 0.013516566199713973\n",
      "\n",
      "Epoch validation loss is 0.012891292572021484\n",
      "\n",
      "Training epoch 5: \t\n"
     ]
    },
    {
     "name": "stderr",
     "output_type": "stream",
     "text": [
      "100%|██████████| 844/844 [00:11<00:00, 70.63it/s]\n",
      "  1%|          | 8/844 [00:00<00:11, 71.30it/s]"
     ]
    },
    {
     "name": "stdout",
     "output_type": "stream",
     "text": [
      "\n",
      "Epoch training loss is 0.013104976635973601\n",
      "\n",
      "Epoch validation loss is 0.012750625610351562\n",
      "\n",
      "Training epoch 6: \t\n"
     ]
    },
    {
     "name": "stderr",
     "output_type": "stream",
     "text": [
      "100%|██████████| 844/844 [00:11<00:00, 71.62it/s]\n",
      "  1%|          | 7/844 [00:00<00:12, 68.44it/s]"
     ]
    },
    {
     "name": "stdout",
     "output_type": "stream",
     "text": [
      "\n",
      "Epoch training loss is 0.012925884734962789\n",
      "\n",
      "Epoch validation loss is 0.012596607208251953\n",
      "\n",
      "Training epoch 7: \t\n"
     ]
    },
    {
     "name": "stderr",
     "output_type": "stream",
     "text": [
      "100%|██████████| 844/844 [00:12<00:00, 70.19it/s]\n",
      "  1%|          | 7/844 [00:00<00:12, 68.12it/s]"
     ]
    },
    {
     "name": "stdout",
     "output_type": "stream",
     "text": [
      "\n",
      "Epoch training loss is 0.012833554597827496\n",
      "\n",
      "Epoch validation loss is 0.012470722198486328\n",
      "\n",
      "Training epoch 8: \t\n"
     ]
    },
    {
     "name": "stderr",
     "output_type": "stream",
     "text": [
      "100%|██████████| 844/844 [00:11<00:00, 73.21it/s]\n",
      "  0%|          | 0/844 [00:00<?, ?it/s]"
     ]
    },
    {
     "name": "stdout",
     "output_type": "stream",
     "text": [
      "\n",
      "Epoch training loss is 0.012776144307936537\n",
      "\n",
      "Epoch validation loss is 0.012445449829101562\n",
      "\n",
      "Training epoch 9: \t\n"
     ]
    },
    {
     "name": "stderr",
     "output_type": "stream",
     "text": [
      "100%|██████████| 844/844 [00:11<00:00, 71.42it/s]\n",
      "  1%|          | 7/844 [00:00<00:13, 64.38it/s]"
     ]
    },
    {
     "name": "stdout",
     "output_type": "stream",
     "text": [
      "\n",
      "Epoch training loss is 0.012741875309514773\n",
      "\n",
      "Epoch validation loss is 0.012534141540527344\n",
      "\n",
      "Training epoch 10: \t\n"
     ]
    },
    {
     "name": "stderr",
     "output_type": "stream",
     "text": [
      "100%|██████████| 844/844 [00:11<00:00, 71.16it/s]\n",
      "  1%|          | 7/844 [00:00<00:12, 67.85it/s]"
     ]
    },
    {
     "name": "stdout",
     "output_type": "stream",
     "text": [
      "\n",
      "Epoch training loss is 0.012712108015449126\n",
      "\n",
      "Epoch validation loss is 0.012415409088134766\n",
      "\n",
      "Training epoch 11: \t\n"
     ]
    },
    {
     "name": "stderr",
     "output_type": "stream",
     "text": [
      "100%|██████████| 844/844 [00:12<00:00, 68.80it/s]\n",
      "  1%|          | 7/844 [00:00<00:12, 64.98it/s]"
     ]
    },
    {
     "name": "stdout",
     "output_type": "stream",
     "text": [
      "\n",
      "Epoch training loss is 0.012692347522030509\n",
      "\n",
      "Epoch validation loss is 0.012438774108886719\n",
      "\n",
      "Training epoch 12: \t\n"
     ]
    },
    {
     "name": "stderr",
     "output_type": "stream",
     "text": [
      "100%|██████████| 844/844 [00:12<00:00, 68.43it/s]\n",
      "  0%|          | 0/844 [00:00<?, ?it/s]"
     ]
    },
    {
     "name": "stdout",
     "output_type": "stream",
     "text": [
      "\n",
      "Epoch training loss is 0.01268062320365725\n",
      "\n",
      "Epoch validation loss is 0.0124359130859375\n",
      "\n",
      "Training epoch 13: \t\n"
     ]
    },
    {
     "name": "stderr",
     "output_type": "stream",
     "text": [
      "100%|██████████| 844/844 [00:11<00:00, 72.35it/s]\n",
      "  0%|          | 0/844 [00:00<?, ?it/s]"
     ]
    },
    {
     "name": "stdout",
     "output_type": "stream",
     "text": [
      "\n",
      "Epoch training loss is 0.012657852534434242\n",
      "\n",
      "Epoch validation loss is 0.012362003326416016\n",
      "\n",
      "Training epoch 14: \t\n"
     ]
    },
    {
     "name": "stderr",
     "output_type": "stream",
     "text": [
      "100%|██████████| 844/844 [00:11<00:00, 73.46it/s]\n",
      "  0%|          | 0/844 [00:00<?, ?it/s]"
     ]
    },
    {
     "name": "stdout",
     "output_type": "stream",
     "text": [
      "\n",
      "Epoch training loss is 0.012652537269049911\n",
      "\n",
      "Epoch validation loss is 0.012404441833496094\n",
      "\n",
      "Training epoch 15: \t\n"
     ]
    },
    {
     "name": "stderr",
     "output_type": "stream",
     "text": [
      "100%|██████████| 844/844 [00:12<00:00, 69.65it/s]\n",
      "  1%|          | 6/844 [00:00<00:14, 57.28it/s]"
     ]
    },
    {
     "name": "stdout",
     "output_type": "stream",
     "text": [
      "\n",
      "Epoch training loss is 0.01263603101974415\n",
      "\n",
      "Epoch validation loss is 0.01233053207397461\n",
      "\n",
      "Training epoch 16: \t\n"
     ]
    },
    {
     "name": "stderr",
     "output_type": "stream",
     "text": [
      "100%|██████████| 844/844 [00:17<00:00, 48.98it/s]\n",
      "  0%|          | 0/844 [00:00<?, ?it/s]"
     ]
    },
    {
     "name": "stdout",
     "output_type": "stream",
     "text": [
      "\n",
      "Epoch training loss is 0.012630516883886255\n",
      "\n",
      "Epoch validation loss is 0.012413501739501953\n",
      "\n",
      "Training epoch 17: \t\n"
     ]
    },
    {
     "name": "stderr",
     "output_type": "stream",
     "text": [
      "100%|██████████| 844/844 [00:13<00:00, 64.67it/s]\n",
      "  0%|          | 0/844 [00:00<?, ?it/s]"
     ]
    },
    {
     "name": "stdout",
     "output_type": "stream",
     "text": [
      "\n",
      "Epoch training loss is 0.0126237552877851\n",
      "\n",
      "Epoch validation loss is 0.012329578399658203\n",
      "\n",
      "Training epoch 18: \t\n"
     ]
    },
    {
     "name": "stderr",
     "output_type": "stream",
     "text": [
      "100%|██████████| 844/844 [00:11<00:00, 73.26it/s]\n",
      "  0%|          | 0/844 [00:00<?, ?it/s]"
     ]
    },
    {
     "name": "stdout",
     "output_type": "stream",
     "text": [
      "\n",
      "Epoch training loss is 0.01262191121612115\n",
      "\n",
      "Epoch validation loss is 0.012316703796386719\n",
      "\n",
      "Training epoch 19: \t\n"
     ]
    },
    {
     "name": "stderr",
     "output_type": "stream",
     "text": [
      "100%|██████████| 844/844 [00:11<00:00, 72.38it/s]\n",
      "  1%|          | 7/844 [00:00<00:12, 65.10it/s]"
     ]
    },
    {
     "name": "stdout",
     "output_type": "stream",
     "text": [
      "\n",
      "Epoch training loss is 0.012603425301646735\n",
      "\n",
      "Epoch validation loss is 0.012359142303466797\n",
      "\n",
      "Training epoch 20: \t\n"
     ]
    },
    {
     "name": "stderr",
     "output_type": "stream",
     "text": [
      "100%|██████████| 844/844 [00:11<00:00, 73.80it/s]\n",
      "  0%|          | 0/844 [00:00<?, ?it/s]"
     ]
    },
    {
     "name": "stdout",
     "output_type": "stream",
     "text": [
      "\n",
      "Epoch training loss is 0.012604898751064499\n",
      "\n",
      "Epoch validation loss is 0.012406349182128906\n",
      "\n",
      "Training epoch 21: \t\n"
     ]
    },
    {
     "name": "stderr",
     "output_type": "stream",
     "text": [
      "100%|██████████| 844/844 [00:12<00:00, 68.03it/s]\n",
      "  0%|          | 0/844 [00:00<?, ?it/s]"
     ]
    },
    {
     "name": "stdout",
     "output_type": "stream",
     "text": [
      "\n",
      "Epoch training loss is 0.012606923614068054\n",
      "\n",
      "Epoch validation loss is 0.012307167053222656\n",
      "\n",
      "Training epoch 22: \t\n"
     ]
    },
    {
     "name": "stderr",
     "output_type": "stream",
     "text": [
      "100%|██████████| 844/844 [00:12<00:00, 67.89it/s]\n",
      "  1%|          | 7/844 [00:00<00:13, 64.30it/s]"
     ]
    },
    {
     "name": "stdout",
     "output_type": "stream",
     "text": [
      "\n",
      "Epoch training loss is 0.012594051270688314\n",
      "\n",
      "Epoch validation loss is 0.012316226959228516\n",
      "\n",
      "Training epoch 23: \t\n"
     ]
    },
    {
     "name": "stderr",
     "output_type": "stream",
     "text": [
      "100%|██████████| 844/844 [00:11<00:00, 73.14it/s]\n",
      "  1%|          | 7/844 [00:00<00:12, 66.46it/s]"
     ]
    },
    {
     "name": "stdout",
     "output_type": "stream",
     "text": [
      "\n",
      "Epoch training loss is 0.012603199312472231\n",
      "\n",
      "Epoch validation loss is 0.012351512908935547\n",
      "\n",
      "Training epoch 24: \t\n"
     ]
    },
    {
     "name": "stderr",
     "output_type": "stream",
     "text": [
      "100%|██████████| 844/844 [00:11<00:00, 72.71it/s]\n",
      "  1%|          | 6/844 [00:00<00:13, 59.99it/s]"
     ]
    },
    {
     "name": "stdout",
     "output_type": "stream",
     "text": [
      "\n",
      "Epoch training loss is 0.012598815122486855\n",
      "\n",
      "Epoch validation loss is 0.012389659881591797\n",
      "\n",
      "Training epoch 25: \t\n"
     ]
    },
    {
     "name": "stderr",
     "output_type": "stream",
     "text": [
      "100%|██████████| 844/844 [00:11<00:00, 71.55it/s]\n",
      "  1%|          | 7/844 [00:00<00:12, 66.69it/s]"
     ]
    },
    {
     "name": "stdout",
     "output_type": "stream",
     "text": [
      "\n",
      "Epoch training loss is 0.012598932636857598\n",
      "\n",
      "Epoch validation loss is 0.012475967407226562\n",
      "\n",
      "Training epoch 26: \t\n"
     ]
    },
    {
     "name": "stderr",
     "output_type": "stream",
     "text": [
      "100%|██████████| 844/844 [00:11<00:00, 72.62it/s]\n",
      "  0%|          | 0/844 [00:00<?, ?it/s]"
     ]
    },
    {
     "name": "stdout",
     "output_type": "stream",
     "text": [
      "\n",
      "Epoch training loss is 0.012590995897049023\n",
      "\n",
      "Epoch validation loss is 0.012395858764648438\n",
      "\n",
      "Training epoch 27: \t\n"
     ]
    },
    {
     "name": "stderr",
     "output_type": "stream",
     "text": [
      "100%|██████████| 844/844 [00:11<00:00, 72.61it/s]\n",
      "  0%|          | 0/844 [00:00<?, ?it/s]"
     ]
    },
    {
     "name": "stdout",
     "output_type": "stream",
     "text": [
      "\n",
      "Epoch training loss is 0.012599818514421653\n",
      "\n",
      "Epoch validation loss is 0.012475013732910156\n",
      "\n",
      "Training epoch 28: \t\n"
     ]
    },
    {
     "name": "stderr",
     "output_type": "stream",
     "text": [
      "100%|██████████| 844/844 [00:11<00:00, 71.13it/s]\n",
      "  1%|          | 7/844 [00:00<00:12, 64.89it/s]"
     ]
    },
    {
     "name": "stdout",
     "output_type": "stream",
     "text": [
      "\n",
      "Epoch training loss is 0.012589215102353932\n",
      "\n",
      "Epoch validation loss is 0.012320995330810547\n",
      "\n",
      "Training epoch 29: \t\n"
     ]
    },
    {
     "name": "stderr",
     "output_type": "stream",
     "text": [
      "100%|██████████| 844/844 [00:12<00:00, 67.28it/s]\n",
      "  1%|          | 6/844 [00:00<00:14, 59.35it/s]"
     ]
    },
    {
     "name": "stdout",
     "output_type": "stream",
     "text": [
      "\n",
      "Epoch training loss is 0.012595931500620187\n",
      "\n",
      "Epoch validation loss is 0.012363910675048828\n",
      "\n",
      "Training epoch 30: \t\n"
     ]
    },
    {
     "name": "stderr",
     "output_type": "stream",
     "text": [
      "100%|██████████| 844/844 [00:11<00:00, 71.26it/s]\n",
      "  1%|          | 7/844 [00:00<00:13, 61.26it/s]"
     ]
    },
    {
     "name": "stdout",
     "output_type": "stream",
     "text": [
      "\n",
      "Epoch training loss is 0.012592767652177133\n",
      "\n",
      "Epoch validation loss is 0.012409210205078125\n",
      "\n",
      "Training epoch 31: \t\n"
     ]
    },
    {
     "name": "stderr",
     "output_type": "stream",
     "text": [
      "100%|██████████| 844/844 [00:11<00:00, 72.47it/s]\n",
      "  0%|          | 0/844 [00:00<?, ?it/s]"
     ]
    },
    {
     "name": "stdout",
     "output_type": "stream",
     "text": [
      "\n",
      "Epoch training loss is 0.012601590269549764\n",
      "\n",
      "Epoch validation loss is 0.012333869934082031\n",
      "\n",
      "Training epoch 32: \t\n"
     ]
    },
    {
     "name": "stderr",
     "output_type": "stream",
     "text": [
      "100%|██████████| 844/844 [00:11<00:00, 71.57it/s]\n",
      "  0%|          | 0/844 [00:00<?, ?it/s]"
     ]
    },
    {
     "name": "stdout",
     "output_type": "stream",
     "text": [
      "\n",
      "Epoch training loss is 0.012594024151987375\n",
      "\n",
      "Epoch validation loss is 0.012296676635742188\n",
      "\n",
      "Training epoch 33: \t\n"
     ]
    },
    {
     "name": "stderr",
     "output_type": "stream",
     "text": [
      "100%|██████████| 844/844 [00:11<00:00, 71.12it/s]\n",
      "  0%|          | 0/844 [00:00<?, ?it/s]"
     ]
    },
    {
     "name": "stdout",
     "output_type": "stream",
     "text": [
      "\n",
      "Epoch training loss is 0.012584740516698755\n",
      "\n",
      "Epoch validation loss is 0.012310504913330078\n",
      "\n",
      "Training epoch 34: \t\n"
     ]
    },
    {
     "name": "stderr",
     "output_type": "stream",
     "text": [
      "100%|██████████| 844/844 [00:12<00:00, 69.98it/s]\n",
      "  1%|          | 7/844 [00:00<00:12, 66.99it/s]"
     ]
    },
    {
     "name": "stdout",
     "output_type": "stream",
     "text": [
      "\n",
      "Epoch training loss is 0.012598227550633145\n",
      "\n",
      "Epoch validation loss is 0.012392520904541016\n",
      "\n",
      "Training epoch 35: \t\n"
     ]
    },
    {
     "name": "stderr",
     "output_type": "stream",
     "text": [
      "100%|██████████| 844/844 [00:12<00:00, 70.15it/s]\n",
      "  1%|          | 7/844 [00:00<00:13, 61.66it/s]"
     ]
    },
    {
     "name": "stdout",
     "output_type": "stream",
     "text": [
      "\n",
      "Epoch training loss is 0.012599402694340565\n",
      "\n",
      "Epoch validation loss is 0.012353897094726562\n",
      "\n",
      "Training epoch 36: \t\n"
     ]
    },
    {
     "name": "stderr",
     "output_type": "stream",
     "text": [
      "100%|██████████| 844/844 [00:11<00:00, 71.53it/s]\n",
      "  1%|          | 7/844 [00:00<00:13, 62.76it/s]"
     ]
    },
    {
     "name": "stdout",
     "output_type": "stream",
     "text": [
      "\n",
      "Epoch training loss is 0.012597079525626666\n",
      "\n",
      "Epoch validation loss is 0.012294769287109375\n",
      "\n",
      "Training epoch 37: \t\n"
     ]
    },
    {
     "name": "stderr",
     "output_type": "stream",
     "text": [
      "100%|██████████| 844/844 [00:11<00:00, 72.40it/s]\n",
      "  1%|          | 6/844 [00:00<00:14, 59.59it/s]"
     ]
    },
    {
     "name": "stdout",
     "output_type": "stream",
     "text": [
      "\n",
      "Epoch training loss is 0.012593065957887478\n",
      "\n",
      "Epoch validation loss is 0.012298583984375\n",
      "\n",
      "Training epoch 38: \t\n"
     ]
    },
    {
     "name": "stderr",
     "output_type": "stream",
     "text": [
      "100%|██████████| 844/844 [00:17<00:00, 48.30it/s]\n",
      "  0%|          | 0/844 [00:00<?, ?it/s]"
     ]
    },
    {
     "name": "stdout",
     "output_type": "stream",
     "text": [
      "\n",
      "Epoch training loss is 0.012602277276640254\n",
      "\n",
      "Epoch validation loss is 0.012348651885986328\n",
      "\n",
      "Training epoch 39: \t\n"
     ]
    },
    {
     "name": "stderr",
     "output_type": "stream",
     "text": [
      "100%|██████████| 844/844 [00:12<00:00, 69.53it/s]\n",
      "  0%|          | 0/844 [00:00<?, ?it/s]"
     ]
    },
    {
     "name": "stdout",
     "output_type": "stream",
     "text": [
      "\n",
      "Epoch training loss is 0.012589423012394475\n",
      "\n",
      "Epoch validation loss is 0.012332439422607422\n",
      "\n",
      "Training epoch 40: \t\n"
     ]
    },
    {
     "name": "stderr",
     "output_type": "stream",
     "text": [
      "100%|██████████| 844/844 [00:12<00:00, 69.22it/s]\n",
      "  0%|          | 0/844 [00:00<?, ?it/s]"
     ]
    },
    {
     "name": "stdout",
     "output_type": "stream",
     "text": [
      "\n",
      "Epoch training loss is 0.01260137331994224\n",
      "\n",
      "Epoch validation loss is 0.012301921844482422\n",
      "\n",
      "Training epoch 41: \t\n"
     ]
    },
    {
     "name": "stderr",
     "output_type": "stream",
     "text": [
      "100%|██████████| 844/844 [00:12<00:00, 68.07it/s]\n",
      "  1%|          | 5/844 [00:00<00:17, 48.95it/s]"
     ]
    },
    {
     "name": "stdout",
     "output_type": "stream",
     "text": [
      "\n",
      "Epoch training loss is 0.01259905919079532\n",
      "\n",
      "Epoch validation loss is 0.012362480163574219\n",
      "\n",
      "Training epoch 42: \t\n"
     ]
    },
    {
     "name": "stderr",
     "output_type": "stream",
     "text": [
      "100%|██████████| 844/844 [00:13<00:00, 63.71it/s]\n",
      "  0%|          | 0/844 [00:00<?, ?it/s]"
     ]
    },
    {
     "name": "stdout",
     "output_type": "stream",
     "text": [
      "\n",
      "Epoch training loss is 0.012593436580133665\n",
      "\n",
      "Epoch validation loss is 0.012450695037841797\n",
      "\n",
      "Training epoch 43: \t\n"
     ]
    },
    {
     "name": "stderr",
     "output_type": "stream",
     "text": [
      "100%|██████████| 844/844 [00:15<00:00, 54.71it/s]\n"
     ]
    },
    {
     "name": "stdout",
     "output_type": "stream",
     "text": [
      "\n",
      "Epoch training loss is 0.012599140546898141\n"
     ]
    },
    {
     "name": "stderr",
     "output_type": "stream",
     "text": [
      "  0%|          | 4/844 [00:00<00:21, 38.86it/s]"
     ]
    },
    {
     "name": "stdout",
     "output_type": "stream",
     "text": [
      "\n",
      "Epoch validation loss is 0.012293815612792969\n",
      "\n",
      "Training epoch 44: \t\n"
     ]
    },
    {
     "name": "stderr",
     "output_type": "stream",
     "text": [
      "100%|██████████| 844/844 [00:12<00:00, 68.15it/s]\n",
      "  1%|          | 8/844 [00:00<00:11, 75.29it/s]"
     ]
    },
    {
     "name": "stdout",
     "output_type": "stream",
     "text": [
      "\n",
      "Epoch training loss is 0.012602937165029806\n",
      "\n",
      "Epoch validation loss is 0.01252889633178711\n",
      "\n",
      "Training epoch 45: \t\n"
     ]
    },
    {
     "name": "stderr",
     "output_type": "stream",
     "text": [
      "100%|██████████| 844/844 [00:12<00:00, 69.21it/s]\n",
      "  0%|          | 0/844 [00:00<?, ?it/s]"
     ]
    },
    {
     "name": "stdout",
     "output_type": "stream",
     "text": [
      "\n",
      "Epoch training loss is 0.012598571054178392\n",
      "\n",
      "Epoch validation loss is 0.012377738952636719\n",
      "\n",
      "Training epoch 46: \t\n"
     ]
    },
    {
     "name": "stderr",
     "output_type": "stream",
     "text": [
      "100%|██████████| 844/844 [00:12<00:00, 68.74it/s]\n",
      "  1%|          | 7/844 [00:00<00:12, 67.93it/s]"
     ]
    },
    {
     "name": "stdout",
     "output_type": "stream",
     "text": [
      "\n",
      "Epoch training loss is 0.012599746197885812\n",
      "\n",
      "Epoch validation loss is 0.012298107147216797\n",
      "\n",
      "Training epoch 47: \t\n"
     ]
    },
    {
     "name": "stderr",
     "output_type": "stream",
     "text": [
      "100%|██████████| 844/844 [00:12<00:00, 67.00it/s]\n",
      "  1%|          | 8/844 [00:00<00:11, 73.66it/s]"
     ]
    },
    {
     "name": "stdout",
     "output_type": "stream",
     "text": [
      "\n",
      "Epoch training loss is 0.012600722471119668\n",
      "\n",
      "Epoch validation loss is 0.012354850769042969\n",
      "\n",
      "Training epoch 48: \t\n"
     ]
    },
    {
     "name": "stderr",
     "output_type": "stream",
     "text": [
      "100%|██████████| 844/844 [00:12<00:00, 65.19it/s]\n",
      "  0%|          | 0/844 [00:00<?, ?it/s]"
     ]
    },
    {
     "name": "stdout",
     "output_type": "stream",
     "text": [
      "\n",
      "Epoch training loss is 0.012590679512204717\n",
      "\n",
      "Epoch validation loss is 0.012325286865234375\n",
      "\n",
      "Training epoch 49: \t\n"
     ]
    },
    {
     "name": "stderr",
     "output_type": "stream",
     "text": [
      "100%|██████████| 844/844 [00:14<00:00, 56.89it/s]\n",
      "  0%|          | 0/844 [00:00<?, ?it/s]"
     ]
    },
    {
     "name": "stdout",
     "output_type": "stream",
     "text": [
      "\n",
      "Epoch training loss is 0.012611588030629813\n",
      "\n",
      "Epoch validation loss is 0.012562751770019531\n",
      "\n",
      "Training epoch 50: \t\n"
     ]
    },
    {
     "name": "stderr",
     "output_type": "stream",
     "text": [
      "100%|██████████| 844/844 [00:14<00:00, 57.43it/s]\n",
      "  1%|          | 7/844 [00:00<00:12, 68.09it/s]"
     ]
    },
    {
     "name": "stdout",
     "output_type": "stream",
     "text": [
      "\n",
      "Epoch training loss is 0.012595795907115485\n",
      "\n",
      "Epoch validation loss is 0.012360095977783203\n",
      "\n",
      "Training epoch 51: \t\n"
     ]
    },
    {
     "name": "stderr",
     "output_type": "stream",
     "text": [
      "100%|██████████| 844/844 [00:10<00:00, 76.96it/s]\n",
      "  1%|          | 6/844 [00:00<00:14, 59.10it/s]"
     ]
    },
    {
     "name": "stdout",
     "output_type": "stream",
     "text": [
      "\n",
      "Epoch training loss is 0.01260436541661267\n",
      "\n",
      "Epoch validation loss is 0.012505054473876953\n",
      "\n",
      "Training epoch 52: \t\n"
     ]
    },
    {
     "name": "stderr",
     "output_type": "stream",
     "text": [
      "100%|██████████| 844/844 [00:10<00:00, 76.86it/s]\n",
      "  1%|          | 8/844 [00:00<00:11, 72.75it/s]"
     ]
    },
    {
     "name": "stdout",
     "output_type": "stream",
     "text": [
      "\n",
      "Epoch training loss is 0.012600342809306503\n",
      "\n",
      "Epoch validation loss is 0.012354373931884766\n",
      "\n",
      "Training epoch 53: \t\n"
     ]
    },
    {
     "name": "stderr",
     "output_type": "stream",
     "text": [
      "100%|██████████| 844/844 [00:11<00:00, 75.85it/s]\n",
      "  0%|          | 0/844 [00:00<?, ?it/s]"
     ]
    },
    {
     "name": "stdout",
     "output_type": "stream",
     "text": [
      "\n",
      "Epoch training loss is 0.012606869376666174\n",
      "\n",
      "Epoch validation loss is 0.012351036071777344\n",
      "\n",
      "Training epoch 54: \t\n"
     ]
    },
    {
     "name": "stderr",
     "output_type": "stream",
     "text": [
      "100%|██████████| 844/844 [00:11<00:00, 76.54it/s]\n",
      "  1%|          | 7/844 [00:00<00:12, 69.19it/s]"
     ]
    },
    {
     "name": "stdout",
     "output_type": "stream",
     "text": [
      "\n",
      "Epoch training loss is 0.012596790259483301\n",
      "\n",
      "Epoch validation loss is 0.01244497299194336\n",
      "\n",
      "Training epoch 55: \t\n"
     ]
    },
    {
     "name": "stderr",
     "output_type": "stream",
     "text": [
      "100%|██████████| 844/844 [00:11<00:00, 74.86it/s]\n",
      "  1%|          | 7/844 [00:00<00:12, 66.74it/s]"
     ]
    },
    {
     "name": "stdout",
     "output_type": "stream",
     "text": [
      "\n",
      "Epoch training loss is 0.01260370552822312\n",
      "\n",
      "Epoch validation loss is 0.01232147216796875\n",
      "\n",
      "Training epoch 56: \t\n"
     ]
    },
    {
     "name": "stderr",
     "output_type": "stream",
     "text": [
      "100%|██████████| 844/844 [00:11<00:00, 75.87it/s]\n",
      "  1%|          | 7/844 [00:00<00:12, 64.39it/s]"
     ]
    },
    {
     "name": "stdout",
     "output_type": "stream",
     "text": [
      "\n",
      "Epoch training loss is 0.012596844496885182\n",
      "\n",
      "Epoch validation loss is 0.012295246124267578\n",
      "\n",
      "Training epoch 57: \t\n"
     ]
    },
    {
     "name": "stderr",
     "output_type": "stream",
     "text": [
      "100%|██████████| 844/844 [00:10<00:00, 77.12it/s]\n",
      "  1%|          | 8/844 [00:00<00:11, 71.07it/s]"
     ]
    },
    {
     "name": "stdout",
     "output_type": "stream",
     "text": [
      "\n",
      "Epoch training loss is 0.012608623052660323\n",
      "\n",
      "Epoch validation loss is 0.012351036071777344\n",
      "\n",
      "Training epoch 58: \t\n"
     ]
    },
    {
     "name": "stderr",
     "output_type": "stream",
     "text": [
      "100%|██████████| 844/844 [00:10<00:00, 78.05it/s]\n",
      "  1%|          | 8/844 [00:00<00:11, 71.07it/s]"
     ]
    },
    {
     "name": "stdout",
     "output_type": "stream",
     "text": [
      "\n",
      "Epoch training loss is 0.012603343945543913\n",
      "\n",
      "Epoch validation loss is 0.012306690216064453\n",
      "\n",
      "Training epoch 59: \t\n"
     ]
    },
    {
     "name": "stderr",
     "output_type": "stream",
     "text": [
      "100%|██████████| 844/844 [00:11<00:00, 76.34it/s]\n",
      "  1%|          | 7/844 [00:00<00:13, 62.49it/s]"
     ]
    },
    {
     "name": "stdout",
     "output_type": "stream",
     "text": [
      "\n",
      "Epoch training loss is 0.012610295372551652\n",
      "\n",
      "Epoch validation loss is 0.012372970581054688\n",
      "\n",
      "Training epoch 60: \t\n"
     ]
    },
    {
     "name": "stderr",
     "output_type": "stream",
     "text": [
      "100%|██████████| 844/844 [00:10<00:00, 77.22it/s]\n",
      "  1%|          | 7/844 [00:00<00:12, 69.60it/s]"
     ]
    },
    {
     "name": "stdout",
     "output_type": "stream",
     "text": [
      "\n",
      "Epoch training loss is 0.012614751879072867\n",
      "\n",
      "Epoch validation loss is 0.012331962585449219\n",
      "\n",
      "Training epoch 61: \t\n"
     ]
    },
    {
     "name": "stderr",
     "output_type": "stream",
     "text": [
      "100%|██████████| 844/844 [00:10<00:00, 77.31it/s]\n",
      "  1%|          | 7/844 [00:00<00:12, 66.23it/s]"
     ]
    },
    {
     "name": "stdout",
     "output_type": "stream",
     "text": [
      "\n",
      "Epoch training loss is 0.012602349593176096\n",
      "\n",
      "Epoch validation loss is 0.012371540069580078\n",
      "\n",
      "Training epoch 62: \t\n"
     ]
    },
    {
     "name": "stderr",
     "output_type": "stream",
     "text": [
      "100%|██████████| 844/844 [00:11<00:00, 75.58it/s]\n",
      "  1%|          | 7/844 [00:00<00:12, 67.81it/s]"
     ]
    },
    {
     "name": "stdout",
     "output_type": "stream",
     "text": [
      "\n",
      "Epoch training loss is 0.012612636620399511\n",
      "\n",
      "Epoch validation loss is 0.012296199798583984\n",
      "\n",
      "Training epoch 63: \t\n"
     ]
    },
    {
     "name": "stderr",
     "output_type": "stream",
     "text": [
      "100%|██████████| 844/844 [00:10<00:00, 77.33it/s]\n",
      "  1%|          | 7/844 [00:00<00:12, 67.27it/s]"
     ]
    },
    {
     "name": "stdout",
     "output_type": "stream",
     "text": [
      "\n",
      "Epoch training loss is 0.012608894239669727\n",
      "\n",
      "Epoch validation loss is 0.012433052062988281\n",
      "\n",
      "Training epoch 64: \t\n"
     ]
    },
    {
     "name": "stderr",
     "output_type": "stream",
     "text": [
      "100%|██████████| 844/844 [00:11<00:00, 76.58it/s]\n",
      "  0%|          | 0/844 [00:00<?, ?it/s]"
     ]
    },
    {
     "name": "stdout",
     "output_type": "stream",
     "text": [
      "\n",
      "Epoch training loss is 0.012608885200102747\n",
      "\n",
      "Epoch validation loss is 0.012292861938476562\n",
      "\n",
      "Training epoch 65: \t\n"
     ]
    },
    {
     "name": "stderr",
     "output_type": "stream",
     "text": [
      "100%|██████████| 844/844 [00:11<00:00, 76.32it/s]\n",
      "  1%|          | 7/844 [00:00<00:12, 67.22it/s]"
     ]
    },
    {
     "name": "stdout",
     "output_type": "stream",
     "text": [
      "\n",
      "Epoch training loss is 0.012613178994418321\n",
      "\n",
      "Epoch validation loss is 0.012462139129638672\n",
      "\n",
      "Training epoch 66: \t\n"
     ]
    },
    {
     "name": "stderr",
     "output_type": "stream",
     "text": [
      "100%|██████████| 844/844 [00:11<00:00, 76.64it/s]\n",
      "  1%|          | 7/844 [00:00<00:12, 69.09it/s]"
     ]
    },
    {
     "name": "stdout",
     "output_type": "stream",
     "text": [
      "\n",
      "Epoch training loss is 0.012608803843999926\n",
      "\n",
      "Epoch validation loss is 0.012402534484863281\n",
      "\n",
      "Training epoch 67: \t\n"
     ]
    },
    {
     "name": "stderr",
     "output_type": "stream",
     "text": [
      "100%|██████████| 844/844 [00:11<00:00, 74.39it/s]\n",
      "  1%|          | 7/844 [00:00<00:12, 69.63it/s]"
     ]
    },
    {
     "name": "stdout",
     "output_type": "stream",
     "text": [
      "\n",
      "Epoch training loss is 0.012606444517018105\n",
      "\n",
      "Epoch validation loss is 0.012332916259765625\n",
      "\n",
      "Training epoch 68: \t\n"
     ]
    },
    {
     "name": "stderr",
     "output_type": "stream",
     "text": [
      "100%|██████████| 844/844 [00:11<00:00, 75.94it/s]\n",
      "  1%|          | 8/844 [00:00<00:11, 71.33it/s]"
     ]
    },
    {
     "name": "stdout",
     "output_type": "stream",
     "text": [
      "\n",
      "Epoch training loss is 0.012614941709979451\n",
      "\n",
      "Epoch validation loss is 0.012318611145019531\n",
      "\n",
      "Training epoch 69: \t\n"
     ]
    },
    {
     "name": "stderr",
     "output_type": "stream",
     "text": [
      "100%|██████████| 844/844 [00:10<00:00, 77.14it/s]\n",
      "  1%|          | 7/844 [00:00<00:12, 68.22it/s]"
     ]
    },
    {
     "name": "stdout",
     "output_type": "stream",
     "text": [
      "\n",
      "Epoch training loss is 0.012611099894012885\n",
      "\n",
      "Epoch validation loss is 0.012296199798583984\n",
      "\n",
      "Training epoch 70: \t\n"
     ]
    },
    {
     "name": "stderr",
     "output_type": "stream",
     "text": [
      "100%|██████████| 844/844 [00:10<00:00, 77.20it/s]\n",
      "  0%|          | 0/844 [00:00<?, ?it/s]"
     ]
    },
    {
     "name": "stdout",
     "output_type": "stream",
     "text": [
      "\n",
      "Epoch training loss is 0.012616541713334938\n",
      "\n",
      "Epoch validation loss is 0.012331485748291016\n",
      "\n",
      "Training epoch 71: \t\n"
     ]
    },
    {
     "name": "stderr",
     "output_type": "stream",
     "text": [
      "100%|██████████| 844/844 [00:10<00:00, 77.71it/s]\n",
      "  1%|          | 8/844 [00:00<00:11, 73.61it/s]"
     ]
    },
    {
     "name": "stdout",
     "output_type": "stream",
     "text": [
      "\n",
      "Epoch training loss is 0.01261958804740725\n",
      "\n",
      "Epoch validation loss is 0.01236581802368164\n",
      "\n",
      "Training epoch 72: \t\n"
     ]
    },
    {
     "name": "stderr",
     "output_type": "stream",
     "text": [
      "100%|██████████| 844/844 [00:10<00:00, 77.47it/s]\n",
      "  1%|          | 8/844 [00:00<00:11, 72.23it/s]"
     ]
    },
    {
     "name": "stdout",
     "output_type": "stream",
     "text": [
      "\n",
      "Epoch training loss is 0.012621007259423134\n",
      "\n",
      "Epoch validation loss is 0.01232004165649414\n",
      "\n",
      "Training epoch 73: \t\n"
     ]
    },
    {
     "name": "stderr",
     "output_type": "stream",
     "text": [
      "100%|██████████| 844/844 [00:11<00:00, 76.69it/s]\n",
      "  0%|          | 0/844 [00:00<?, ?it/s]"
     ]
    },
    {
     "name": "stdout",
     "output_type": "stream",
     "text": [
      "\n",
      "Epoch training loss is 0.012609743958965861\n",
      "\n",
      "Epoch validation loss is 0.012318134307861328\n",
      "\n",
      "Training epoch 74: \t\n"
     ]
    },
    {
     "name": "stderr",
     "output_type": "stream",
     "text": [
      "100%|██████████| 844/844 [00:10<00:00, 77.07it/s]\n",
      "  1%|          | 6/844 [00:00<00:14, 59.49it/s]"
     ]
    },
    {
     "name": "stdout",
     "output_type": "stream",
     "text": [
      "\n",
      "Epoch training loss is 0.012615809508409546\n",
      "\n",
      "Epoch validation loss is 0.012431144714355469\n",
      "\n",
      "Training epoch 75: \t\n"
     ]
    },
    {
     "name": "stderr",
     "output_type": "stream",
     "text": [
      "100%|██████████| 844/844 [00:12<00:00, 65.92it/s]\n",
      "  1%|          | 7/844 [00:00<00:12, 66.96it/s]"
     ]
    },
    {
     "name": "stdout",
     "output_type": "stream",
     "text": [
      "\n",
      "Epoch training loss is 0.012620708953712789\n",
      "\n",
      "Epoch validation loss is 0.01233053207397461\n",
      "\n",
      "Training epoch 76: \t\n"
     ]
    },
    {
     "name": "stderr",
     "output_type": "stream",
     "text": [
      "100%|██████████| 844/844 [00:11<00:00, 76.01it/s]\n",
      "  1%|          | 8/844 [00:00<00:11, 69.91it/s]"
     ]
    },
    {
     "name": "stdout",
     "output_type": "stream",
     "text": [
      "\n",
      "Epoch training loss is 0.012616107814119891\n",
      "\n",
      "Epoch validation loss is 0.012412548065185547\n",
      "\n",
      "Training epoch 77: \t\n"
     ]
    },
    {
     "name": "stderr",
     "output_type": "stream",
     "text": [
      "100%|██████████| 844/844 [00:10<00:00, 77.26it/s]\n",
      "  1%|          | 7/844 [00:00<00:12, 68.08it/s]"
     ]
    },
    {
     "name": "stdout",
     "output_type": "stream",
     "text": [
      "\n",
      "Epoch training loss is 0.012620040025756257\n",
      "\n",
      "Epoch validation loss is 0.012490272521972656\n",
      "\n",
      "Training epoch 78: \t\n"
     ]
    },
    {
     "name": "stderr",
     "output_type": "stream",
     "text": [
      "100%|██████████| 844/844 [00:10<00:00, 77.23it/s]\n",
      "  1%|          | 7/844 [00:00<00:13, 60.71it/s]"
     ]
    },
    {
     "name": "stdout",
     "output_type": "stream",
     "text": [
      "\n",
      "Epoch training loss is 0.012613929278477673\n",
      "\n",
      "Epoch validation loss is 0.012431621551513672\n",
      "\n",
      "Training epoch 79: \t\n"
     ]
    },
    {
     "name": "stderr",
     "output_type": "stream",
     "text": [
      "100%|██████████| 844/844 [00:11<00:00, 75.62it/s]\n",
      "  1%|          | 8/844 [00:00<00:11, 71.33it/s]"
     ]
    },
    {
     "name": "stdout",
     "output_type": "stream",
     "text": [
      "\n",
      "Epoch training loss is 0.01262317675549837\n",
      "\n",
      "Epoch validation loss is 0.012445926666259766\n",
      "\n",
      "Training epoch 80: \t\n"
     ]
    },
    {
     "name": "stderr",
     "output_type": "stream",
     "text": [
      "100%|██████████| 844/844 [00:11<00:00, 76.43it/s]\n",
      "  0%|          | 0/844 [00:00<?, ?it/s]"
     ]
    },
    {
     "name": "stdout",
     "output_type": "stream",
     "text": [
      "\n",
      "Epoch training loss is 0.012624614046648216\n",
      "\n",
      "Epoch validation loss is 0.012359619140625\n",
      "\n",
      "Training epoch 81: \t\n"
     ]
    },
    {
     "name": "stderr",
     "output_type": "stream",
     "text": [
      "100%|██████████| 844/844 [00:10<00:00, 77.81it/s]\n",
      "  0%|          | 0/844 [00:00<?, ?it/s]"
     ]
    },
    {
     "name": "stdout",
     "output_type": "stream",
     "text": [
      "\n",
      "Epoch training loss is 0.01262487619409064\n",
      "\n",
      "Epoch validation loss is 0.012303352355957031\n",
      "\n",
      "Training epoch 82: \t\n"
     ]
    },
    {
     "name": "stderr",
     "output_type": "stream",
     "text": [
      "100%|██████████| 844/844 [00:11<00:00, 76.37it/s]\n",
      "  1%|          | 7/844 [00:00<00:12, 69.47it/s]"
     ]
    },
    {
     "name": "stdout",
     "output_type": "stream",
     "text": [
      "\n",
      "Epoch training loss is 0.012617011770817905\n",
      "\n",
      "Epoch validation loss is 0.012291908264160156\n",
      "\n",
      "Training epoch 83: \t\n"
     ]
    },
    {
     "name": "stderr",
     "output_type": "stream",
     "text": [
      "100%|██████████| 844/844 [00:10<00:00, 76.95it/s]\n",
      "  1%|          | 7/844 [00:00<00:11, 69.91it/s]"
     ]
    },
    {
     "name": "stdout",
     "output_type": "stream",
     "text": [
      "\n",
      "Epoch training loss is 0.01261379368497297\n",
      "\n",
      "Epoch validation loss is 0.012395858764648438\n",
      "\n",
      "Training epoch 84: \t\n"
     ]
    },
    {
     "name": "stderr",
     "output_type": "stream",
     "text": [
      "100%|██████████| 844/844 [00:10<00:00, 77.03it/s]\n",
      "  1%|          | 7/844 [00:00<00:12, 66.83it/s]"
     ]
    },
    {
     "name": "stdout",
     "output_type": "stream",
     "text": [
      "\n",
      "Epoch training loss is 0.01262430670137089\n",
      "\n",
      "Epoch validation loss is 0.01233816146850586\n",
      "\n",
      "Training epoch 85: \t\n"
     ]
    },
    {
     "name": "stderr",
     "output_type": "stream",
     "text": [
      "100%|██████████| 844/844 [00:11<00:00, 76.07it/s]\n",
      "  1%|          | 8/844 [00:00<00:11, 72.28it/s]"
     ]
    },
    {
     "name": "stdout",
     "output_type": "stream",
     "text": [
      "\n",
      "Epoch training loss is 0.012625165460234004\n",
      "\n",
      "Epoch validation loss is 0.01235342025756836\n",
      "\n",
      "Training epoch 86: \t\n"
     ]
    },
    {
     "name": "stderr",
     "output_type": "stream",
     "text": [
      "100%|██████████| 844/844 [00:11<00:00, 75.04it/s]\n",
      "  1%|          | 8/844 [00:00<00:11, 72.81it/s]"
     ]
    },
    {
     "name": "stdout",
     "output_type": "stream",
     "text": [
      "\n",
      "Epoch training loss is 0.012618223072793247\n",
      "\n",
      "Epoch validation loss is 0.01230478286743164\n",
      "\n",
      "Training epoch 87: \t\n"
     ]
    },
    {
     "name": "stderr",
     "output_type": "stream",
     "text": [
      "100%|██████████| 844/844 [00:11<00:00, 76.18it/s]\n",
      "  1%|          | 7/844 [00:00<00:12, 69.06it/s]"
     ]
    },
    {
     "name": "stdout",
     "output_type": "stream",
     "text": [
      "\n",
      "Epoch training loss is 0.012627452470679984\n",
      "\n",
      "Epoch validation loss is 0.012441158294677734\n",
      "\n",
      "Training epoch 88: \t\n"
     ]
    },
    {
     "name": "stderr",
     "output_type": "stream",
     "text": [
      "100%|██████████| 844/844 [00:10<00:00, 77.07it/s]\n",
      "  1%|          | 7/844 [00:00<00:12, 67.25it/s]"
     ]
    },
    {
     "name": "stdout",
     "output_type": "stream",
     "text": [
      "\n",
      "Epoch training loss is 0.012626322524807464\n",
      "\n",
      "Epoch validation loss is 0.012343406677246094\n",
      "\n",
      "Training epoch 89: \t\n"
     ]
    },
    {
     "name": "stderr",
     "output_type": "stream",
     "text": [
      "100%|██████████| 844/844 [00:11<00:00, 72.75it/s]\n",
      "  1%|          | 7/844 [00:00<00:12, 64.45it/s]"
     ]
    },
    {
     "name": "stdout",
     "output_type": "stream",
     "text": [
      "\n",
      "Epoch training loss is 0.012626566593115928\n",
      "\n",
      "Epoch validation loss is 0.012372970581054688\n",
      "\n",
      "Training epoch 90: \t\n"
     ]
    },
    {
     "name": "stderr",
     "output_type": "stream",
     "text": [
      "100%|██████████| 844/844 [00:11<00:00, 76.26it/s]\n",
      "  0%|          | 0/844 [00:00<?, ?it/s]"
     ]
    },
    {
     "name": "stdout",
     "output_type": "stream",
     "text": [
      "\n",
      "Epoch training loss is 0.012630824229163581\n",
      "\n",
      "Epoch validation loss is 0.012341499328613281\n",
      "\n",
      "Training epoch 91: \t\n"
     ]
    },
    {
     "name": "stderr",
     "output_type": "stream",
     "text": [
      "100%|██████████| 844/844 [00:11<00:00, 75.58it/s]\n",
      "  0%|          | 0/844 [00:00<?, ?it/s]"
     ]
    },
    {
     "name": "stdout",
     "output_type": "stream",
     "text": [
      "\n",
      "Epoch training loss is 0.01261847618066869\n",
      "\n",
      "Epoch validation loss is 0.012363910675048828\n",
      "\n",
      "Training epoch 92: \t\n"
     ]
    },
    {
     "name": "stderr",
     "output_type": "stream",
     "text": [
      "100%|██████████| 844/844 [00:11<00:00, 76.21it/s]\n",
      "  0%|          | 0/844 [00:00<?, ?it/s]"
     ]
    },
    {
     "name": "stdout",
     "output_type": "stream",
     "text": [
      "\n",
      "Epoch training loss is 0.012629025355334531\n",
      "\n",
      "Epoch validation loss is 0.012604713439941406\n",
      "\n",
      "Training epoch 93: \t\n"
     ]
    },
    {
     "name": "stderr",
     "output_type": "stream",
     "text": [
      "100%|██████████| 844/844 [00:11<00:00, 73.13it/s]\n",
      "  0%|          | 0/844 [00:00<?, ?it/s]"
     ]
    },
    {
     "name": "stdout",
     "output_type": "stream",
     "text": [
      "\n",
      "Epoch training loss is 0.012627045690165878\n",
      "\n",
      "Epoch validation loss is 0.012332916259765625\n",
      "\n",
      "Training epoch 94: \t\n"
     ]
    },
    {
     "name": "stderr",
     "output_type": "stream",
     "text": [
      "100%|██████████| 844/844 [00:11<00:00, 75.27it/s]\n",
      "  1%|          | 8/844 [00:00<00:12, 69.45it/s]"
     ]
    },
    {
     "name": "stdout",
     "output_type": "stream",
     "text": [
      "\n",
      "Epoch training loss is 0.012627163204536619\n",
      "\n",
      "Epoch validation loss is 0.01241302490234375\n",
      "\n",
      "Training epoch 95: \t\n"
     ]
    },
    {
     "name": "stderr",
     "output_type": "stream",
     "text": [
      "100%|██████████| 844/844 [00:10<00:00, 77.91it/s]\n",
      "  1%|          | 8/844 [00:00<00:11, 70.56it/s]"
     ]
    },
    {
     "name": "stdout",
     "output_type": "stream",
     "text": [
      "\n",
      "Epoch training loss is 0.012631420840584271\n",
      "\n",
      "Epoch validation loss is 0.01244974136352539\n",
      "\n",
      "Training epoch 96: \t\n"
     ]
    },
    {
     "name": "stderr",
     "output_type": "stream",
     "text": [
      "100%|██████████| 844/844 [00:11<00:00, 75.83it/s]\n",
      "  1%|          | 7/844 [00:00<00:12, 66.82it/s]"
     ]
    },
    {
     "name": "stdout",
     "output_type": "stream",
     "text": [
      "\n",
      "Epoch training loss is 0.012625671675984893\n",
      "\n",
      "Epoch validation loss is 0.012326240539550781\n",
      "\n",
      "Training epoch 97: \t\n"
     ]
    },
    {
     "name": "stderr",
     "output_type": "stream",
     "text": [
      "100%|██████████| 844/844 [00:11<00:00, 76.65it/s]\n",
      "  0%|          | 0/844 [00:00<?, ?it/s]"
     ]
    },
    {
     "name": "stdout",
     "output_type": "stream",
     "text": [
      "\n",
      "Epoch training loss is 0.012634431016388663\n",
      "\n",
      "Epoch validation loss is 0.012318611145019531\n",
      "\n",
      "Training epoch 98: \t\n"
     ]
    },
    {
     "name": "stderr",
     "output_type": "stream",
     "text": [
      "100%|██████████| 844/844 [00:11<00:00, 76.45it/s]\n",
      "  1%|          | 6/844 [00:00<00:14, 58.17it/s]"
     ]
    },
    {
     "name": "stdout",
     "output_type": "stream",
     "text": [
      "\n",
      "Epoch training loss is 0.012632623102992633\n",
      "\n",
      "Epoch validation loss is 0.01233530044555664\n",
      "\n",
      "Training epoch 99: \t\n"
     ]
    },
    {
     "name": "stderr",
     "output_type": "stream",
     "text": [
      "100%|██████████| 844/844 [00:11<00:00, 75.88it/s]\n"
     ]
    },
    {
     "name": "stdout",
     "output_type": "stream",
     "text": [
      "\n",
      "Epoch training loss is 0.012632433272086048\n",
      "\n",
      "Epoch validation loss is 0.012366294860839844\n"
     ]
    }
   ],
   "source": [
    "# %% imports\n",
    "# libraries\n",
    "import torch\n",
    "import torch.optim as optim\n",
    "import torch.nn as nn\n",
    "from torch.nn.modules.activation import Tanh, Sigmoid\n",
    "import numpy as np\n",
    "from tqdm import tqdm\n",
    "import matplotlib.pyplot as plt\n",
    "import os\n",
    "import sys\n",
    "import csv\n",
    "\n",
    "# local imports\n",
    "import MNIST_dataloader\n",
    "\n",
    "# %% set torches random seed\n",
    "torch.random.manual_seed(0)\n",
    "\n",
    "# %% preperations\n",
    "# define parameters\n",
    "# %% imports\n",
    "# libraries\n",
    "import torch\n",
    "import numpy as np\n",
    "from tqdm import tqdm\n",
    "import matplotlib.pyplot as plt\n",
    "\n",
    "# local imports\n",
    "import MNIST_dataloader\n",
    "\n",
    "\n",
    "\n",
    "\n",
    "# %% set torches random seed\n",
    "torch.random.manual_seed(0)\n",
    "\n",
    "# %% preperations\n",
    "# define folder locations\n",
    "curr_dir = os.getcwd() #os.path.dirname(os.path.realpath(\"__file__\"))  # working dir\n",
    "data_loc = os.path.join(curr_dir, r'data\\Fast_MRI_Knee\\MNIST\\raw')  # data dir\n",
    "model_path = os.path.join(curr_dir, r'LISTA.pth')  # trained model\n",
    "\n",
    "\n",
    "\n",
    "\n",
    "# %% make LISTA\n",
    "# ISTA parameters\n",
    "# step_size = 0\n",
    "# shrinkage = 0\n",
    "# K = 10\n",
    "# y = torch.zeros(train_loader.dataset.CleanImages.size())\n",
    "\n",
    "class SoftThreshold(nn.Module):\n",
    "    def __init__(self):\n",
    "        super(SoftThreshold,self).__init__()\n",
    "\n",
    "    def forward(self, x: torch.Tensor, thr_lambda=0.5):\n",
    "        '''The commented part is an implementation of soft thresholding. But they recomment another function that propagates the gradient better.'''\n",
    "        assert type(x)==torch.Tensor, \"Soft Thresholding needs a tensor as input\"\n",
    "        self.thr = thr_lambda\n",
    "        # # make |x|<self.thr = 0 \n",
    "        # condition = torch.logical_or(x < self.thr, x > self.thr)\n",
    "        # x = torch.where(condition, x, torch.zeros(x.size()))  # if condition is met, we take x, else we make it 0\n",
    "        # # values must change as well, otherwise it will be a hard threshold\n",
    "        # condition = torch.gt(x, torch.zeros(x.size()))\n",
    "        # out = torch.where(condition, x + self.thr, x - self.thr)\n",
    "        out = x + 1/2 * (torch.sqrt(torch.pow(x-self.thr, 2)+1) - torch.sqrt(torch.pow(x+self.thr, 2)+1))\n",
    "        return out\n",
    "\n",
    "class LISTA(nn.Module):\n",
    "    def __init__(self):\n",
    "        super(LISTA,self).__init__()  \n",
    "        self.shrinkage = nn.parameter.Parameter(torch.ones(1))\n",
    "        self.step = nn.parameter.Parameter(torch.ones(1))\n",
    "\n",
    "        self.l1 = nn.parameter.Parameter(torch.ones(1))\n",
    "        self.l2 = nn.parameter.Parameter(torch.ones(1))\n",
    "        self.l3 = nn.parameter.Parameter(torch.ones(1))\n",
    "        self.lf = nn.parameter.Parameter(torch.ones(1))\n",
    "\n",
    "        self.conv1 = nn.Conv2d(1, 1, kernel_size=[7,7], padding=3, stride=1)  # 32x32->32x32\n",
    "        self.soft_thr1 = SoftThreshold()\n",
    "        self.conv2 = nn.Conv2d(1, 1, kernel_size=[5,5], stride=1, padding=2)  # 32x32->32x32\n",
    "\n",
    "        self.conv3 = nn.Conv2d(1, 1, kernel_size=[7,7], padding=3, stride=1)  # 32x32->32x32\n",
    "        self.soft_thr2 = SoftThreshold()\n",
    "        self.conv4 = nn.Conv2d(1, 1, kernel_size=[5,5], stride=1, padding=2)  # 32x32->32x32\n",
    "\n",
    "        self.conv5 = nn.Conv2d(1, 1, kernel_size=[7,7], padding=3, stride=1)  # 32x32->32x32\n",
    "        self.soft_thr3 = SoftThreshold()\n",
    "        self.conv6 = nn.Conv2d(1, 1, kernel_size=[5,5], stride=1, padding=2)  # 32x32->32x32\n",
    "\n",
    "        self.convf = nn.Conv2d(1, 1, kernel_size=[5,5], stride=1, padding=2)  # 32x32->32x32\n",
    "        self.soft_thrf = SoftThreshold()\n",
    "\n",
    "\n",
    "    def forward(self,x):\n",
    "        x1 = self.conv1(x)\n",
    "        x2 = self.conv2(self.soft_thr1(x1, thr_lambda=self.l1))\n",
    "\n",
    "        x3 = self.conv3(x)\n",
    "        x4 = self.conv4(self.soft_thr2(x3 + x2, thr_lambda=self.l2))\n",
    "\n",
    "        x5 = self.conv5(x)\n",
    "        x6 = self.conv6(self.soft_thr3(x5 + x4, thr_lambda=self.l3))\n",
    "\n",
    "        out = self.convf(x)\n",
    "        out = self.soft_thrf(out + x6, thr_lambda=self.lf)\n",
    "\n",
    "        return out\n",
    "\n",
    "\n",
    "\n",
    "\n",
    "# %% Start training\n",
    "\n",
    "# parameters\n",
    "batch_size = 64\n",
    "epochs = 100\n",
    "lr = 1e-3\n",
    "loss_dict = {'train_loss':[], 'val_loss':[], 'test_loss':[]}\n",
    "accu_dict = {'accu_loss':[], 'accu_loss':[], 'accu_loss':[]}\n",
    "\n",
    "# get dataloader\n",
    "train_loader, test_loader, val_loader = MNIST_dataloader.create_dataloaders(data_loc, batch_size)\n",
    "\n",
    "# set device\n",
    "dtype = torch.float32\n",
    "if torch.cuda.is_available():\n",
    "    device = torch.device('cuda')\n",
    "else:\n",
    "    device = torch.device('cpu')\n",
    "print('Running on: ', device)\n",
    "\n",
    "# create model\n",
    "model = LISTA()\n",
    "model = model.to(device=device)\n",
    "\n",
    "# create the optimizer\n",
    "optimizer = optim.Adam(model.parameters(), lr=lr, eps=1e-08)\n",
    "\n",
    "# choose loss\n",
    "criterion = torch.nn.MSELoss(reduction='mean')\n",
    "\n",
    "# start the training\n",
    "print(\"Training starts now! Good luck guuuurl!\")\n",
    "for e in range(epochs):\n",
    "    print(f\"\\nTraining epoch {e}: \\t\")\n",
    "    mia_loss = 0\n",
    "    for batch_idx,(x_clean, x_noisy, label) in enumerate(tqdm(train_loader)):\n",
    "        # prepare for training\n",
    "        model.train(True)  \n",
    "        optimizer.zero_grad()\n",
    "        # move to gpu if available\n",
    "        x_clean = x_clean.to(device=device, dtype=dtype)\n",
    "        x_noisy = x_noisy.to(device=device, dtype=dtype)\n",
    "        #label = label.to(device=device, dtype=torch.float)  # 32 bits floating reprezentation\n",
    "        # forward pass\n",
    "        out = model(x_noisy)\n",
    "        # backpropagate loss\n",
    "        loss = criterion(out, x_clean)\n",
    "        loss = loss.to(torch.float16)\n",
    "        loss.backward()\n",
    "        mia_loss += loss.item()\n",
    "        optimizer.step()\n",
    "        # update loss dictionary\n",
    "        loss_dict['train_loss'].append(loss.item())\n",
    "\n",
    "    # print epoch loss\n",
    "    print(f\"\\nEpoch training loss is {mia_loss/(batch_idx+1)}\")\n",
    "\n",
    "    with torch.no_grad():  # setting so that no backprop happens during validation\n",
    "        model.eval()  # setting so that no backprop happens during validation\n",
    "        vloss = 0\n",
    "        for (x_clean, x_noisy, labels) in tqdm(val_loader):\n",
    "            x_clean = x_clean.to(device=device, dtype=dtype)\n",
    "            x_noisy = x_noisy.to(device=device, dtype=dtype)\n",
    "            out = model(x_noisy)\n",
    "            vloss += criterion(out, x_clean).to(torch.float16).item()\n",
    "        # update loss dictionary  \n",
    "        loss_dict['val_loss'].append(vloss)\n",
    "        # print validation loss\n",
    "        print(f\"\\nEpoch validation loss is {vloss/len(val_loader)}\")\n",
    "\n",
    "# save trained model\n",
    "torch.save(model.state_dict(), model_path)"
   ]
  },
  {
   "cell_type": "code",
   "execution_count": 12,
   "metadata": {},
   "outputs": [
    {
     "name": "stdout",
     "output_type": "stream",
     "text": [
      "Lambda values found are:  Parameter containing:\n",
      "tensor([0.7673], device='cuda:0', requires_grad=True) Parameter containing:\n",
      "tensor([-0.4157], device='cuda:0', requires_grad=True) Parameter containing:\n",
      "tensor([0.2753], device='cuda:0', requires_grad=True) Parameter containing:\n",
      "tensor([-0.4241], device='cuda:0', requires_grad=True)\n"
     ]
    },
    {
     "ename": "AttributeError",
     "evalue": "'tuple' object has no attribute 'shape'",
     "output_type": "error",
     "traceback": [
      "\u001b[1;31m---------------------------------------------------------------------------\u001b[0m",
      "\u001b[1;31mAttributeError\u001b[0m                            Traceback (most recent call last)",
      "\u001b[1;32m<ipython-input-12-c5441590e286>\u001b[0m in \u001b[0;36m<module>\u001b[1;34m\u001b[0m\n\u001b[0;32m     32\u001b[0m     \u001b[0mplt\u001b[0m\u001b[1;33m.\u001b[0m\u001b[0myticks\u001b[0m\u001b[1;33m(\u001b[0m\u001b[1;33m[\u001b[0m\u001b[1;33m]\u001b[0m\u001b[1;33m)\u001b[0m\u001b[1;33m\u001b[0m\u001b[0m\n\u001b[0;32m     33\u001b[0m \u001b[0mplt\u001b[0m\u001b[1;33m.\u001b[0m\u001b[0msuptitle\u001b[0m\u001b[1;33m(\u001b[0m\u001b[1;34m\"Denoising using LISTA\"\u001b[0m\u001b[1;33m,\u001b[0m \u001b[0mfontsize\u001b[0m\u001b[1;33m=\u001b[0m\u001b[1;36m50\u001b[0m\u001b[1;33m)\u001b[0m\u001b[1;33m\u001b[0m\u001b[0m\n\u001b[1;32m---> 34\u001b[1;33m \u001b[0mplt\u001b[0m\u001b[1;33m.\u001b[0m\u001b[0mimsave\u001b[0m\u001b[1;33m(\u001b[0m\u001b[1;34m\"2b.png\"\u001b[0m\u001b[1;33m,\u001b[0m \u001b[0max\u001b[0m\u001b[1;33m)\u001b[0m\u001b[1;33m\u001b[0m\u001b[0m\n\u001b[0m",
      "\u001b[1;32m~\\AppData\\Local\\Continuum\\anaconda3\\lib\\site-packages\\matplotlib\\pyplot.py\u001b[0m in \u001b[0;36mimsave\u001b[1;34m(fname, arr, **kwargs)\u001b[0m\n\u001b[0;32m   2249\u001b[0m \u001b[1;33m@\u001b[0m\u001b[0m_copy_docstring_and_deprecators\u001b[0m\u001b[1;33m(\u001b[0m\u001b[0mmatplotlib\u001b[0m\u001b[1;33m.\u001b[0m\u001b[0mimage\u001b[0m\u001b[1;33m.\u001b[0m\u001b[0mimsave\u001b[0m\u001b[1;33m)\u001b[0m\u001b[1;33m\u001b[0m\u001b[0m\n\u001b[0;32m   2250\u001b[0m \u001b[1;32mdef\u001b[0m \u001b[0mimsave\u001b[0m\u001b[1;33m(\u001b[0m\u001b[0mfname\u001b[0m\u001b[1;33m,\u001b[0m \u001b[0marr\u001b[0m\u001b[1;33m,\u001b[0m \u001b[1;33m**\u001b[0m\u001b[0mkwargs\u001b[0m\u001b[1;33m)\u001b[0m\u001b[1;33m:\u001b[0m\u001b[1;33m\u001b[0m\u001b[0m\n\u001b[1;32m-> 2251\u001b[1;33m     \u001b[1;32mreturn\u001b[0m \u001b[0mmatplotlib\u001b[0m\u001b[1;33m.\u001b[0m\u001b[0mimage\u001b[0m\u001b[1;33m.\u001b[0m\u001b[0mimsave\u001b[0m\u001b[1;33m(\u001b[0m\u001b[0mfname\u001b[0m\u001b[1;33m,\u001b[0m \u001b[0marr\u001b[0m\u001b[1;33m,\u001b[0m \u001b[1;33m**\u001b[0m\u001b[0mkwargs\u001b[0m\u001b[1;33m)\u001b[0m\u001b[1;33m\u001b[0m\u001b[0m\n\u001b[0m\u001b[0;32m   2252\u001b[0m \u001b[1;33m\u001b[0m\u001b[0m\n\u001b[0;32m   2253\u001b[0m \u001b[1;33m\u001b[0m\u001b[0m\n",
      "\u001b[1;32m~\\AppData\\Local\\Continuum\\anaconda3\\lib\\site-packages\\matplotlib\\image.py\u001b[0m in \u001b[0;36mimsave\u001b[1;34m(fname, arr, vmin, vmax, cmap, format, origin, dpi, metadata, pil_kwargs)\u001b[0m\n\u001b[0;32m   1578\u001b[0m         \u001b[1;32mif\u001b[0m \u001b[0mpil_kwargs\u001b[0m \u001b[1;32mis\u001b[0m \u001b[1;32mNone\u001b[0m\u001b[1;33m:\u001b[0m\u001b[1;33m\u001b[0m\u001b[0m\n\u001b[0;32m   1579\u001b[0m             \u001b[0mpil_kwargs\u001b[0m \u001b[1;33m=\u001b[0m \u001b[1;33m{\u001b[0m\u001b[1;33m}\u001b[0m\u001b[1;33m\u001b[0m\u001b[0m\n\u001b[1;32m-> 1580\u001b[1;33m         \u001b[0mpil_shape\u001b[0m \u001b[1;33m=\u001b[0m \u001b[1;33m(\u001b[0m\u001b[0mrgba\u001b[0m\u001b[1;33m.\u001b[0m\u001b[0mshape\u001b[0m\u001b[1;33m[\u001b[0m\u001b[1;36m1\u001b[0m\u001b[1;33m]\u001b[0m\u001b[1;33m,\u001b[0m \u001b[0mrgba\u001b[0m\u001b[1;33m.\u001b[0m\u001b[0mshape\u001b[0m\u001b[1;33m[\u001b[0m\u001b[1;36m0\u001b[0m\u001b[1;33m]\u001b[0m\u001b[1;33m)\u001b[0m\u001b[1;33m\u001b[0m\u001b[0m\n\u001b[0m\u001b[0;32m   1581\u001b[0m         image = PIL.Image.frombuffer(\n\u001b[0;32m   1582\u001b[0m             \"RGBA\", pil_shape, rgba, \"raw\", \"RGBA\", 0, 1)\n",
      "\u001b[1;31mAttributeError\u001b[0m: 'tuple' object has no attribute 'shape'"
     ]
    },
    {
     "data": {
      "image/png": "[encoded data removed]",
      "text/plain": [
       "<Figure size 2160x720 with 30 Axes>"
      ]
     },
     "metadata": {},
     "output_type": "display_data"
    }
   ],
   "source": [
    "# Check lambda parameters\n",
    "print(\"Lambda values found are: \", model.l1, model.l2, model.l3, model.lf)\n",
    "\n",
    "\n",
    "\n",
    "\n",
    "# %% part b\n",
    "\n",
    "# First 10 numbers\n",
    "x_clean_example = test_loader.dataset.Clean_Images[0:10,:,:,:]\n",
    "x_noisy_example = test_loader.dataset.Noisy_Images[0:10,:,:,:]\n",
    "labels_example = test_loader.dataset.Labels[0:10]\n",
    "\n",
    "# Plot\n",
    "ax = plt.figure(figsize=(30,10))\n",
    "for i in range(10):\n",
    "    z = model(x_noisy_example[i,:,:,:].unsqueeze(0).to(device=device, dtype=dtype))\n",
    "    z = z.to(device='cpu', dtype=dtype).detach()\n",
    "    plt.subplot(3,10,i+1)\n",
    "    plt.imshow(x_noisy_example[i,0,:,:],cmap='gray')\n",
    "    plt.xticks([])\n",
    "    plt.yticks([])\n",
    "\n",
    "    plt.subplot(3,10,i+11)\n",
    "    plt.imshow(z[0,0,:,:],cmap='gray')\n",
    "    plt.xticks([])\n",
    "    plt.yticks([])\n",
    "\n",
    "    plt.subplot(3,10,i+21)\n",
    "    plt.imshow(x_clean_example[i,0,:,:],cmap='gray')\n",
    "    plt.xticks([])\n",
    "    plt.yticks([])\n",
    "plt.suptitle(\"Denoising using LISTA\", fontsize=50)\n"
   ]
  },
  {
   "cell_type": "code",
   "execution_count": 13,
   "metadata": {},
   "outputs": [
    {
     "name": "stderr",
     "output_type": "stream",
     "text": [
      "100%|██████████| 157/157 [00:01<00:00, 88.76it/s] "
     ]
    },
    {
     "name": "stdout",
     "output_type": "stream",
     "text": [
      "\n",
      "Test loss is 0.012435086973153861\n"
     ]
    },
    {
     "name": "stderr",
     "output_type": "stream",
     "text": [
      "\n"
     ]
    }
   ],
   "source": [
    "# %% part c\n",
    "\n",
    "# First 10 numbers\n",
    "x_clean_example = test_loader.dataset.Clean_Images\n",
    "x_noisy_example = test_loader.dataset.Noisy_Images\n",
    "\n",
    "# Get MSE on test data \n",
    "with torch.no_grad():  # setting so that no backprop happens during validation\n",
    "    model.eval()  # setting so that no backprop happens during validation\n",
    "    test_loss = 0\n",
    "    for (x_clean, x_noisy, labels) in tqdm(test_loader):\n",
    "        x_clean = x_clean.to(device=device, dtype=dtype)\n",
    "        x_noisy = x_noisy.to(device=device, dtype=dtype)\n",
    "        out = model(x_noisy)\n",
    "        test_loss += criterion(out, x_clean).to(torch.float16).item()\n",
    "    # update loss dictionary  \n",
    "    loss_dict['test_loss'].append(vloss)\n",
    "    # print validation loss\n",
    "    print(f\"\\nTest loss is {test_loss/len(test_loader)}\")\n"
   ]
  },
  {
   "cell_type": "code",
   "execution_count": null,
   "metadata": {},
   "outputs": [],
   "source": []
  }
 ],
 "metadata": {
  "interpreter": {
   "hash": "e6582fcdad78c9817c7b8382b86eb25db2029e48a96f1080b267c5349ec26f2c"
  },
  "kernelspec": {
   "display_name": "Python 3",
   "language": "python",
   "name": "python3"
  },
  "language_info": {
   "codemirror_mode": {
    "name": "ipython",
    "version": 3
   },
   "file_extension": ".py",
   "mimetype": "text/x-python",
   "name": "python",
   "nbconvert_exporter": "python",
   "pygments_lexer": "ipython3",
   "version": "3.6.5"
  }
 },
 "nbformat": 4,
 "nbformat_minor": 2
}
