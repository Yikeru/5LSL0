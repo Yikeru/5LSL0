{
 "cells": [
  {
   "cell_type": "code",
   "execution_count": 3,
   "metadata": {},
   "outputs": [],
   "source": [
    "# %% imports\n",
    "# libraries\n",
    "import torch\n",
    "import numpy as np\n",
    "from tqdm import tqdm\n",
    "import matplotlib.pyplot as plt\n",
    "import os\n",
    "import sys\n",
    "import csv\n",
    "\n",
    "# local imports\n",
    "import MNIST_dataloader\n",
    "\n",
    "# %% set torches random seed\n",
    "torch.random.manual_seed(0)\n",
    "\n",
    "# %% preperations\n",
    "# define parameters\n",
    "# %% imports\n",
    "# libraries\n",
    "import torch\n",
    "import numpy as np\n",
    "from tqdm import tqdm\n",
    "import matplotlib.pyplot as plt\n",
    "\n",
    "# local imports\n",
    "import MNIST_dataloader"
   ]
  },
  {
   "cell_type": "code",
   "execution_count": 11,
   "metadata": {},
   "outputs": [
    {
     "ename": "TypeError",
     "evalue": "expected str, bytes or os.PathLike object, not NoneType",
     "output_type": "error",
     "traceback": [
      "\u001b[1;31m---------------------------------------------------------------------------\u001b[0m",
      "\u001b[1;31mTypeError\u001b[0m                                 Traceback (most recent call last)",
      "\u001b[1;32mc:\\Users\\20167271\\Desktop\\ML for signal processing\\5LSL0-GIT\\Assignment 4\\w1e2.ipynb Cell 2'\u001b[0m in \u001b[0;36m<cell line: 9>\u001b[1;34m()\u001b[0m\n\u001b[0;32m      <a href='vscode-notebook-cell:/c%3A/Users/20167271/Desktop/ML%20for%20signal%20processing/5LSL0-GIT/Assignment%204/w1e2.ipynb#ch0000001?line=6'>7</a>\u001b[0m data_dir \u001b[39m=\u001b[39m sys\u001b[39m.\u001b[39mpath\u001b[39m.\u001b[39mappend(os\u001b[39m.\u001b[39mpath\u001b[39m.\u001b[39mjoin(curr_dir, \u001b[39m\"\u001b[39m\u001b[39mdata\u001b[39m\u001b[39m\"\u001b[39m))  \u001b[39m# data dir\u001b[39;00m\n\u001b[0;32m      <a href='vscode-notebook-cell:/c%3A/Users/20167271/Desktop/ML%20for%20signal%20processing/5LSL0-GIT/Assignment%204/w1e2.ipynb#ch0000001?line=7'>8</a>\u001b[0m batch_size \u001b[39m=\u001b[39m \u001b[39m64\u001b[39m\n\u001b[1;32m----> <a href='vscode-notebook-cell:/c%3A/Users/20167271/Desktop/ML%20for%20signal%20processing/5LSL0-GIT/Assignment%204/w1e2.ipynb#ch0000001?line=8'>9</a>\u001b[0m \u001b[39mwith\u001b[39;00m \u001b[39mopen\u001b[39m(os\u001b[39m.\u001b[39;49mpath\u001b[39m.\u001b[39;49mjoin(data_dir, \u001b[39m\"\u001b[39;49m\u001b[39mt10k-images-idx3-ubyte\u001b[39;49m\u001b[39m\"\u001b[39;49m), \u001b[39m'\u001b[39m\u001b[39mr\u001b[39m\u001b[39m'\u001b[39m) \u001b[39mas\u001b[39;00m fp:\n\u001b[0;32m     <a href='vscode-notebook-cell:/c%3A/Users/20167271/Desktop/ML%20for%20signal%20processing/5LSL0-GIT/Assignment%204/w1e2.ipynb#ch0000001?line=9'>10</a>\u001b[0m     ex_data \u001b[39m=\u001b[39m fp\u001b[39m.\u001b[39mread()\n\u001b[0;32m     <a href='vscode-notebook-cell:/c%3A/Users/20167271/Desktop/ML%20for%20signal%20processing/5LSL0-GIT/Assignment%204/w1e2.ipynb#ch0000001?line=11'>12</a>\u001b[0m \u001b[39m# ISTA parameters\u001b[39;00m\n",
      "File \u001b[1;32mc:\\Users\\20167271\\AppData\\Local\\Programs\\Python\\Python38\\lib\\ntpath.py:78\u001b[0m, in \u001b[0;36mjoin\u001b[1;34m(path, *paths)\u001b[0m\n\u001b[0;32m     <a href='file:///c%3A/Users/20167271/AppData/Local/Programs/Python/Python38/lib/ntpath.py?line=76'>77</a>\u001b[0m \u001b[39mdef\u001b[39;00m \u001b[39mjoin\u001b[39m(path, \u001b[39m*\u001b[39mpaths):\n\u001b[1;32m---> <a href='file:///c%3A/Users/20167271/AppData/Local/Programs/Python/Python38/lib/ntpath.py?line=77'>78</a>\u001b[0m     path \u001b[39m=\u001b[39m os\u001b[39m.\u001b[39;49mfspath(path)\n\u001b[0;32m     <a href='file:///c%3A/Users/20167271/AppData/Local/Programs/Python/Python38/lib/ntpath.py?line=78'>79</a>\u001b[0m     \u001b[39mif\u001b[39;00m \u001b[39misinstance\u001b[39m(path, \u001b[39mbytes\u001b[39m):\n\u001b[0;32m     <a href='file:///c%3A/Users/20167271/AppData/Local/Programs/Python/Python38/lib/ntpath.py?line=79'>80</a>\u001b[0m         sep \u001b[39m=\u001b[39m \u001b[39mb\u001b[39m\u001b[39m'\u001b[39m\u001b[39m\\\\\u001b[39;00m\u001b[39m'\u001b[39m\n",
      "\u001b[1;31mTypeError\u001b[0m: expected str, bytes or os.PathLike object, not NoneType"
     ]
    }
   ],
   "source": [
    "# %% set torches random seed\n",
    "torch.random.manual_seed(0)\n",
    "\n",
    "# %% preperations\n",
    "# define parameters\n",
    "curr_dir = os.path.dirname(os.path.realpath(\"__file__\"))  # working dir\n",
    "data_loc = sys.path.append(os.path.join(curr_dir, \"data\"))  # data dir\n",
    "batch_size = 64\n",
    "with open(os.path.join(data_dir, \"t10k-images-idx3-ubyte\"), 'r') as fp:\n",
    "    ex_data = fp.read()\n",
    "\n",
    "# ISTA parameters\n",
    "step_size = 0\n",
    "shrinkage = 0\n",
    "K = 10\n",
    "y = torch.zeros([batch_size,])"
   ]
  },
  {
   "cell_type": "code",
   "execution_count": null,
   "metadata": {},
   "outputs": [],
   "source": [
    "# get dataloader\n",
    "train_loader, test_loader, val_loader = MNIST_dataloader.create_dataloaders(data_loc, batch_size)"
   ]
  },
  {
   "cell_type": "code",
   "execution_count": null,
   "metadata": {},
   "outputs": [],
   "source": []
  },
  {
   "cell_type": "code",
   "execution_count": null,
   "metadata": {},
   "outputs": [],
   "source": []
  }
 ],
 "metadata": {
  "interpreter": {
   "hash": "e6582fcdad78c9817c7b8382b86eb25db2029e48a96f1080b267c5349ec26f2c"
  },
  "kernelspec": {
   "display_name": "Python 3.8.7 64-bit",
   "language": "python",
   "name": "python3"
  },
  "language_info": {
   "codemirror_mode": {
    "name": "ipython",
    "version": 3
   },
   "file_extension": ".py",
   "mimetype": "text/x-python",
   "name": "python",
   "nbconvert_exporter": "python",
   "pygments_lexer": "ipython3",
   "version": "3.8.7"
  },
  "orig_nbformat": 4
 },
 "nbformat": 4,
 "nbformat_minor": 2
}
