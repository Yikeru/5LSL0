{
 "cells": [
  {
   "cell_type": "markdown",
   "metadata": {},
   "source": [
    "### Exercises Week 3 "
   ]
  },
  {
   "cell_type": "code",
   "execution_count": 54,
   "metadata": {},
   "outputs": [
    {
     "name": "stdout",
     "output_type": "stream",
     "text": [
      "C:\\Users\\20167271\\Desktop\\ML for signal processing\\5LSL0-GIT\\Assignment 4\n"
     ]
    }
   ],
   "source": [
    "# %% imports\n",
    "# libraries\n",
    "import torch\n",
    "from torch.utils.data import Dataset,DataLoader\n",
    "import torch.optim as optim\n",
    "import torch.nn as nn\n",
    "from tqdm import tqdm\n",
    "import matplotlib.pyplot as plt\n",
    "import glob\n",
    "import os\n",
    "import numpy as np\n",
    "\n",
    "# local imports\n",
    "import Fast_MRI_dataloader\n",
    "# import autoencoder_template\n",
    "from matplotlib import pyplot as plt\n",
    "from Fast_MRI_dataloader import create_dataloaders\n",
    "\n",
    "# set-up folders\n",
    "data_loc = os.getcwd()\n",
    "print(data_loc)\n",
    "data_loc = data_loc + '\\Fast_MRI_Knee'\n",
    "batch_size = 16\n",
    "train_loader, val_loader = create_dataloaders(data_loc, batch_size)"
   ]
  },
  {
   "cell_type": "code",
   "execution_count": null,
   "metadata": {},
   "outputs": [],
   "source": []
  },
  {
   "cell_type": "markdown",
   "metadata": {},
   "source": [
    "## Exercise 5 - ConvNet\n",
    "As a starting point for a deep learning solution, design an end-to-end convolutional neural\n",
    "network. As input it should take an initial reconstruction from a partial k-space measurement\n",
    "and output a guess for the final reconstruction. The net is not (yet) allowed to make\n",
    "use of knowledge about the sampling mask.\n",
    "\n",
    "(a) [1pt] What loss function would be most suitable to train this network, and what\n",
    "underlying assumption have you made by choosing this loss function?"
   ]
  },
  {
   "cell_type": "markdown",
   "metadata": {},
   "source": [
    "KL divergence is a metric to compare the distribution of pixel values between the input and output images. The MSE loss can be suitable as well but we already know that there is loss of spatial information given the mask and we do not want to penalize shifts or blurring, we want the network to reconstruct the original scan as similarly as possible with the input. Since the network does not know the mask, it should penalize the difference in distributions rather than shift in image. We assume the input distribution is symmetric."
   ]
  },
  {
   "cell_type": "markdown",
   "metadata": {},
   "source": [
    "(b) [3pt] Design a convolutional neural network of no more than 4 layers. Train it for at\n",
    "least 10 epochs and plot both the training loss and testing"
   ]
  },
  {
   "cell_type": "code",
   "execution_count": 59,
   "metadata": {},
   "outputs": [],
   "source": [
    "class KReconstruct(nn.Module):\n",
    "    def __init__(self):\n",
    "        super(KReconstruct, self).__init__()\n",
    "        self.model = nn.Sequential(\n",
    "            # 320x320\n",
    "            nn.Conv2d(2, 4, kernel_size=12, stride=2, padding=0,dilation=1),  # 155x155\n",
    "            nn.BatchNorm2d(4),\n",
    "            nn.ReLU(),\n",
    "\n",
    "            nn.Conv2d(4, 16, kernel_size=7, stride=1, padding=0, dilation=2), # 143x143\n",
    "            nn.BatchNorm2d(16),\n",
    "            nn.ReLU(),\n",
    "\n",
    "            nn.Conv2d(16, 32, kernel_size=5, stride=1, padding=0, dilation=1), # 139x139\n",
    "            nn.BatchNorm2d(32),\n",
    "            nn.ReLU(),\n",
    "\n",
    "            nn.ConvTranspose2d(32, 1, kernel_size=23, stride=2, padding=1, dilation=2, output_padding=1) # 320x320\n",
    "        )\n",
    "\n",
    "    def forward(self, x):\n",
    "        xreal = torch.real(x)\n",
    "        ximag = torch.imag(x)\n",
    "        x = torch.cat((xreal, ximag), 1)\n",
    "        \n",
    "        img = self.model(x)\n",
    "        out = nn.functional.log_softmax(img)\n",
    "        return img, out\n",
    "\n",
    "\n",
    "model = KReconstruct()\n",
    "optimizer = torch.optim.Adam(model.parameters(), lr=5e-4)\n",
    "#criterion = nn.KLDivLoss()\n",
    "criterion = nn.MSELoss()\n"
   ]
  },
  {
   "cell_type": "code",
   "execution_count": 60,
   "metadata": {},
   "outputs": [
    {
     "name": "stderr",
     "output_type": "stream",
     "text": [
      "\r",
      "  0%|          | 0/47 [00:00<?, ?it/s]"
     ]
    },
    {
     "name": "stdout",
     "output_type": "stream",
     "text": [
      "Running on:  cuda\n",
      "\n",
      "Training is about to start on cuda\n",
      "\n",
      "\n",
      "Training epoch 0: \t\n"
     ]
    },
    {
     "name": "stderr",
     "output_type": "stream",
     "text": [
      "C:\\Users\\20167271\\AppData\\Local\\Continuum\\anaconda3\\lib\\site-packages\\ipykernel_launcher.py:27: UserWarning: Implicit dimension choice for log_softmax has been deprecated. Change the call to include dim=X as an argument.\n",
      "100%|██████████| 47/47 [00:23<00:00,  1.97it/s]\n",
      "  0%|          | 0/16 [00:00<?, ?it/s]"
     ]
    },
    {
     "name": "stdout",
     "output_type": "stream",
     "text": [
      "\n",
      "Epoch training loss is 0.4004893201462766\n"
     ]
    },
    {
     "name": "stderr",
     "output_type": "stream",
     "text": [
      "100%|██████████| 16/16 [00:05<00:00,  2.81it/s]\n",
      "  0%|          | 0/47 [00:00<?, ?it/s]"
     ]
    },
    {
     "name": "stdout",
     "output_type": "stream",
     "text": [
      "\n",
      "Epoch validation loss is 0.25843048095703125\n",
      "\n",
      "Training epoch 1: \t\n"
     ]
    },
    {
     "name": "stderr",
     "output_type": "stream",
     "text": [
      "100%|██████████| 47/47 [00:24<00:00,  1.89it/s]\n",
      "  0%|          | 0/16 [00:00<?, ?it/s]"
     ]
    },
    {
     "name": "stdout",
     "output_type": "stream",
     "text": [
      "\n",
      "Epoch training loss is 0.24529120262632978\n"
     ]
    },
    {
     "name": "stderr",
     "output_type": "stream",
     "text": [
      "100%|██████████| 16/16 [00:05<00:00,  2.82it/s]\n",
      "  0%|          | 0/47 [00:00<?, ?it/s]"
     ]
    },
    {
     "name": "stdout",
     "output_type": "stream",
     "text": [
      "\n",
      "Epoch validation loss is 0.23444366455078125\n",
      "\n",
      "Training epoch 2: \t\n"
     ]
    },
    {
     "name": "stderr",
     "output_type": "stream",
     "text": [
      "100%|██████████| 47/47 [00:24<00:00,  1.95it/s]\n",
      "  0%|          | 0/16 [00:00<?, ?it/s]"
     ]
    },
    {
     "name": "stdout",
     "output_type": "stream",
     "text": [
      "\n",
      "Epoch training loss is 0.22791825964095744\n"
     ]
    },
    {
     "name": "stderr",
     "output_type": "stream",
     "text": [
      "100%|██████████| 16/16 [00:05<00:00,  2.83it/s]\n",
      "  0%|          | 0/47 [00:00<?, ?it/s]"
     ]
    },
    {
     "name": "stdout",
     "output_type": "stream",
     "text": [
      "\n",
      "Epoch validation loss is 0.21816253662109375\n",
      "\n",
      "Training epoch 3: \t\n"
     ]
    },
    {
     "name": "stderr",
     "output_type": "stream",
     "text": [
      "100%|██████████| 47/47 [00:25<00:00,  1.86it/s]\n",
      "  0%|          | 0/16 [00:00<?, ?it/s]"
     ]
    },
    {
     "name": "stdout",
     "output_type": "stream",
     "text": [
      "\n",
      "Epoch training loss is 0.2136256441156915\n"
     ]
    },
    {
     "name": "stderr",
     "output_type": "stream",
     "text": [
      "100%|██████████| 16/16 [00:05<00:00,  2.79it/s]\n",
      "  0%|          | 0/47 [00:00<?, ?it/s]"
     ]
    },
    {
     "name": "stdout",
     "output_type": "stream",
     "text": [
      "\n",
      "Epoch validation loss is 0.20562744140625\n",
      "\n",
      "Training epoch 4: \t\n"
     ]
    },
    {
     "name": "stderr",
     "output_type": "stream",
     "text": [
      "100%|██████████| 47/47 [00:24<00:00,  1.93it/s]\n",
      "  0%|          | 0/16 [00:00<?, ?it/s]"
     ]
    },
    {
     "name": "stdout",
     "output_type": "stream",
     "text": [
      "\n",
      "Epoch training loss is 0.20074073304521275\n"
     ]
    },
    {
     "name": "stderr",
     "output_type": "stream",
     "text": [
      "100%|██████████| 16/16 [00:05<00:00,  2.81it/s]\n",
      "  0%|          | 0/47 [00:00<?, ?it/s]"
     ]
    },
    {
     "name": "stdout",
     "output_type": "stream",
     "text": [
      "\n",
      "Epoch validation loss is 0.19397735595703125\n",
      "\n",
      "Training epoch 5: \t\n"
     ]
    },
    {
     "name": "stderr",
     "output_type": "stream",
     "text": [
      "100%|██████████| 47/47 [00:25<00:00,  1.84it/s]\n",
      "  0%|          | 0/16 [00:00<?, ?it/s]"
     ]
    },
    {
     "name": "stdout",
     "output_type": "stream",
     "text": [
      "\n",
      "Epoch training loss is 0.1892115816156915\n"
     ]
    },
    {
     "name": "stderr",
     "output_type": "stream",
     "text": [
      "100%|██████████| 16/16 [00:05<00:00,  2.86it/s]\n",
      "  0%|          | 0/47 [00:00<?, ?it/s]"
     ]
    },
    {
     "name": "stdout",
     "output_type": "stream",
     "text": [
      "\n",
      "Epoch validation loss is 0.1839141845703125\n",
      "\n",
      "Training epoch 6: \t\n"
     ]
    },
    {
     "name": "stderr",
     "output_type": "stream",
     "text": [
      "100%|██████████| 47/47 [00:23<00:00,  1.97it/s]\n",
      "  0%|          | 0/16 [00:00<?, ?it/s]"
     ]
    },
    {
     "name": "stdout",
     "output_type": "stream",
     "text": [
      "\n",
      "Epoch training loss is 0.17880963264627658\n"
     ]
    },
    {
     "name": "stderr",
     "output_type": "stream",
     "text": [
      "100%|██████████| 16/16 [00:05<00:00,  2.87it/s]\n",
      "  0%|          | 0/47 [00:00<?, ?it/s]"
     ]
    },
    {
     "name": "stdout",
     "output_type": "stream",
     "text": [
      "\n",
      "Epoch validation loss is 0.17330169677734375\n",
      "\n",
      "Training epoch 7: \t\n"
     ]
    },
    {
     "name": "stderr",
     "output_type": "stream",
     "text": [
      "100%|██████████| 47/47 [00:26<00:00,  1.81it/s]\n",
      "  0%|          | 0/16 [00:00<?, ?it/s]"
     ]
    },
    {
     "name": "stdout",
     "output_type": "stream",
     "text": [
      "\n",
      "Epoch training loss is 0.16933489860372342\n"
     ]
    },
    {
     "name": "stderr",
     "output_type": "stream",
     "text": [
      "100%|██████████| 16/16 [00:05<00:00,  2.76it/s]\n",
      "  0%|          | 0/47 [00:00<?, ?it/s]"
     ]
    },
    {
     "name": "stdout",
     "output_type": "stream",
     "text": [
      "\n",
      "Epoch validation loss is 0.16675567626953125\n",
      "\n",
      "Training epoch 8: \t\n"
     ]
    },
    {
     "name": "stderr",
     "output_type": "stream",
     "text": [
      "100%|██████████| 47/47 [00:23<00:00,  1.96it/s]\n",
      "  0%|          | 0/16 [00:00<?, ?it/s]"
     ]
    },
    {
     "name": "stdout",
     "output_type": "stream",
     "text": [
      "\n",
      "Epoch training loss is 0.1609821725398936\n"
     ]
    },
    {
     "name": "stderr",
     "output_type": "stream",
     "text": [
      "100%|██████████| 16/16 [00:06<00:00,  2.60it/s]\n",
      "  0%|          | 0/47 [00:00<?, ?it/s]"
     ]
    },
    {
     "name": "stdout",
     "output_type": "stream",
     "text": [
      "\n",
      "Epoch validation loss is 0.15746307373046875\n",
      "\n",
      "Training epoch 9: \t\n"
     ]
    },
    {
     "name": "stderr",
     "output_type": "stream",
     "text": [
      "100%|██████████| 47/47 [00:26<00:00,  1.78it/s]\n",
      "  0%|          | 0/16 [00:00<?, ?it/s]"
     ]
    },
    {
     "name": "stdout",
     "output_type": "stream",
     "text": [
      "\n",
      "Epoch training loss is 0.15313590841090424\n"
     ]
    },
    {
     "name": "stderr",
     "output_type": "stream",
     "text": [
      "100%|██████████| 16/16 [00:05<00:00,  2.89it/s]"
     ]
    },
    {
     "name": "stdout",
     "output_type": "stream",
     "text": [
      "\n",
      "Epoch validation loss is 0.1507415771484375\n"
     ]
    },
    {
     "name": "stderr",
     "output_type": "stream",
     "text": [
      "\n"
     ]
    }
   ],
   "source": [
    "# Begin training for 10 epochs\n",
    "\n",
    "epochs=10\n",
    "# set device\n",
    "dtype = torch.float32\n",
    "if torch.cuda.is_available():\n",
    "    device = torch.device('cuda')\n",
    "else:\n",
    "    device = torch.device('cpu')\n",
    "print('Running on: ', device)\n",
    "model = model.to(device=device)\n",
    "# keep track of losses\n",
    "eval_dic = {'Loss_t': [], 'train_acc': [],'Loss_v': [], 'valid_acc': []}\n",
    "loss_train = []\n",
    "loss_val = []\n",
    "loss_dict = {'train_loss':[], 'val_loss':[]}\n",
    "\n",
    "\n",
    "print(f\"\\nTraining is about to start on {device}\\n\")\n",
    "for e in range(epochs):\n",
    "    print(f\"\\nTraining epoch {e}: \\t\")\n",
    "    mia_loss = 0\n",
    "    for batch_idx,(kspace, M, gt) in enumerate(tqdm(train_loader)):\n",
    "        # prepare for training\n",
    "        model.train(True)  \n",
    "        optimizer.zero_grad()\n",
    "        # move to gpu if available\n",
    "        kspace = kspace.to(device=device)\n",
    "        #M = M.to(device=device)\n",
    "        gt = gt.to(device=device)\n",
    "        # forward pass\n",
    "        out,_ = model(kspace.unsqueeze(1))\n",
    "        out = out.squeeze(1)\n",
    "        # backpropagate loss\n",
    "        loss = criterion(out, gt)\n",
    "        loss = loss.to(torch.float16)\n",
    "        loss.backward()\n",
    "        mia_loss += loss.item()\n",
    "        optimizer.step()\n",
    "        \n",
    "    # update loss dictionary\n",
    "    loss_dict['train_loss'].append(mia_loss/(batch_idx+1))\n",
    "\n",
    "    # print epoch loss\n",
    "    print(f\"\\nEpoch training loss is {mia_loss/(batch_idx+1)}\")\n",
    "\n",
    "    with torch.no_grad():  # setting so that no backprop happens during validation\n",
    "        model.eval()  # setting so that no backprop happens during validation\n",
    "        vloss = 0\n",
    "        for (kspace, M, gt) in tqdm(val_loader):\n",
    "            kspace = kspace.to(device=device)\n",
    "            #M = M.to(device=device)\n",
    "            gt = gt.to(device=device)\n",
    "            out,_ = model(kspace.unsqueeze(1))\n",
    "            out = out.squeeze(1)\n",
    "            vloss += criterion(out, gt).to(torch.float16).item()\n",
    "        # update loss dictionary  \n",
    "        loss_dict['val_loss'].append(vloss/len(val_loader))\n",
    "        # print validation loss\n",
    "        print(f\"\\nEpoch validation loss is {vloss/len(val_loader)}\")\n",
    "\n",
    "# save trained model\n",
    "model_path = os.getcwd() + '\\Modelex5.pth'\n",
    "torch.save(model.state_dict(), model_path)\n",
    "    "
   ]
  },
  {
   "cell_type": "code",
   "execution_count": 69,
   "metadata": {},
   "outputs": [
    {
     "data": {
      "text/plain": [
       "<matplotlib.legend.Legend at 0x21fb7669390>"
      ]
     },
     "execution_count": 69,
     "metadata": {},
     "output_type": "execute_result"
    },
    {
     "data": {
      "image/png": "[encoded data removed]",
      "text/plain": [
       "<Figure size 1500x1000 with 1 Axes>"
      ]
     },
     "metadata": {
      "needs_background": "light"
     },
     "output_type": "display_data"
    }
   ],
   "source": [
    "# Plot losses\n",
    "\n",
    "#validation loss is actually test loss\n",
    "plt.figure(figsize=(15,10),dpi=100)\n",
    "plt.plot(range(epochs), loss_dict['train_loss'], \n",
    "         label='training loss', linewidth=5)\n",
    "plt.plot(range(epochs), np.array(loss_dict['val_loss']), \n",
    "         label='test loss', linestyle='--', linewidth=5)\n",
    "plt.ylabel('loss')\n",
    "plt.xlabel('Epochs')\n",
    "plt.grid()\n",
    "plt.legend(loc=0, prop={'size': 20})\n"
   ]
  },
  {
   "cell_type": "markdown",
   "metadata": {},
   "source": [
    "(c) [2pt] Repeat exercise 4c using your trained ConvNet."
   ]
  },
  {
   "cell_type": "code",
   "execution_count": null,
   "metadata": {},
   "outputs": [],
   "source": []
  }
 ],
 "metadata": {
  "kernelspec": {
   "display_name": "Python 3",
   "language": "python",
   "name": "python3"
  },
  "language_info": {
   "codemirror_mode": {
    "name": "ipython",
    "version": 3
   },
   "file_extension": ".py",
   "mimetype": "text/x-python",
   "name": "python",
   "nbconvert_exporter": "python",
   "pygments_lexer": "ipython3",
   "version": "3.6.5"
  },
  "vscode": {
   "interpreter": {
    "hash": "e6582fcdad78c9817c7b8382b86eb25db2029e48a96f1080b267c5349ec26f2c"
   }
  }
 },
 "nbformat": 4,
 "nbformat_minor": 2
}
