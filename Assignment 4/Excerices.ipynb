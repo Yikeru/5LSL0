{
 "cells": [
  {
   "cell_type": "code",
   "execution_count": 2,
   "metadata": {},
   "outputs": [
    {
     "name": "stdout",
     "output_type": "stream",
     "text": [
      "c:\\Users\\Jexel\\Documents\\Yexel Files Documents\\TUE Complete\\WTB\\Jaar 2 AIESW\\Kwartiel 4\\5LSL0 Machine learning for signal processing\\Assignment\\5LSL0-1\\Assignment 4\n"
     ]
    }
   ],
   "source": [
    "# %% imports\n",
    "# libraries\n",
    "import torch\n",
    "from torch.utils.data import Dataset,DataLoader\n",
    "import torch.optim as optim\n",
    "import torch.nn as nn\n",
    "from tqdm import tqdm\n",
    "import matplotlib.pyplot as plt\n",
    "import glob\n",
    "import os\n",
    "import numpy as np\n",
    "\n",
    "# local imports\n",
    "import MNIST_dataloader\n",
    "# import autoencoder_template\n",
    "from config_file import data_loc\n",
    "from matplotlib import pyplot as plt\n",
    "from MNIST_dataloader import create_dataloaders"
   ]
  },
  {
   "cell_type": "markdown",
   "metadata": {},
   "source": [
    "# Week 1"
   ]
  },
  {
   "cell_type": "markdown",
   "metadata": {},
   "source": [
    "### Exercise 1 - ISTA"
   ]
  },
  {
   "cell_type": "markdown",
   "metadata": {},
   "source": [
    "##### (a)[3 pt]Create a Python function that implements ISTA for MNIST denoising. \n",
    "Make sure the function takes as inputs: step size μ, shrinkage parameter λ, number of\n",
    "iteration K, and measurements (batch of MNIST images) y. It should output the\n",
    "final batch of reconstructions xK.\n",
    "\n",
    "hint: the images are normalized between -1 and 1, which means the background of the\n",
    "images is not at zero. Think about how to still aply ISTA correctly."
   ]
  },
  {
   "cell_type": "code",
   "execution_count": 3,
   "metadata": {},
   "outputs": [],
   "source": [
    "########## Define Paramters\n",
    "mu = 1e-4       # Step-size\n",
    "shrinkage = 0   # \n",
    "K = 10          # Amount of itereations"
   ]
  },
  {
   "cell_type": "code",
   "execution_count": 4,
   "metadata": {},
   "outputs": [],
   "source": [
    "### prepare the datasets\n",
    "# get dataloader\n",
    "batch_size = 64\n",
    "train_loader, test_loader, val_loader = create_dataloaders(data_loc, batch_size)"
   ]
  },
  {
   "cell_type": "code",
   "execution_count": 298,
   "metadata": {},
   "outputs": [],
   "source": [
    "# %% ISTA\n",
    "def softthreshold(x,shrinkage):\n",
    "    '''\n",
    "    Implement soft threshold:\n",
    "    F(x) = sign(x) * max(|x|)-lambda, 0_\n",
    "    Arguments:\n",
    "    ----------------------\n",
    "    x: data-set (default: train_dataset)??\n",
    "    shrinkage: float (default: --)\n",
    "    '''\n",
    "    p1 = torch.sign(x)\n",
    "    p2 = torch.max(torch.abs(x)-shrinkage, torch.zeros_like(x))\n",
    "    new = p1*p2\n",
    "    # print(new)\n",
    "    return new\n",
    "\n",
    "def ISTA(mu,shrinkage,K,y):\n",
    "    '''\n",
    "    Iterative shrinkage and Thresholding Algorithm\n",
    "\n",
    "    Arguments:\n",
    "    --------------------\n",
    "    mu:     float (default: 0.5)\n",
    "        The stepsize\n",
    "\n",
    "    shrinkage:  float (default: 0.5)\n",
    "        The shrinking paramter\n",
    "    \n",
    "    K: int (default: 10)\n",
    "        The number of unfolding iterations\n",
    "    \n",
    "    y: ??? (default: ???)\n",
    "        The measurement image.\n",
    "\n",
    "    Returns:\n",
    "    --------------------\n",
    "    x: ??? (default: ???)\n",
    "        The denoised image    \n",
    "    '''\n",
    "    # initialize\n",
    "    ##### Using flattened features\n",
    "    # y2 = y.flatten()\n",
    "    # x = torch.zeros_like(y2)\n",
    "    # A = torch.eye(len(y2)) # length = WxH of image y\n",
    "\n",
    "    # init params\n",
    "    # mu = 0.8\n",
    "    # lamda = 0.3\n",
    "    # K = 40\n",
    "\n",
    "    lamda = shrinkage\n",
    "    # load in a noisy image\n",
    "    # y = x_noisy_example[5,:,:,:]\n",
    "\n",
    "    # flatten it\n",
    "    y_flat = y.flatten() # values can be around (~-3,3)\n",
    "    # normalize it \n",
    "    # linear rescale to range [0, 1]\n",
    "    y_flat -= y_flat.min() # bring the lower range to 0\n",
    "    y_flat /= y_flat.max() # bring the upper range to 1\n",
    "\n",
    "    # linear rescale to range [-1, 1]\n",
    "    # y_flat = 2*y_flat - 1\n",
    "\n",
    "    # make an identity matrix\n",
    "    A = torch.eye(len(y_flat))  \n",
    "    x_in = torch.zeros_like(y_flat)\n",
    "\n",
    "    x_k_0 = torch.matmul(y_flat,(A.T)) # --> soft-treshold ---> I-mu*A.T*A\n",
    "    #x_k = [mu*A.T*y + [x_in*I - mu*A*A.T*x_in]]\n",
    "    x_k = mu*x_k_0 + (x_in@A-mu*x_in@A.T@A)\n",
    "    K = 10000\n",
    "    err = 1\n",
    "    while err > 1e-7:\n",
    "        for i in range (K):\n",
    "            x_k = mu*x_k_0 + (x_in@A-mu*x_in@A.T@A)\n",
    "            x_k_soft = softthreshold(x_k,lamda)\n",
    "            err = torch.nn.functional.mse_loss(x_k_soft,x_in).item()\n",
    "            x_in = x_k_soft\n",
    "            # print(err)\n",
    "    \n",
    "    z = x_in.reshape(y.shape)\n",
    "    return z"
   ]
  },
  {
   "cell_type": "code",
   "execution_count": 291,
   "metadata": {},
   "outputs": [],
   "source": [
    "train_loader, val_loader, test_loader = create_dataloaders(data_loc,batch_size)\n",
    "x_clean_train = train_loader.dataset.Clean_Images\n",
    "x_noisy_train = train_loader.dataset.Noisy_Images\n",
    "labels_train  = train_loader.dataset.Labels\n",
    "x_clean_test  = test_loader.dataset.Clean_Images\n",
    "x_noisy_test  = test_loader.dataset.Noisy_Images\n",
    "labels_test   = test_loader.dataset.Labels\n",
    "\n",
    "# First 10 numbers\n",
    "x_clean_example = x_clean_test[0:10,:,:,:]\n",
    "x_noisy_example = x_noisy_test[0:10,:,:,:]\n",
    "labels_example = labels_test[0:10]\n",
    "\n",
    "\n"
   ]
  },
  {
   "cell_type": "code",
   "execution_count": 299,
   "metadata": {},
   "outputs": [
    {
     "data": {
      "image/png": "[encoded data removed]",
      "text/plain": [
       "<Figure size 2160x720 with 30 Axes>"
      ]
     },
     "metadata": {},
     "output_type": "display_data"
    }
   ],
   "source": [
    "plt.figure(figsize=(30,10))\n",
    "mu = 0.8\n",
    "lamda = 0.3\n",
    "K = 1000\n",
    "\n",
    "for i in range(10):\n",
    "    z = ISTA(mu,lamda,K,x_noisy_example[i,:,:,:])\n",
    "    plt.subplot(3,10,i+1)\n",
    "    plt.imshow(x_noisy_example[i,0,:,:],cmap='gray')\n",
    "    plt.xticks([])\n",
    "    plt.yticks([])\n",
    "\n",
    "    plt.subplot(3,10,i+11)\n",
    "    plt.imshow(z[0,:,:],cmap='gray')\n",
    "    plt.xticks([])\n",
    "    plt.yticks([])\n",
    "\n",
    "    plt.subplot(3,10,i+21)\n",
    "    plt.imshow(x_clean_example[i,0,:,:],cmap='gray')\n",
    "    plt.xticks([])\n",
    "    plt.yticks([])\n",
    "\n",
    "# reconses = torch.zeros((10,1,x_noisy_example.shape[-1],x_noisy_example.shape[-1]))\n",
    "# test = x_noisy_example[1,0,:,:]\n",
    "# plt.imshow(x_noisy_example[3,0,:,:],cmap='gray')\n",
    "# plt.xticks([])\n",
    "# plt.yticks([])"
   ]
  },
  {
   "cell_type": "code",
   "execution_count": 18,
   "metadata": {},
   "outputs": [
    {
     "name": "stdout",
     "output_type": "stream",
     "text": [
      "1024\n",
      "torch.Size([32, 32])\n",
      "tensor([[1., 0., 0.,  ..., 0., 0., 0.],\n",
      "        [0., 1., 0.,  ..., 0., 0., 0.],\n",
      "        [0., 0., 1.,  ..., 0., 0., 0.],\n",
      "        ...,\n",
      "        [0., 0., 0.,  ..., 1., 0., 0.],\n",
      "        [0., 0., 0.,  ..., 0., 1., 0.],\n",
      "        [0., 0., 0.,  ..., 0., 0., 1.]])\n",
      "torch.Size([32, 32])\n"
     ]
    }
   ],
   "source": [
    "z = y.flatten()\n",
    "print(len(z))\n",
    "shap = y.shape\n",
    "print(shap)\n",
    "A = torch.eye(y.shape[0])\n",
    "print(A)\n",
    "x = torch.empty(shap)\n",
    "print(x.shape)\n"
   ]
  },
  {
   "cell_type": "code",
   "execution_count": 87,
   "metadata": {},
   "outputs": [
    {
     "data": {
      "text/plain": [
       "<matplotlib.image.AxesImage at 0x21504e21820>"
      ]
     },
     "execution_count": 87,
     "metadata": {},
     "output_type": "execute_result"
    },
    {
     "data": {
      "image/png": "[encoded data removed]",
      "text/plain": [
       "<Figure size 432x288 with 1 Axes>"
      ]
     },
     "metadata": {
      "needs_background": "light"
     },
     "output_type": "display_data"
    }
   ],
   "source": [
    "# init params\n",
    "mu = 0.5\n",
    "lamda = 0.5\n",
    "K = 100\n",
    "y = x_noisy_example[3,:,:,:]\n",
    "y = y\n",
    "x_test = torch.empty_like(y)\n",
    "x = torch.zeros_like(y)\n",
    "A = torch.eye(y.shape[0],y.shape[1])  \n",
    "\n",
    "# softthreshold(x,shrinkage)\n",
    "# we first initialize y->mu*A.T\n",
    "\n",
    "x_0 = y@(mu*A.T) # --> soft-treshold ---> I-mu*A.T*A\n",
    "x_0_soft = softthreshold(x_0,lamda)\n",
    "# x_k = x_0 + (x_0_soft - x_0_soft*A)\n",
    "for i in range(K):\n",
    "    # p_init = (A@x - y)\n",
    "    # x_k = x + mu*p_init\n",
    "    x_k = x_0 + (x_0_soft - x_0_soft*A)\n",
    "    x_0 = x_k\n",
    "    x_0_soft = softthreshold(x_0,lamda)\n",
    "\n",
    "plt.imshow(x_0_soft[0,:,:],cmap='gray')\n",
    "\n",
    "    \n",
    "      "
   ]
  },
  {
   "cell_type": "code",
   "execution_count": 71,
   "metadata": {},
   "outputs": [
    {
     "data": {
      "text/plain": [
       "tensor([[[[-0.5303,  0.2261, -1.4305,  ..., -1.2996, -0.7251, -1.7388],\n",
       "          [-0.6452, -1.2132, -1.1929,  ..., -1.6255, -1.7102, -1.6422],\n",
       "          [-1.5097, -0.9324, -1.6783,  ..., -0.6178, -1.1962, -1.8434],\n",
       "          ...,\n",
       "          [-0.8682, -1.3313, -0.8090,  ..., -1.1923, -0.0395, -1.0516],\n",
       "          [-0.7573, -0.3469, -1.7947,  ...,  0.3228, -0.7713, -0.7367],\n",
       "          [-1.0862, -1.1235, -1.5547,  ..., -1.4084, -0.8460, -0.9280]]],\n",
       "\n",
       "\n",
       "        [[[-1.6549, -0.6092, -1.2485,  ..., -0.5038, -1.2268, -1.3574],\n",
       "          [-1.0344, -1.6878, -1.2185,  ..., -0.2723, -0.2964, -0.1505],\n",
       "          [-1.2929, -2.0204, -1.1897,  ..., -0.9976, -1.0987, -0.9843],\n",
       "          ...,\n",
       "          [-0.9823, -1.1581, -1.7435,  ..., -0.7535, -0.2427, -1.5870],\n",
       "          [-1.0101, -1.1014, -1.0749,  ..., -0.6235, -1.7668, -1.2693],\n",
       "          [-0.6484, -1.1633, -0.1700,  ..., -0.5256, -1.1546, -0.9140]]],\n",
       "\n",
       "\n",
       "        [[[-0.8795, -2.0543, -1.0930,  ..., -1.0731, -0.4957, -0.5783],\n",
       "          [-1.5600, -0.8441, -1.9451,  ..., -0.5753, -0.8237, -2.3348],\n",
       "          [-0.6850, -1.5980, -0.6583,  ..., -0.6064, -0.8475,  0.0452],\n",
       "          ...,\n",
       "          [-1.6726, -1.2049, -1.1250,  ..., -0.7334, -1.2620, -0.7077],\n",
       "          [-0.6516, -1.3921, -0.7953,  ..., -1.0503, -1.1113, -0.6040],\n",
       "          [-0.9119, -1.4344, -0.8307,  ..., -0.0471, -1.1364, -0.9131]]],\n",
       "\n",
       "\n",
       "        ...,\n",
       "\n",
       "\n",
       "        [[[-1.0907, -1.4720, -0.6037,  ..., -0.6015, -1.3401, -2.3180],\n",
       "          [-0.8166, -0.9107, -1.1935,  ..., -1.5733, -0.6244, -0.6482],\n",
       "          [-1.8768, -0.8628, -0.5129,  ..., -1.2526, -0.5402, -0.8398],\n",
       "          ...,\n",
       "          [-2.1776, -0.8775, -1.0658,  ..., -1.3985, -2.0794, -1.9882],\n",
       "          [-1.4385, -0.5887, -0.8857,  ..., -1.3963, -1.2879, -0.3890],\n",
       "          [-0.7998, -1.0618, -1.5405,  ..., -1.1555, -2.0496, -0.4603]]],\n",
       "\n",
       "\n",
       "        [[[-0.9072, -1.3743, -1.3738,  ..., -1.7121, -0.2953, -1.4290],\n",
       "          [-0.9313, -1.1360, -1.0494,  ..., -1.3600, -0.4543, -0.2114],\n",
       "          [-1.6696, -0.3046, -1.0467,  ..., -0.7027, -1.3385, -1.0686],\n",
       "          ...,\n",
       "          [-1.2983, -1.2907, -0.8449,  ..., -1.1608, -0.8438, -0.5155],\n",
       "          [-1.3751, -2.1659, -2.1023,  ..., -0.3815, -0.4133, -1.2263],\n",
       "          [-0.4802, -1.9736, -0.7885,  ..., -0.5292, -1.1834, -1.4708]]],\n",
       "\n",
       "\n",
       "        [[[-1.1930, -0.9167, -0.2333,  ..., -0.4438, -0.1751, -0.9549],\n",
       "          [-2.4184, -1.4828, -0.6458,  ..., -1.2205, -0.8968, -1.1098],\n",
       "          [-1.1237, -1.1447, -2.0913,  ..., -0.9329, -1.4570, -1.0513],\n",
       "          ...,\n",
       "          [-0.8362, -0.9386, -1.4907,  ..., -1.0069, -0.8656, -1.5303],\n",
       "          [-0.6196, -1.4724, -1.7079,  ..., -0.5676,  0.1979, -0.8851],\n",
       "          [-0.9600, -1.3293, -0.7542,  ..., -0.1026, -1.0928, -1.5233]]]])"
      ]
     },
     "execution_count": 71,
     "metadata": {},
     "output_type": "execute_result"
    }
   ],
   "source": [
    "x_noisy_example"
   ]
  },
  {
   "cell_type": "code",
   "execution_count": 58,
   "metadata": {},
   "outputs": [
    {
     "name": "stdout",
     "output_type": "stream",
     "text": [
      "tensor([0., 0., 0., 0., 0., 0., 0., 0., 0., 0., 0., 0., 0., 0., 0., 0., 0., 0., 0., 0., 0., 0., 0., 0.,\n",
      "        0., 0., 0., 0., 0., 0., 0., 0.])\n"
     ]
    }
   ],
   "source": [
    "new = torch.max(torch.abs(x)-shrinkage, 0)\n",
    "print(new[0])"
   ]
  },
  {
   "cell_type": "code",
   "execution_count": 35,
   "metadata": {},
   "outputs": [
    {
     "name": "stdout",
     "output_type": "stream",
     "text": [
      "tensor([[0., 0., 0.,  ..., 0., 0., 0.],\n",
      "        [0., 0., 0.,  ..., 0., 0., 0.],\n",
      "        [0., 0., 0.,  ..., 0., 0., 0.],\n",
      "        ...,\n",
      "        [0., 0., 0.,  ..., 0., 0., 0.],\n",
      "        [0., 0., 0.,  ..., 0., 0., 0.],\n",
      "        [0., 0., 0.,  ..., 0., 0., 0.]])\n",
      "torch.Size([32, 32])\n",
      "tensor([0.7910, 1.5695, 1.6551,  ..., 0.3090, 0.6736, 1.8051])\n"
     ]
    }
   ],
   "source": [
    "print(x)\n",
    "print(x_0.size())\n",
    "print(y.flatten()+1)"
   ]
  },
  {
   "cell_type": "code",
   "execution_count": 90,
   "metadata": {},
   "outputs": [
    {
     "name": "stdout",
     "output_type": "stream",
     "text": [
      "tensor([[-0.7299,  0.6920],\n",
      "        [-0.2917, -0.8319]])\n"
     ]
    }
   ],
   "source": [
    "x = torch.Tensor(2, 2).uniform_(-1,1)\n",
    "print(x)"
   ]
  },
  {
   "cell_type": "code",
   "execution_count": 98,
   "metadata": {},
   "outputs": [
    {
     "name": "stdout",
     "output_type": "stream",
     "text": [
      "tensor([[1., 0., 0., 0.],\n",
      "        [0., 1., 0., 0.],\n",
      "        [0., 0., 1., 0.],\n",
      "        [0., 0., 0., 1.]])\n"
     ]
    }
   ],
   "source": [
    "A = torch.eye(x.shape[0],x.shape[1])  \n",
    "A = torch.eye(len(x.flatten()))  \n",
    "\n",
    "print(A)"
   ]
  },
  {
   "cell_type": "code",
   "execution_count": 99,
   "metadata": {},
   "outputs": [
    {
     "name": "stdout",
     "output_type": "stream",
     "text": [
      "tensor([[-0.7299,  0.0000, -0.0000, -0.0000],\n",
      "        [-0.0000,  0.6920, -0.0000, -0.0000],\n",
      "        [-0.0000,  0.0000, -0.2917, -0.0000],\n",
      "        [-0.0000,  0.0000, -0.0000, -0.8319]])\n"
     ]
    }
   ],
   "source": [
    "print(A*x.flatten())"
   ]
  },
  {
   "cell_type": "code",
   "execution_count": 278,
   "metadata": {},
   "outputs": [
    {
     "ename": "IndexError",
     "evalue": "too many indices for tensor of dimension 1",
     "output_type": "error",
     "traceback": [
      "\u001b[1;31m---------------------------------------------------------------------------\u001b[0m",
      "\u001b[1;31mIndexError\u001b[0m                                Traceback (most recent call last)",
      "\u001b[1;32mc:\\Users\\Jexel\\Documents\\Yexel Files Documents\\TUE Complete\\WTB\\Jaar 2 AIESW\\Kwartiel 4\\5LSL0 Machine learning for signal processing\\Assignment\\5LSL0-1\\Assignment 4\\Excerices.ipynb Cell 17'\u001b[0m in \u001b[0;36m<cell line: 42>\u001b[1;34m()\u001b[0m\n\u001b[0;32m     <a href='vscode-notebook-cell:/c%3A/Users/Jexel/Documents/Yexel%20Files%20Documents/TUE%20Complete/WTB/Jaar%202%20AIESW/Kwartiel%204/5LSL0%20Machine%20learning%20for%20signal%20processing/Assignment/5LSL0-1/Assignment%204/Excerices.ipynb#ch0000026?line=38'>39</a>\u001b[0m x_end \u001b[39m=\u001b[39m x_0_soft[\u001b[39m0\u001b[39m,:]\n\u001b[0;32m     <a href='vscode-notebook-cell:/c%3A/Users/Jexel/Documents/Yexel%20Files%20Documents/TUE%20Complete/WTB/Jaar%202%20AIESW/Kwartiel%204/5LSL0%20Machine%20learning%20for%20signal%20processing/Assignment/5LSL0-1/Assignment%204/Excerices.ipynb#ch0000026?line=39'>40</a>\u001b[0m x_end\u001b[39m.\u001b[39mreshape(y\u001b[39m.\u001b[39mshape)\n\u001b[1;32m---> <a href='vscode-notebook-cell:/c%3A/Users/Jexel/Documents/Yexel%20Files%20Documents/TUE%20Complete/WTB/Jaar%202%20AIESW/Kwartiel%204/5LSL0%20Machine%20learning%20for%20signal%20processing/Assignment/5LSL0-1/Assignment%204/Excerices.ipynb#ch0000026?line=41'>42</a>\u001b[0m plt\u001b[39m.\u001b[39mimshow(x_end[:,:],cmap\u001b[39m=\u001b[39m\u001b[39m'\u001b[39m\u001b[39mgray\u001b[39m\u001b[39m'\u001b[39m)\n\u001b[0;32m     <a href='vscode-notebook-cell:/c%3A/Users/Jexel/Documents/Yexel%20Files%20Documents/TUE%20Complete/WTB/Jaar%202%20AIESW/Kwartiel%204/5LSL0%20Machine%20learning%20for%20signal%20processing/Assignment/5LSL0-1/Assignment%204/Excerices.ipynb#ch0000026?line=42'>43</a>\u001b[0m \u001b[39mprint\u001b[39m(x_end)\n",
      "\u001b[1;31mIndexError\u001b[0m: too many indices for tensor of dimension 1"
     ]
    }
   ],
   "source": [
    "# init params\n",
    "mu = 0.5\n",
    "lamda = 0.5\n",
    "K = 2\n",
    "\n",
    "# load in a noisy image\n",
    "y = x_noisy_example[3,:,:,:]\n",
    "\n",
    "# flatten it\n",
    "y_flat = y.flatten()\n",
    "\n",
    "#\n",
    "x = torch.zeros_like(y_flat)\n",
    "# make an identity matrix\n",
    "A = torch.eye(len(y_flat))  \n",
    "\n",
    "# softthreshold(x,shrinkage)\n",
    "# we first initialize y->mu*A.T\n",
    "\n",
    "x_0 = y_flat@(A.T) # --> soft-treshold ---> I-mu*A.T*A\n",
    "x_0_soft = torch.zeros_like(y_flat)\n",
    "# x_0_soft = softthreshold(x_0,lamda)\n",
    "# x_k = x_0 + (x_0_soft - x_0_soft*A)\n",
    "err = 1;\n",
    "\n",
    "# while err > 1e-10:\n",
    "for i in range(K):\n",
    "#     # p_init = (A@x - y)\n",
    "#     # x_k = x + mu*p_init\n",
    "    x_k = x_0 + (x_0_soft - x_0_soft*A)\n",
    "    x_0 = x_k\n",
    "    x_k_soft = softthreshold(x_0,lamda)\n",
    "    err = torch.nn.functional.mse_loss(x_k_soft,x_0_soft*A)\n",
    "    # print(x_k_soft.size(),(x_0_soft*A).size())\n",
    "    # if err < 1e-8:\n",
    "    #     break\n",
    "    # else:\n",
    "    x_0_soft = x_k_soft\n",
    "x_end = x_0_soft[0,:]\n",
    "x_end.reshape(y.shape)\n",
    "\n",
    "plt.imshow(x_end[:,:],cmap='gray')\n",
    "print(x_end)"
   ]
  },
  {
   "cell_type": "code",
   "execution_count": 126,
   "metadata": {},
   "outputs": [
    {
     "name": "stdout",
     "output_type": "stream",
     "text": [
      "torch.Size([1, 32, 32])\n"
     ]
    },
    {
     "data": {
      "text/plain": [
       "<matplotlib.image.AxesImage at 0x215095e2f10>"
      ]
     },
     "execution_count": 126,
     "metadata": {},
     "output_type": "execute_result"
    },
    {
     "data": {
      "image/png": "[encoded data removed]",
      "text/plain": [
       "<Figure size 432x288 with 1 Axes>"
      ]
     },
     "metadata": {
      "needs_background": "light"
     },
     "output_type": "display_data"
    }
   ],
   "source": [
    "print(y.shape)\n",
    "z = x_end.reshape(y.shape)\n",
    "plt.imshow(z[0,:,:],cmap='gray')\n"
   ]
  },
  {
   "cell_type": "code",
   "execution_count": 186,
   "metadata": {},
   "outputs": [],
   "source": [
    "\n",
    "    "
   ]
  },
  {
   "cell_type": "code",
   "execution_count": 289,
   "metadata": {},
   "outputs": [
    {
     "name": "stdout",
     "output_type": "stream",
     "text": [
      "tensor([0.4703, 0.4920, 0.2815,  ..., 0.4511, 0.4156, 0.3243])\n",
      "tensor([0.4703, 0.4920, 0.2815,  ..., 0.4511, 0.4156, 0.3243])\n",
      "tensor([0.3953, 0.4170, 0.2252,  ..., 0.3761, 0.3406, 0.2595])\n",
      "tensor([0.0953, 0.1170, 0.0000,  ..., 0.0761, 0.0406, 0.0000])\n",
      "tensor([0.0953, 0.1170, 0.0000,  ..., 0.0761, 0.0406, 0.0000])\n"
     ]
    },
    {
     "data": {
      "text/plain": [
       "<matplotlib.image.AxesImage at 0x2150ce2a700>"
      ]
     },
     "execution_count": 289,
     "metadata": {},
     "output_type": "execute_result"
    },
    {
     "data": {
      "image/png": "[encoded data removed]",
      "text/plain": [
       "<Figure size 432x288 with 1 Axes>"
      ]
     },
     "metadata": {
      "needs_background": "light"
     },
     "output_type": "display_data"
    }
   ],
   "source": [
    "#########################33 Correct Exc 1 functino\n",
    "\n",
    "\n",
    "# init params\n",
    "mu = 0.8\n",
    "lamda = 0.3\n",
    "K = 40\n",
    "\n",
    "# load in a noisy image\n",
    "y = x_noisy_example[5,:,:,:]\n",
    "\n",
    "# flatten it\n",
    "y_flat = y.flatten() # values can be around (~-3,3)\n",
    "# normalize it \n",
    "# linear rescale to range [0, 1]\n",
    "y_flat -= y_flat.min() # bring the lower range to 0\n",
    "y_flat /= y_flat.max() # bring the upper range to 1\n",
    "\n",
    "# linear rescale to range [-1, 1]\n",
    "# y_flat = 2*y_flat - 1\n",
    "\n",
    "\n",
    "# make an identity matrix\n",
    "A = torch.eye(len(y_flat))  \n",
    "\n",
    "x_in = torch.zeros_like(y_flat)\n",
    "\n",
    "x_k_0 = torch.matmul(y_flat,(A.T)) # --> soft-treshold ---> I-mu*A.T*A\n",
    "#x_k = [mu*A.T*y + [x_in*I - mu*A*A.T*x_in]]\n",
    "x_k = mu*x_k_0 + (x_in@A-mu*x_in@A.T@A)\n",
    "K = 10000\n",
    "err = 1\n",
    "while err > 1e-7:\n",
    "    for i in range (K):\n",
    "        x_k = mu*x_k_0 + (x_in@A-mu*x_in@A.T@A)\n",
    "        x_k_soft = softthreshold(x_k,lamda)\n",
    "        err = torch.nn.functional.mse_loss(x_k_soft,x_in).item()\n",
    "        x_in = x_k_soft\n",
    "        # print(err)\n",
    "    \n",
    "    \n",
    "print(y_flat)\n",
    "print(x_k_0)\n",
    "print(x_k)\n",
    "print(x_k_soft)\n",
    "print(x_in)\n",
    "\n",
    "z = x_in.reshape(y.shape)\n",
    "plt.imshow(z[0,:,:],cmap='gray')\n",
    "\n",
    "\n",
    "\n",
    "    \n"
   ]
  },
  {
   "cell_type": "code",
   "execution_count": 259,
   "metadata": {},
   "outputs": [
    {
     "data": {
      "text/plain": [
       "<matplotlib.image.AxesImage at 0x2150b3784f0>"
      ]
     },
     "execution_count": 259,
     "metadata": {},
     "output_type": "execute_result"
    },
    {
     "data": {
      "image/png": "[encoded data removed]",
      "text/plain": [
       "<Figure size 432x288 with 1 Axes>"
      ]
     },
     "metadata": {
      "needs_background": "light"
     },
     "output_type": "display_data"
    }
   ],
   "source": [
    "y = x_noisy_example[5,:,:,:]\n",
    "plt.imshow(y[0,:,:],cmap='gray')\n"
   ]
  },
  {
   "cell_type": "code",
   "execution_count": 220,
   "metadata": {},
   "outputs": [
    {
     "name": "stdout",
     "output_type": "stream",
     "text": [
      "tensor(1.9674)\n",
      "-3.678187370300293\n"
     ]
    }
   ],
   "source": [
    "# z = x_in.reshape(y.shape)\n",
    "# plt.imshow(z[0,:,:],cmap='gray')\n",
    "# print(y_flat+1)\n",
    "# normalize\n",
    "# torch.nn.functional.normalize(input, p=2.0, dim=1, eps=1e-12, out=None)\n",
    "y = x_noisy_example[3,:,:,:]\n",
    "print(torch.max(y))\n",
    "torch.any(y < -1)\n",
    "print(torch.min(x_noisy_example[:,:,:,:]).item())\n",
    "x_noisy_train"
   ]
  },
  {
   "cell_type": "code",
   "execution_count": 228,
   "metadata": {},
   "outputs": [
    {
     "name": "stdout",
     "output_type": "stream",
     "text": [
      "1.967430591583252 -2.448713779449463\n",
      "Mean, std and Var after normalize:\n",
      " tensor(2.6077e-08) tensor(1.) tensor(1.0000)\n"
     ]
    }
   ],
   "source": [
    "# flatten it\n",
    "y_flat = y.flatten() # values can be around (~-3,3)\n",
    "# normalize it \n",
    "y_max = torch.max(y_flat).item()\n",
    "y_min = torch.min(y_flat).item()\n",
    "print(y_max, y_min)\n",
    "mean, std, var = torch.mean(y_flat), torch.std(y_flat), torch.var(y_flat)\n",
    "y_flat2 = (y_flat-mean)/std\n",
    "mean, std, var = torch.mean(y_flat2), torch.std(y_flat2), torch.var(y_flat2)\n",
    "print(\"Mean, std and Var after normalize:\\n\", mean, std, var)\n",
    "# print(torch.max(y_flat))"
   ]
  },
  {
   "cell_type": "code",
   "execution_count": null,
   "metadata": {},
   "outputs": [
    {
     "name": "stdout",
     "output_type": "stream",
     "text": [
      "[1 0 2]\n",
      "[[ 1  6  5]\n",
      " [ 3  4  8]\n",
      " [ 2 12  3]]\n",
      "[[  0  -6  -3]\n",
      " [ -2  -4  -6]\n",
      " [ -1 -12  -1]]\n"
     ]
    }
   ],
   "source": [
    "import numpy as np\n",
    " \n",
    "# input two matrices\n",
    "mat1 = np.array(([1, 6, 5],[3 ,4, 8],[2, 12, 3]))\n",
    "mat2 = np.array(([3, 4, 6],[5, 6, 7],[6,56, 7]))\n",
    "xx = np.array(([1, 0, 2]))\n",
    "# This will return matrix product of two array\n",
    "res = mat1 @ mat2\n",
    " \n",
    "# print resulted matrix\n",
    "print(xx)\n",
    "print(mat1)\n",
    "print(xx - mat1)"
   ]
  },
  {
   "cell_type": "code",
   "execution_count": 247,
   "metadata": {},
   "outputs": [],
   "source": [
    "x = torch.tensor([2, -1.0, 5, 6, 7])\n",
    "if not all(x == 0): # non all-zero vector\n",
    "    # linear rescale to range [0, 1]\n",
    "    x -= x.min() # bring the lower range to 0\n",
    "    x /= x.max() # bring the upper range to 1\n",
    "    x # tensor([0.3750, 0.0000, 0.7500, 0.8750, 1.0000])\n",
    "    # linear rescale to range [-1, 1]\n",
    "    x = 2*x - 1\n",
    "    x # tensor([-0.2500, -1.0000,  0.5000,  0.7500,  1.0000]"
   ]
  },
  {
   "cell_type": "code",
   "execution_count": 251,
   "metadata": {},
   "outputs": [
    {
     "name": "stdout",
     "output_type": "stream",
     "text": [
      "tensor([3., 0., 6., 7., 8.])\n",
      "tensor(8.)\n",
      "tensor([0.3750, 0.0000, 0.7500, 0.8750, 1.0000])\n"
     ]
    }
   ],
   "source": [
    "x = torch.tensor([2, -1.0, 5, 6, 7])\n",
    "x -= x.min()\n",
    "print(x)\n",
    "print(x.max())\n",
    "x /= x.max()\n",
    "print(x)"
   ]
  },
  {
   "cell_type": "code",
   "execution_count": null,
   "metadata": {},
   "outputs": [],
   "source": []
  },
  {
   "cell_type": "code",
   "execution_count": 218,
   "metadata": {},
   "outputs": [],
   "source": [
    "train_loader, val_loader, test_loader = create_dataloaders(data_loc,batch_size)\n",
    "x_clean_train = train_loader.dataset.Clean_Images\n",
    "x_noisy_train = train_loader.dataset.Noisy_Images\n",
    "labels_train  = train_loader.dataset.Labels\n",
    "x_clean_test  = test_loader.dataset.Clean_Images\n",
    "x_noisy_test  = test_loader.dataset.Noisy_Images\n",
    "labels_test   = test_loader.dataset.Labels\n",
    "\n",
    "# use these 10 examples as representations for all digits\n",
    "x_clean_example = x_clean_test[0:10,:,:,:]\n",
    "x_noisy_example = x_noisy_test[0:10,:,:,:]\n",
    "labels_example = labels_test[0:10]"
   ]
  },
  {
   "cell_type": "code",
   "execution_count": 52,
   "metadata": {},
   "outputs": [
    {
     "data": {
      "text/plain": [
       "([], [])"
      ]
     },
     "execution_count": 52,
     "metadata": {},
     "output_type": "execute_result"
    },
    {
     "data": {
      "image/png": "[encoded data removed]",
      "text/plain": [
       "<Figure size 432x288 with 1 Axes>"
      ]
     },
     "metadata": {},
     "output_type": "display_data"
    }
   ],
   "source": [
    "\n"
   ]
  },
  {
   "cell_type": "markdown",
   "metadata": {},
   "source": []
  },
  {
   "cell_type": "markdown",
   "metadata": {},
   "source": [
    "##### (b) [2 pt] Use your ISTA algorithm on 10 example images. \n",
    "Show them in a figure consisting of 10 collumns (1 per digit) and 3 rows. Row 1 should contain the noisy\n",
    "measurement, row 2 the reconstruction, and row 3 the actual ground truth target.\n",
    "You will have to play with the values for μ, λ, and K. Explain what you see."
   ]
  },
  {
   "cell_type": "code",
   "execution_count": null,
   "metadata": {},
   "outputs": [],
   "source": []
  },
  {
   "cell_type": "markdown",
   "metadata": {},
   "source": [
    "##### (c) [1 pt] To get a numerical estimate for the performance of ISTA, run it on the entire test set and report the resulting mean squared error (mse)."
   ]
  }
 ],
 "metadata": {
  "interpreter": {
   "hash": "0cebc76ff3e953d686a385ef65c3cec7b5011a0054b629434b2c338049b9ef59"
  },
  "kernelspec": {
   "display_name": "Python 3.8.13 ('PGPUC')",
   "language": "python",
   "name": "python3"
  },
  "language_info": {
   "codemirror_mode": {
    "name": "ipython",
    "version": 3
   },
   "file_extension": ".py",
   "mimetype": "text/x-python",
   "name": "python",
   "nbconvert_exporter": "python",
   "pygments_lexer": "ipython3",
   "version": "3.8.13"
  },
  "orig_nbformat": 4
 },
 "nbformat": 4,
 "nbformat_minor": 2
}
