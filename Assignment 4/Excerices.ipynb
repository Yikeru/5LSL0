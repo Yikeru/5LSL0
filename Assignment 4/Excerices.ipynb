{
 "cells": [
  {
   "cell_type": "code",
   "execution_count": 2,
   "metadata": {},
   "outputs": [
    {
     "name": "stdout",
     "output_type": "stream",
     "text": [
      "c:\\Users\\Jexel\\Documents\\Yexel Files Documents\\TUE Complete\\WTB\\Jaar 2 AIESW\\Kwartiel 4\\5LSL0 Machine learning for signal processing\\Assignment\\5LSL0-1\\Assignment 4\n"
     ]
    }
   ],
   "source": [
    "# %% imports\n",
    "# libraries\n",
    "import torch\n",
    "from torch.utils.data import Dataset,DataLoader\n",
    "import torch.optim as optim\n",
    "import torch.nn as nn\n",
    "from tqdm import tqdm\n",
    "import matplotlib.pyplot as plt\n",
    "import glob\n",
    "import os\n",
    "import numpy as np\n",
    "\n",
    "# local imports\n",
    "import MNIST_dataloader\n",
    "# import autoencoder_template\n",
    "from config_file import data_loc\n",
    "from matplotlib import pyplot as plt\n",
    "from MNIST_dataloader import create_dataloaders"
   ]
  },
  {
   "cell_type": "markdown",
   "metadata": {},
   "source": [
    "# Week 1"
   ]
  },
  {
   "cell_type": "markdown",
   "metadata": {},
   "source": [
    "### Exercise 1 - ISTA"
   ]
  },
  {
   "cell_type": "markdown",
   "metadata": {},
   "source": [
    "##### (a)[3 pt]Create a Python function that implements ISTA for MNIST denoising. \n",
    "Make sure the function takes as inputs: step size μ, shrinkage parameter λ, number of\n",
    "iteration K, and measurements (batch of MNIST images) y. It should output the\n",
    "final batch of reconstructions xK.\n",
    "\n",
    "hint: the images are normalized between -1 and 1, which means the background of the\n",
    "images is not at zero. Think about how to still aply ISTA correctly."
   ]
  },
  {
   "cell_type": "code",
   "execution_count": 3,
   "metadata": {},
   "outputs": [],
   "source": [
    "########## Define Paramters\n",
    "mu = 1e-4       # Step-size\n",
    "shrinkage = 0   # \n",
    "K = 10          # Amount of itereations"
   ]
  },
  {
   "cell_type": "code",
   "execution_count": 4,
   "metadata": {},
   "outputs": [],
   "source": [
    "### prepare the datasets\n",
    "# get dataloader\n",
    "batch_size = 64\n",
    "train_loader, test_loader, val_loader = create_dataloaders(data_loc, batch_size)"
   ]
  },
  {
   "cell_type": "code",
   "execution_count": 59,
   "metadata": {},
   "outputs": [],
   "source": [
    "# %% ISTA\n",
    "def softthreshold(x,shrinkage):\n",
    "    '''\n",
    "    Implement soft threshold:\n",
    "    F(x) = sign(x) * max(|x|)-lambda, 0_\n",
    "    Arguments:\n",
    "    ----------------------\n",
    "    x: data-set (default: train_dataset)??\n",
    "    shrinkage: float (default: --)\n",
    "    '''\n",
    "    new = torch.mul(torch.sign(x),torch.max(torch.abs(x)-shrinkage, 0)[0])\n",
    "    \n",
    "    return new\n",
    "\n",
    "def ISTA(mu,shrinkage,K,y):\n",
    "    '''\n",
    "    Iterative shrinkage and Thresholding Algorithm\n",
    "\n",
    "    Arguments:\n",
    "    --------------------\n",
    "    mu:     float (default: 0.5)\n",
    "        The stepsize\n",
    "\n",
    "    shrinkage:  float (default: 0.5)\n",
    "        The shrinking paramter\n",
    "    \n",
    "    K: int (default: 10)\n",
    "        The number of unfolding iterations\n",
    "    \n",
    "    y: ??? (default: ???)\n",
    "        The measurement image.\n",
    "\n",
    "    Returns:\n",
    "    --------------------\n",
    "    x: ??? (default: ???)\n",
    "        The denoised image    \n",
    "    '''\n",
    "    # initialize\n",
    "    ##### Using flattened features\n",
    "    # y2 = y.flatten()\n",
    "    # x = torch.zeros_like(y2)\n",
    "    # A = torch.eye(len(y2)) # length = WxH of image y\n",
    "\n",
    "    #### Using non-flattend features\n",
    "    y = y\n",
    "    x = torch.empty_like(y)\n",
    "    A = torch.eye(y)    \n",
    "    # use for-loop for K-number of iterations\n",
    "    for i in range(K):\n",
    "        ### write the for-loop\n",
    "        pass\n",
    "\n",
    "\n",
    "\n",
    "    \n",
    "\n",
    "    return"
   ]
  },
  {
   "cell_type": "code",
   "execution_count": 14,
   "metadata": {},
   "outputs": [
    {
     "name": "stdout",
     "output_type": "stream",
     "text": [
      "tensor([[-0.2090,  0.5695,  0.6551,  ...,  0.2472, -0.9094,  0.2093],\n",
      "        [-0.5438, -0.5061,  0.5762,  ..., -0.9021,  0.0060, -0.6879],\n",
      "        [ 0.4019, -0.9449,  0.4926,  ...,  0.0738, -0.1771,  0.5592],\n",
      "        ...,\n",
      "        [-0.1933,  0.2455, -0.6462,  ..., -0.9546, -0.1896,  0.0710],\n",
      "        [-0.4428, -0.2875,  0.6662,  ..., -0.5267, -0.2497,  0.4986],\n",
      "        [ 0.0650, -0.2121, -0.1713,  ..., -0.6910, -0.3264,  0.8051]])\n"
     ]
    }
   ],
   "source": [
    "y = torch.Tensor(32, 32).uniform_(-1,1)\n",
    "print(y)"
   ]
  },
  {
   "cell_type": "code",
   "execution_count": 18,
   "metadata": {},
   "outputs": [
    {
     "name": "stdout",
     "output_type": "stream",
     "text": [
      "1024\n",
      "torch.Size([32, 32])\n",
      "tensor([[1., 0., 0.,  ..., 0., 0., 0.],\n",
      "        [0., 1., 0.,  ..., 0., 0., 0.],\n",
      "        [0., 0., 1.,  ..., 0., 0., 0.],\n",
      "        ...,\n",
      "        [0., 0., 0.,  ..., 1., 0., 0.],\n",
      "        [0., 0., 0.,  ..., 0., 1., 0.],\n",
      "        [0., 0., 0.,  ..., 0., 0., 1.]])\n",
      "torch.Size([32, 32])\n"
     ]
    }
   ],
   "source": [
    "z = y.flatten()\n",
    "print(len(z))\n",
    "shap = y.shape\n",
    "print(shap)\n",
    "A = torch.eye(y.shape[0])\n",
    "print(A)\n",
    "x = torch.empty(shap)\n",
    "print(x.shape)\n"
   ]
  },
  {
   "cell_type": "code",
   "execution_count": 85,
   "metadata": {},
   "outputs": [
    {
     "data": {
      "text/plain": [
       "<matplotlib.image.AxesImage at 0x2150a9f4bb0>"
      ]
     },
     "execution_count": 85,
     "metadata": {},
     "output_type": "execute_result"
    },
    {
     "data": {
      "image/png": "[encoded data removed]",
      "text/plain": [
       "<Figure size 432x288 with 1 Axes>"
      ]
     },
     "metadata": {
      "needs_background": "light"
     },
     "output_type": "display_data"
    }
   ],
   "source": [
    "# init params\n",
    "mu = 0.5\n",
    "lamda = 0.5\n",
    "K = 1\n",
    "y = x_noisy_example[3,:,:,:]\n",
    "y = y\n",
    "x_test = torch.empty_like(y)\n",
    "x = torch.zeros_like(y)\n",
    "A = torch.eye(y.shape[0],y.shape[1])  \n",
    "\n",
    "# softthreshold(x,shrinkage)\n",
    "# we first initialize y->mu*A.T\n",
    "\n",
    "x_0 = y@(mu*A.T) # --> soft-treshold ---> I-mu*A.T*A\n",
    "x_0_soft = softthreshold(x_0,lamda)\n",
    "# x_k = x_0 + (x_0_soft - x_0_soft*A)\n",
    "for i in range(K):\n",
    "    # p_init = (A@x - y)\n",
    "    # x_k = x + mu*p_init\n",
    "    x_k = x_0 + (x_0_soft - x_0_soft*A)\n",
    "    x_0 = x_k\n",
    "    x_0_soft = softthreshold(x_0,lamda)\n",
    "\n",
    "plt.imshow(x_0_soft[0,:,:],cmap='gray')\n",
    "\n",
    "    \n",
    "      "
   ]
  },
  {
   "cell_type": "code",
   "execution_count": 71,
   "metadata": {},
   "outputs": [
    {
     "data": {
      "text/plain": [
       "tensor([[[[-0.5303,  0.2261, -1.4305,  ..., -1.2996, -0.7251, -1.7388],\n",
       "          [-0.6452, -1.2132, -1.1929,  ..., -1.6255, -1.7102, -1.6422],\n",
       "          [-1.5097, -0.9324, -1.6783,  ..., -0.6178, -1.1962, -1.8434],\n",
       "          ...,\n",
       "          [-0.8682, -1.3313, -0.8090,  ..., -1.1923, -0.0395, -1.0516],\n",
       "          [-0.7573, -0.3469, -1.7947,  ...,  0.3228, -0.7713, -0.7367],\n",
       "          [-1.0862, -1.1235, -1.5547,  ..., -1.4084, -0.8460, -0.9280]]],\n",
       "\n",
       "\n",
       "        [[[-1.6549, -0.6092, -1.2485,  ..., -0.5038, -1.2268, -1.3574],\n",
       "          [-1.0344, -1.6878, -1.2185,  ..., -0.2723, -0.2964, -0.1505],\n",
       "          [-1.2929, -2.0204, -1.1897,  ..., -0.9976, -1.0987, -0.9843],\n",
       "          ...,\n",
       "          [-0.9823, -1.1581, -1.7435,  ..., -0.7535, -0.2427, -1.5870],\n",
       "          [-1.0101, -1.1014, -1.0749,  ..., -0.6235, -1.7668, -1.2693],\n",
       "          [-0.6484, -1.1633, -0.1700,  ..., -0.5256, -1.1546, -0.9140]]],\n",
       "\n",
       "\n",
       "        [[[-0.8795, -2.0543, -1.0930,  ..., -1.0731, -0.4957, -0.5783],\n",
       "          [-1.5600, -0.8441, -1.9451,  ..., -0.5753, -0.8237, -2.3348],\n",
       "          [-0.6850, -1.5980, -0.6583,  ..., -0.6064, -0.8475,  0.0452],\n",
       "          ...,\n",
       "          [-1.6726, -1.2049, -1.1250,  ..., -0.7334, -1.2620, -0.7077],\n",
       "          [-0.6516, -1.3921, -0.7953,  ..., -1.0503, -1.1113, -0.6040],\n",
       "          [-0.9119, -1.4344, -0.8307,  ..., -0.0471, -1.1364, -0.9131]]],\n",
       "\n",
       "\n",
       "        ...,\n",
       "\n",
       "\n",
       "        [[[-1.0907, -1.4720, -0.6037,  ..., -0.6015, -1.3401, -2.3180],\n",
       "          [-0.8166, -0.9107, -1.1935,  ..., -1.5733, -0.6244, -0.6482],\n",
       "          [-1.8768, -0.8628, -0.5129,  ..., -1.2526, -0.5402, -0.8398],\n",
       "          ...,\n",
       "          [-2.1776, -0.8775, -1.0658,  ..., -1.3985, -2.0794, -1.9882],\n",
       "          [-1.4385, -0.5887, -0.8857,  ..., -1.3963, -1.2879, -0.3890],\n",
       "          [-0.7998, -1.0618, -1.5405,  ..., -1.1555, -2.0496, -0.4603]]],\n",
       "\n",
       "\n",
       "        [[[-0.9072, -1.3743, -1.3738,  ..., -1.7121, -0.2953, -1.4290],\n",
       "          [-0.9313, -1.1360, -1.0494,  ..., -1.3600, -0.4543, -0.2114],\n",
       "          [-1.6696, -0.3046, -1.0467,  ..., -0.7027, -1.3385, -1.0686],\n",
       "          ...,\n",
       "          [-1.2983, -1.2907, -0.8449,  ..., -1.1608, -0.8438, -0.5155],\n",
       "          [-1.3751, -2.1659, -2.1023,  ..., -0.3815, -0.4133, -1.2263],\n",
       "          [-0.4802, -1.9736, -0.7885,  ..., -0.5292, -1.1834, -1.4708]]],\n",
       "\n",
       "\n",
       "        [[[-1.1930, -0.9167, -0.2333,  ..., -0.4438, -0.1751, -0.9549],\n",
       "          [-2.4184, -1.4828, -0.6458,  ..., -1.2205, -0.8968, -1.1098],\n",
       "          [-1.1237, -1.1447, -2.0913,  ..., -0.9329, -1.4570, -1.0513],\n",
       "          ...,\n",
       "          [-0.8362, -0.9386, -1.4907,  ..., -1.0069, -0.8656, -1.5303],\n",
       "          [-0.6196, -1.4724, -1.7079,  ..., -0.5676,  0.1979, -0.8851],\n",
       "          [-0.9600, -1.3293, -0.7542,  ..., -0.1026, -1.0928, -1.5233]]]])"
      ]
     },
     "execution_count": 71,
     "metadata": {},
     "output_type": "execute_result"
    }
   ],
   "source": [
    "x_noisy_example"
   ]
  },
  {
   "cell_type": "code",
   "execution_count": 58,
   "metadata": {},
   "outputs": [
    {
     "name": "stdout",
     "output_type": "stream",
     "text": [
      "tensor([0., 0., 0., 0., 0., 0., 0., 0., 0., 0., 0., 0., 0., 0., 0., 0., 0., 0., 0., 0., 0., 0., 0., 0.,\n",
      "        0., 0., 0., 0., 0., 0., 0., 0.])\n"
     ]
    }
   ],
   "source": [
    "new = torch.max(torch.abs(x)-shrinkage, 0)\n",
    "print(new[0])"
   ]
  },
  {
   "cell_type": "code",
   "execution_count": 35,
   "metadata": {},
   "outputs": [
    {
     "name": "stdout",
     "output_type": "stream",
     "text": [
      "tensor([[0., 0., 0.,  ..., 0., 0., 0.],\n",
      "        [0., 0., 0.,  ..., 0., 0., 0.],\n",
      "        [0., 0., 0.,  ..., 0., 0., 0.],\n",
      "        ...,\n",
      "        [0., 0., 0.,  ..., 0., 0., 0.],\n",
      "        [0., 0., 0.,  ..., 0., 0., 0.],\n",
      "        [0., 0., 0.,  ..., 0., 0., 0.]])\n",
      "torch.Size([32, 32])\n",
      "tensor([0.7910, 1.5695, 1.6551,  ..., 0.3090, 0.6736, 1.8051])\n"
     ]
    }
   ],
   "source": [
    "print(x)\n",
    "print(x_0.size())\n",
    "print(y.flatten()+1)"
   ]
  },
  {
   "cell_type": "code",
   "execution_count": null,
   "metadata": {},
   "outputs": [
    {
     "name": "stdout",
     "output_type": "stream",
     "text": [
      "[1 0 2]\n",
      "[[ 1  6  5]\n",
      " [ 3  4  8]\n",
      " [ 2 12  3]]\n",
      "[[  0  -6  -3]\n",
      " [ -2  -4  -6]\n",
      " [ -1 -12  -1]]\n"
     ]
    }
   ],
   "source": [
    "import numpy as np\n",
    " \n",
    "# input two matrices\n",
    "mat1 = np.array(([1, 6, 5],[3 ,4, 8],[2, 12, 3]))\n",
    "mat2 = np.array(([3, 4, 6],[5, 6, 7],[6,56, 7]))\n",
    "xx = np.array(([1, 0, 2]))\n",
    "# This will return matrix product of two array\n",
    "res = mat1 @ mat2\n",
    " \n",
    "# print resulted matrix\n",
    "print(xx)\n",
    "print(mat1)\n",
    "print(xx - mat1)"
   ]
  },
  {
   "cell_type": "code",
   "execution_count": null,
   "metadata": {},
   "outputs": [],
   "source": []
  },
  {
   "cell_type": "code",
   "execution_count": null,
   "metadata": {},
   "outputs": [],
   "source": []
  },
  {
   "cell_type": "code",
   "execution_count": null,
   "metadata": {},
   "outputs": [],
   "source": []
  },
  {
   "cell_type": "code",
   "execution_count": 86,
   "metadata": {},
   "outputs": [],
   "source": [
    "train_loader, val_loader, test_loader = create_dataloaders(data_loc,batch_size)\n",
    "x_clean_train = train_loader.dataset.Clean_Images\n",
    "x_noisy_train = train_loader.dataset.Noisy_Images\n",
    "labels_train  = train_loader.dataset.Labels\n",
    "x_clean_test  = test_loader.dataset.Clean_Images\n",
    "x_noisy_test  = test_loader.dataset.Noisy_Images\n",
    "labels_test   = test_loader.dataset.Labels\n",
    "\n",
    "# use these 10 examples as representations for all digits\n",
    "x_clean_example = x_clean_test[0:10,:,:,:]\n",
    "x_noisy_example = x_noisy_test[0:10,:,:,:]\n",
    "labels_example = labels_test[0:10]"
   ]
  },
  {
   "cell_type": "code",
   "execution_count": 52,
   "metadata": {},
   "outputs": [
    {
     "data": {
      "text/plain": [
       "([], [])"
      ]
     },
     "execution_count": 52,
     "metadata": {},
     "output_type": "execute_result"
    },
    {
     "data": {
      "image/png": "[encoded data removed]",
      "text/plain": [
       "<Figure size 432x288 with 1 Axes>"
      ]
     },
     "metadata": {},
     "output_type": "display_data"
    }
   ],
   "source": [
    "reconses = torch.zeros((10,1,x_noisy_example.shape[-1],x_noisy_example.shape[-1]))\n",
    "test = x_noisy_example[1,0,:,:]\n",
    "plt.imshow(x_noisy_example[3,0,:,:],cmap='gray')\n",
    "plt.xticks([])\n",
    "plt.yticks([])\n"
   ]
  },
  {
   "cell_type": "markdown",
   "metadata": {},
   "source": []
  },
  {
   "cell_type": "markdown",
   "metadata": {},
   "source": [
    "##### (b) [2 pt] Use your ISTA algorithm on 10 example images. \n",
    "Show them in a figure consisting of 10 collumns (1 per digit) and 3 rows. Row 1 should contain the noisy\n",
    "measurement, row 2 the reconstruction, and row 3 the actual ground truth target.\n",
    "You will have to play with the values for μ, λ, and K. Explain what you see."
   ]
  },
  {
   "cell_type": "code",
   "execution_count": null,
   "metadata": {},
   "outputs": [],
   "source": []
  },
  {
   "cell_type": "markdown",
   "metadata": {},
   "source": [
    "##### (c) [1 pt] To get a numerical estimate for the performance of ISTA, run it on the entire test set and report the resulting mean squared error (mse)."
   ]
  }
 ],
 "metadata": {
  "interpreter": {
   "hash": "0cebc76ff3e953d686a385ef65c3cec7b5011a0054b629434b2c338049b9ef59"
  },
  "kernelspec": {
   "display_name": "Python 3.8.13 ('PGPUC')",
   "language": "python",
   "name": "python3"
  },
  "language_info": {
   "codemirror_mode": {
    "name": "ipython",
    "version": 3
   },
   "file_extension": ".py",
   "mimetype": "text/x-python",
   "name": "python",
   "nbconvert_exporter": "python",
   "pygments_lexer": "ipython3",
   "version": "3.8.13"
  },
  "orig_nbformat": 4
 },
 "nbformat": 4,
 "nbformat_minor": 2
}
