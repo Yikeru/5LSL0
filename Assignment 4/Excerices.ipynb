{
 "cells": [
  {
   "cell_type": "code",
   "execution_count": 4,
   "metadata": {},
   "outputs": [],
   "source": [
    "# %% imports\n",
    "# libraries\n",
    "import torch\n",
    "from torch.utils.data import Dataset,DataLoader\n",
    "import torch.optim as optim\n",
    "import torch.nn as nn\n",
    "from tqdm import tqdm\n",
    "import matplotlib.pyplot as plt\n",
    "import glob\n",
    "import os\n",
    "import numpy as np\n",
    "\n",
    "# local imports\n",
    "import MNIST_dataloader\n",
    "# import autoencoder_template\n",
    "from config_file import data_loc\n",
    "from matplotlib import pyplot as plt\n",
    "from MNIST_dataloader import create_dataloaders"
   ]
  },
  {
   "cell_type": "markdown",
   "metadata": {},
   "source": [
    "# Week 1"
   ]
  },
  {
   "cell_type": "markdown",
   "metadata": {},
   "source": [
    "### Exercise 1 - ISTA"
   ]
  },
  {
   "cell_type": "markdown",
   "metadata": {},
   "source": [
    "##### (a)[3 pt]Create a Python function that implements ISTA for MNIST denoising. \n",
    "Make sure the function takes as inputs: step size μ, shrinkage parameter λ, number of\n",
    "iteration K, and measurements (batch of MNIST images) y. It should output the\n",
    "final batch of reconstructions xK.\n",
    "\n",
    "hint: the images are normalized between -1 and 1, which means the background of the\n",
    "images is not at zero. Think about how to still aply ISTA correctly."
   ]
  },
  {
   "cell_type": "code",
   "execution_count": null,
   "metadata": {},
   "outputs": [],
   "source": []
  },
  {
   "cell_type": "markdown",
   "metadata": {},
   "source": []
  },
  {
   "cell_type": "markdown",
   "metadata": {},
   "source": [
    "##### (b) [2 pt] Use your ISTA algorithm on 10 example images. \n",
    "Show them in a figure consisting of 10 collumns (1 per digit) and 3 rows. Row 1 should contain the noisy\n",
    "measurement, row 2 the reconstruction, and row 3 the actual ground truth target.\n",
    "You will have to play with the values for μ, λ, and K. Explain what you see."
   ]
  },
  {
   "cell_type": "code",
   "execution_count": null,
   "metadata": {},
   "outputs": [],
   "source": []
  },
  {
   "cell_type": "markdown",
   "metadata": {},
   "source": [
    "##### (c) [1 pt] To get a numerical estimate for the performance of ISTA, run it on the entire test set and report the resulting mean squared error (mse)."
   ]
  }
 ],
 "metadata": {
  "interpreter": {
   "hash": "0cebc76ff3e953d686a385ef65c3cec7b5011a0054b629434b2c338049b9ef59"
  },
  "kernelspec": {
   "display_name": "Python 3.8.13 ('PGPUC')",
   "language": "python",
   "name": "python3"
  },
  "language_info": {
   "codemirror_mode": {
    "name": "ipython",
    "version": 3
   },
   "file_extension": ".py",
   "mimetype": "text/x-python",
   "name": "python",
   "nbconvert_exporter": "python",
   "pygments_lexer": "ipython3",
   "version": "3.8.13"
  },
  "orig_nbformat": 4
 },
 "nbformat": 4,
 "nbformat_minor": 2
}
