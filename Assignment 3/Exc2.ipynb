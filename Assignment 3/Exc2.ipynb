{
 "cells": [
  {
   "cell_type": "code",
   "execution_count": 2,
   "metadata": {},
   "outputs": [],
   "source": [
    "# %% imports\n",
    "import torch\n",
    "import torch.nn as nn\n",
    "from torch.nn.modules.activation import ReLU\n",
    "\n",
    "# Encoder.forward()\n",
    "x = torch.rand(20,1,2,1)\n",
    "# print(x)"
   ]
  },
  {
   "cell_type": "code",
   "execution_count": null,
   "metadata": {},
   "outputs": [],
   "source": [
    "class_dict = {0: 'airplane', 1: 'automobile', 2: 'bird', 3: 'cat', 4: 'deer', 5: 'dog', 6: 'frog',\n",
    "            7: 'horse', 8: 'ship', 9: 'truck'}"
   ]
  }
 ],
 "metadata": {
  "interpreter": {
   "hash": "52cc05b29240497bdfae3b04fd09e6c0e15f276d506dc9b61246632cd72a94fb"
  },
  "kernelspec": {
   "display_name": "Python 3.7.11 ('CNN-Course GPU')",
   "language": "python",
   "name": "python3"
  },
  "language_info": {
   "codemirror_mode": {
    "name": "ipython",
    "version": 3
   },
   "file_extension": ".py",
   "mimetype": "text/x-python",
   "name": "python",
   "nbconvert_exporter": "python",
   "pygments_lexer": "ipython3",
   "version": "3.7.11"
  },
  "orig_nbformat": 4
 },
 "nbformat": 4,
 "nbformat_minor": 2
}
