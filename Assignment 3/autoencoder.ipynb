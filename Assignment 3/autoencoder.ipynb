{
 "cells": [
  {
   "cell_type": "code",
   "execution_count": 1,
   "metadata": {},
   "outputs": [],
   "source": [
    "# %% imports\n",
    "import torch\n",
    "import torch.nn as nn\n",
    "from torch.nn.modules.activation import ReLU\n",
    "\n"
   ]
  },
  {
   "cell_type": "code",
   "execution_count": 2,
   "metadata": {},
   "outputs": [],
   "source": [
    "# %%  Encoder\n",
    "class Encoder(nn.Module):\n",
    "    def __init__(self):\n",
    "        super(Encoder, self).__init__()  # same as super().__init__()\n",
    "        # how to find output shape: [input - kernel + 2*padding - (dilation-1)(kernel-1)]/stride + 1\n",
    "        self.encoder = nn.Sequential(\n",
    "            #  \n",
    "            nn.Conv2d(1,16, kernel_size=(3,3),padding=1, stride=1), #[Nx1x32x32]=> [Nx16x32x32]\n",
    "            nn.ReLU(),\n",
    "            nn.MaxPool2d(2,2),#[Nx16x32x32]=> [Nx16x16x16]\n",
    "\n",
    "            nn.Conv2d(16,16, kernel_size=(3,3),padding=1, stride=1), #[Nx16x16x16]=> [Nx16x16x16]\n",
    "            nn.ReLU(),\n",
    "            nn.MaxPool2d(2,2),#[Nx16x16x16]=> [Nx16x8x8]\n",
    "\n",
    "            nn.Conv2d(16,16, kernel_size=(3,3),padding=1, stride=1), #[Nx16x8x8]=> [Nx16x8x8]\n",
    "            nn.ReLU(),\n",
    "            nn.MaxPool2d(2,2),#[Nx16x8x8]=> [Nx16x4x4]\n",
    "\n",
    "            nn.Conv2d(16,16, kernel_size=(3,3),padding=1, stride=1), #[Nx16x4x4]=> [Nx16x4x4]\n",
    "            nn.ReLU(),\n",
    "            nn.MaxPool2d(2,2),#[Nx16x4x4]=> [Nx16x2x2]\n",
    "\n",
    "            nn.Conv2d(16,1, kernel_size=(3,3),padding=1, stride=1), #[Nx16x2x2]=> [Nx1x2x2]\n",
    "            nn.MaxPool2d((1,2)) #[Nx1x2x2]=> [Nx1x2x1]\n",
    "        )\n",
    "    def forward(self, x):\n",
    "        # First branch uses dilation\n",
    "        y = self.encoder(x)\n",
    "        return y\n",
    "    \n",
    "\n",
    "    \n"
   ]
  },
  {
   "cell_type": "code",
   "execution_count": 3,
   "metadata": {},
   "outputs": [
    {
     "name": "stdout",
     "output_type": "stream",
     "text": [
      "torch.Size([64, 1, 2, 1])\n"
     ]
    }
   ],
   "source": [
    "# sanity\n",
    "test_input = torch.rand(64,1,32,32)\n",
    "model_test = Encoder()\n",
    "test_out=model_test.forward(test_input)\n",
    "print(test_out.size())"
   ]
  },
  {
   "cell_type": "code",
   "execution_count": 4,
   "metadata": {},
   "outputs": [],
   "source": [
    "# %%  Decoder\n",
    "class Decoder(nn.Module):\n",
    "    def __init__(self):\n",
    "        super(Decoder, self).__init__()\n",
    "        # create layers here\n",
    "            # nn.ConvTranspose2d(),\n",
    "            # nn.ReLU(),\n",
    "            # nn.Upsample(),\n",
    "        self.decoder = nn.Sequential(\n",
    "            nn.ConvTranspose2d(1, 16, kernel_size=(3,3)), # [Nx1x2x1]=>[Nx16x4x3]\n",
    "            nn.ReLU(),\n",
    "            nn.Upsample(scale_factor=2), #[Nx16x4x3]=>[Nx16x8x6]\n",
    "\n",
    "            nn.ConvTranspose2d(16, 16, kernel_size=(3,3)), # [Nx16x8x6]=>[Nx16x10x8]\n",
    "            nn.ReLU(),\n",
    "            nn.Upsample(scale_factor=2), #[Nx16x10x8]=>[Nx16x20x16]\n",
    "\n",
    "            nn.ConvTranspose2d(16, 16, kernel_size=(3,3)), # [Nx16x10x8]=>[Nx16x22x18]\n",
    "            nn.ReLU(),\n",
    "            nn.Upsample(scale_factor=2), #[Nx16x22x18]=>[Nx16x44x36]\n",
    "\n",
    "            nn.ConvTranspose2d(16, 1, kernel_size=(3,3)), # [Nx16x44x36]=>[Nx1x46x38]\n",
    "            nn.Upsample(size=(32,32)), #[Nx1x46x38]=>[Nx1x32x32]\n",
    "            )\n",
    "\n",
    "    def forward(self, h):\n",
    "        # use the created layers here\n",
    "        return self.decoder(h)\n"
   ]
  },
  {
   "cell_type": "code",
   "execution_count": 5,
   "metadata": {},
   "outputs": [
    {
     "name": "stdout",
     "output_type": "stream",
     "text": [
      "torch.Size([64, 1, 32, 32])\n"
     ]
    }
   ],
   "source": [
    "# sanity\n",
    "test_input = torch.rand(64,1,2,1)\n",
    "model_test = Decoder()\n",
    "test_out=model_test.forward(test_input)\n",
    "print(test_out.size())"
   ]
  },
  {
   "cell_type": "code",
   "execution_count": 6,
   "metadata": {},
   "outputs": [],
   "source": [
    "# %%  Autoencoder\n",
    "class AE(nn.Module):\n",
    "    def __init__(self):\n",
    "        super(AE, self).__init__()\n",
    "        self.encoder = Encoder()\n",
    "        self.decoder = Decoder()\n",
    "        \n",
    "    def forward(self, x):\n",
    "#         print(\"Setting up the autoencoder\")\n",
    "#         print(\"We re feeding the autoencoder input of shape \", x.size())\n",
    "        h = self.encoder(x)\n",
    "        r = self.decoder(h)\n",
    "        return r, h\n",
    "    \n"
   ]
  },
  {
   "cell_type": "code",
   "execution_count": 7,
   "metadata": {},
   "outputs": [],
   "source": [
    "# %% imports\n",
    "# libraries\n",
    "import torch\n",
    "import torch.optim as optim\n",
    "import torch.nn as nn\n",
    "from tqdm import tqdm\n",
    "import matplotlib.pyplot as plt\n",
    "import os\n",
    "\n",
    "# local imports\n",
    "import MNIST_dataloader\n",
    "import autoencoder_template\n",
    "from config_file import data_loc\n",
    "from matplotlib import pyplot as plt\n",
    "from MNIST_dataloader import create_dataloaders\n"
   ]
  },
  {
   "cell_type": "code",
   "execution_count": 8,
   "metadata": {},
   "outputs": [
    {
     "name": "stdout",
     "output_type": "stream",
     "text": [
      "True\n",
      "C:\\Users\\20167271\\AppData\\Local\\Continuum\\anaconda3\\python.exe\n"
     ]
    }
   ],
   "source": [
    "if torch.cuda.is_available():\n",
    "    device = torch.device('cuda')\n",
    "else:\n",
    "    device = torch.device('cpu')\n",
    "print(torch.cuda.is_available())\n",
    "\n",
    "import sys\n",
    "print(sys.executable)"
   ]
  },
  {
   "cell_type": "code",
   "execution_count": 9,
   "metadata": {},
   "outputs": [
    {
     "name": "stdout",
     "output_type": "stream",
     "text": [
      "Using  cuda\n"
     ]
    }
   ],
   "source": [
    "# %% set torches random seed\n",
    "torch.random.manual_seed(0)\n",
    "\n",
    "# %% preperations\n",
    "model_path = os.path.join(\"./\", \"Saved_Model.pth\")\n",
    "\n",
    "# define parameters\n",
    "batch_size = 64\n",
    "no_epochs = 20\n",
    "learning_rate = 3e-4\n",
    "\n",
    "# get dataloader\n",
    "train_loader, test_loader, val_loader = MNIST_dataloader.create_dataloaders(data_loc, batch_size)\n",
    "\n",
    "# create the autoencoder\n",
    "model = AE()\n",
    "\n",
    "# set device\n",
    "dtype = torch.float32\n",
    "if torch.cuda.is_available():\n",
    "    device = torch.device('cuda')\n",
    "else:\n",
    "    device = torch.device('cpu')\n",
    "print('Using ', device)\n",
    "model = model.to(device=device)\n",
    "\n",
    "# create the optimizer\n",
    "optimizer = optim.Adam(model.parameters(), lr=learning_rate, eps=1e-08, weight_decay=0.0005)\n",
    "\n",
    "# choose loss\n",
    "criterion = nn.MSELoss(reduction='mean')\n"
   ]
  },
  {
   "cell_type": "code",
   "execution_count": 10,
   "metadata": {},
   "outputs": [
    {
     "name": "stderr",
     "output_type": "stream",
     "text": [
      "\r",
      "  0%|          | 0/844 [00:00<?, ?it/s]"
     ]
    },
    {
     "name": "stdout",
     "output_type": "stream",
     "text": [
      "The training will start now!!!!!\n",
      "\n",
      "Training Epoch 0:\n"
     ]
    },
    {
     "name": "stderr",
     "output_type": "stream",
     "text": [
      "100%|██████████| 844/844 [00:38<00:00, 21.90it/s]\n",
      "  1%|          | 5/844 [00:00<00:17, 47.69it/s]"
     ]
    },
    {
     "name": "stdout",
     "output_type": "stream",
     "text": [
      "Epoch 0\n",
      "Training Loss 0.2717043837417641\n",
      "Validation Loss 0.2307068668305874\n",
      "\n",
      "Training Epoch 1:\n"
     ]
    },
    {
     "name": "stderr",
     "output_type": "stream",
     "text": [
      "100%|██████████| 844/844 [00:14<00:00, 59.26it/s]\n",
      "  1%|          | 6/844 [00:00<00:15, 52.72it/s]"
     ]
    },
    {
     "name": "stdout",
     "output_type": "stream",
     "text": [
      "Epoch 1\n",
      "Training Loss 0.21080295049466227\n",
      "Validation Loss 0.20689966063946486\n",
      "\n",
      "Training Epoch 2:\n"
     ]
    },
    {
     "name": "stderr",
     "output_type": "stream",
     "text": [
      "100%|██████████| 844/844 [00:13<00:00, 60.47it/s]\n",
      "  1%|          | 6/844 [00:00<00:14, 56.16it/s]"
     ]
    },
    {
     "name": "stdout",
     "output_type": "stream",
     "text": [
      "Epoch 2\n",
      "Training Loss 0.19842754809353588\n",
      "Validation Loss 0.20088231284171343\n",
      "\n",
      "Training Epoch 3:\n"
     ]
    },
    {
     "name": "stderr",
     "output_type": "stream",
     "text": [
      "100%|██████████| 844/844 [00:14<00:00, 59.74it/s]\n",
      "  1%|          | 6/844 [00:00<00:15, 55.13it/s]"
     ]
    },
    {
     "name": "stdout",
     "output_type": "stream",
     "text": [
      "Epoch 3\n",
      "Training Loss 0.19418765537405466\n",
      "Validation Loss 0.1975250095129013\n",
      "\n",
      "Training Epoch 4:\n"
     ]
    },
    {
     "name": "stderr",
     "output_type": "stream",
     "text": [
      "100%|██████████| 844/844 [00:14<00:00, 59.25it/s]\n",
      "  1%|          | 6/844 [00:00<00:15, 55.13it/s]"
     ]
    },
    {
     "name": "stdout",
     "output_type": "stream",
     "text": [
      "Epoch 4\n",
      "Training Loss 0.1914744740307896\n",
      "Validation Loss 0.19429442659020424\n",
      "\n",
      "Training Epoch 5:\n"
     ]
    },
    {
     "name": "stderr",
     "output_type": "stream",
     "text": [
      "100%|██████████| 844/844 [00:14<00:00, 59.75it/s]\n",
      "  1%|          | 6/844 [00:00<00:15, 55.64it/s]"
     ]
    },
    {
     "name": "stdout",
     "output_type": "stream",
     "text": [
      "Epoch 5\n",
      "Training Loss 0.18891738021472618\n",
      "Validation Loss 0.1931380145251751\n",
      "\n",
      "Training Epoch 6:\n"
     ]
    },
    {
     "name": "stderr",
     "output_type": "stream",
     "text": [
      "100%|██████████| 844/844 [00:13<00:00, 61.15it/s]\n",
      "  1%|          | 6/844 [00:00<00:14, 58.34it/s]"
     ]
    },
    {
     "name": "stdout",
     "output_type": "stream",
     "text": [
      "Epoch 6\n",
      "Training Loss 0.18584973110830613\n",
      "Validation Loss 0.18723720591515303\n",
      "\n",
      "Training Epoch 7:\n"
     ]
    },
    {
     "name": "stderr",
     "output_type": "stream",
     "text": [
      "100%|██████████| 844/844 [00:13<00:00, 60.86it/s]\n",
      "  1%|          | 6/844 [00:00<00:14, 56.72it/s]"
     ]
    },
    {
     "name": "stdout",
     "output_type": "stream",
     "text": [
      "Epoch 7\n",
      "Training Loss 0.18226804494222193\n",
      "Validation Loss 0.18408075626939535\n",
      "\n",
      "Training Epoch 8:\n"
     ]
    },
    {
     "name": "stderr",
     "output_type": "stream",
     "text": [
      "100%|██████████| 844/844 [00:14<00:00, 59.94it/s]\n",
      "  1%|          | 6/844 [00:00<00:14, 57.25it/s]"
     ]
    },
    {
     "name": "stdout",
     "output_type": "stream",
     "text": [
      "Epoch 8\n",
      "Training Loss 0.1798350576364316\n",
      "Validation Loss 0.18317420221865177\n",
      "\n",
      "Training Epoch 9:\n"
     ]
    },
    {
     "name": "stderr",
     "output_type": "stream",
     "text": [
      "100%|██████████| 844/844 [00:14<00:00, 59.95it/s]\n",
      "  1%|          | 6/844 [00:00<00:15, 55.62it/s]"
     ]
    },
    {
     "name": "stdout",
     "output_type": "stream",
     "text": [
      "Epoch 9\n",
      "Training Loss 0.17798665594927507\n",
      "Validation Loss 0.18066749814897776\n",
      "\n",
      "Training Epoch 10:\n"
     ]
    },
    {
     "name": "stderr",
     "output_type": "stream",
     "text": [
      "100%|██████████| 844/844 [00:13<00:00, 60.38it/s]\n",
      "  1%|          | 6/844 [00:00<00:15, 55.13it/s]"
     ]
    },
    {
     "name": "stdout",
     "output_type": "stream",
     "text": [
      "Epoch 10\n",
      "Training Loss 0.17667468269995604\n",
      "Validation Loss 0.17753044795244932\n",
      "\n",
      "Training Epoch 11:\n"
     ]
    },
    {
     "name": "stderr",
     "output_type": "stream",
     "text": [
      "100%|██████████| 844/844 [00:14<00:00, 59.95it/s]\n",
      "  1%|          | 5/844 [00:00<00:17, 49.09it/s]"
     ]
    },
    {
     "name": "stdout",
     "output_type": "stream",
     "text": [
      "Epoch 11\n",
      "Training Loss 0.17546445475582262\n",
      "Validation Loss 0.17726890835911036\n",
      "\n",
      "Training Epoch 12:\n"
     ]
    },
    {
     "name": "stderr",
     "output_type": "stream",
     "text": [
      "100%|██████████| 844/844 [00:14<00:00, 59.24it/s]\n",
      "  1%|          | 6/844 [00:00<00:14, 57.78it/s]"
     ]
    },
    {
     "name": "stdout",
     "output_type": "stream",
     "text": [
      "Epoch 12\n",
      "Training Loss 0.17443895225205694\n",
      "Validation Loss 0.17718174029141665\n",
      "\n",
      "Training Epoch 13:\n"
     ]
    },
    {
     "name": "stderr",
     "output_type": "stream",
     "text": [
      "100%|██████████| 844/844 [00:14<00:00, 59.88it/s]\n",
      "  1%|          | 6/844 [00:00<00:14, 57.86it/s]"
     ]
    },
    {
     "name": "stdout",
     "output_type": "stream",
     "text": [
      "Epoch 13\n",
      "Training Loss 0.173448827576722\n",
      "Validation Loss 0.17531140614300966\n",
      "\n",
      "Training Epoch 14:\n"
     ]
    },
    {
     "name": "stderr",
     "output_type": "stream",
     "text": [
      "100%|██████████| 844/844 [00:13<00:00, 60.74it/s]\n",
      "  1%|          | 6/844 [00:00<00:14, 56.77it/s]"
     ]
    },
    {
     "name": "stdout",
     "output_type": "stream",
     "text": [
      "Epoch 14\n",
      "Training Loss 0.17253425574345047\n",
      "Validation Loss 0.17629555985331535\n",
      "\n",
      "Training Epoch 15:\n"
     ]
    },
    {
     "name": "stderr",
     "output_type": "stream",
     "text": [
      "100%|██████████| 844/844 [00:13<00:00, 60.82it/s]\n",
      "  1%|          | 6/844 [00:00<00:14, 57.85it/s]"
     ]
    },
    {
     "name": "stdout",
     "output_type": "stream",
     "text": [
      "Epoch 15\n",
      "Training Loss 0.17169109179298458\n",
      "Validation Loss 0.17268479987978935\n",
      "\n",
      "Training Epoch 16:\n"
     ]
    },
    {
     "name": "stderr",
     "output_type": "stream",
     "text": [
      "100%|██████████| 844/844 [00:14<00:00, 60.05it/s]\n",
      "  1%|          | 6/844 [00:00<00:14, 56.23it/s]"
     ]
    },
    {
     "name": "stdout",
     "output_type": "stream",
     "text": [
      "Epoch 16\n",
      "Training Loss 0.17076615874448095\n",
      "Validation Loss 0.17588049545884132\n",
      "\n",
      "Training Epoch 17:\n"
     ]
    },
    {
     "name": "stderr",
     "output_type": "stream",
     "text": [
      "100%|██████████| 844/844 [00:14<00:00, 58.84it/s]\n",
      "  1%|          | 6/844 [00:00<00:14, 58.99it/s]"
     ]
    },
    {
     "name": "stdout",
     "output_type": "stream",
     "text": [
      "Epoch 17\n",
      "Training Loss 0.16987813846759886\n",
      "Validation Loss 0.171732310205698\n",
      "\n",
      "Training Epoch 18:\n"
     ]
    },
    {
     "name": "stderr",
     "output_type": "stream",
     "text": [
      "100%|██████████| 844/844 [00:14<00:00, 60.20it/s]\n",
      "  1%|          | 6/844 [00:00<00:14, 57.85it/s]"
     ]
    },
    {
     "name": "stdout",
     "output_type": "stream",
     "text": [
      "Epoch 18\n",
      "Training Loss 0.1689580614850702\n",
      "Validation Loss 0.17700039595365524\n",
      "\n",
      "Training Epoch 19:\n"
     ]
    },
    {
     "name": "stderr",
     "output_type": "stream",
     "text": [
      "100%|██████████| 844/844 [00:14<00:00, 59.98it/s]\n"
     ]
    },
    {
     "name": "stdout",
     "output_type": "stream",
     "text": [
      "Epoch 19\n",
      "Training Loss 0.16822895149907793\n",
      "Validation Loss 0.17265421990305185\n"
     ]
    }
   ],
   "source": [
    "# # %% set torches random seed\n",
    "# torch.random.manual_seed(0)\n",
    "\n",
    "# # %% preperations\n",
    "# model_path = os.path.join(\"./\", \"Saved_Model.pth\")\n",
    "\n",
    "# # define parameters\n",
    "# batch_size = 64\n",
    "# no_epochs = 20\n",
    "# learning_rate = 3e-4\n",
    "\n",
    "# # get dataloader\n",
    "# train_loader, test_loader, val_loader = MNIST_dataloader.create_dataloaders(data_loc, batch_size)\n",
    "\n",
    "# # create the autoencoder\n",
    "# model = AE()\n",
    "\n",
    "# # set device\n",
    "# dtype = torch.float32\n",
    "# if torch.cuda.is_available():\n",
    "#     device = torch.device('cuda')\n",
    "# else:\n",
    "#     device = torch.device('cpu')\n",
    "# print('Using ', device)\n",
    "# model = model.to(device=device)\n",
    "\n",
    "# # create the optimizer\n",
    "# optimizer = optim.Adam(model.parameters(), lr=learning_rate, eps=1e-08, weight_decay=0.0005)\n",
    "\n",
    "# # choose loss\n",
    "# criterion = nn.MSELoss(reduction='mean')\n",
    "\n",
    "\n",
    "# %% training loop\n",
    "print(\"The training will start now!!!!!\")\n",
    "eval_dic = {'Loss_t': [], 'train_acc': [],'Loss_v': [], 'valid_acc': []}\n",
    "loss_train = []\n",
    "loss_val = []\n",
    "\n",
    "# go over all epochs\n",
    "for epoch in range(no_epochs):\n",
    "    print(f\"\\nTraining Epoch {epoch}:\")\n",
    "    running_loss = 0.0\n",
    "    # go over all minibatches\n",
    "    for batch_idx,(x_clean, x_noisy, label) in enumerate(tqdm(train_loader)):\n",
    "        # fill in how to train your network using only the clean images\n",
    "        model.train()\n",
    "        \n",
    "        x_clean.to(device=device, dtype=dtype)\n",
    "        label.to(device=device, dtype=dtype)\n",
    "        optimizer.zero_grad()\n",
    "\n",
    "        out, _ = model(x_clean.to(torch.device('cuda')))\n",
    "        loss = criterion(out, x_clean.to(torch.device('cuda')))\n",
    "        loss.backward()\n",
    "        optimizer.step()\n",
    "\n",
    "        running_loss += loss.item()\n",
    "\n",
    "    # Check training loss\n",
    "    train_epoch_loss = running_loss/len(train_loader)\n",
    "    eval_dic['Loss_t'].append(train_epoch_loss)\n",
    "\n",
    "    # Check validation loss\n",
    "    with torch.no_grad():\n",
    "        running_loss_val = 0.0\n",
    "#         Set the model to evaluation mode\n",
    "        model.eval()\n",
    "\n",
    "        for (data_clean, data_noisy, labels) in val_loader:\n",
    "            # validation on noisy part or not\n",
    "            x = data_clean\n",
    "\n",
    "            # cast the inputs to the device\n",
    "            x = x.to(device=device)\n",
    "\n",
    "            output, _ = model(x)\n",
    "            loss = criterion(output, x)\n",
    "            running_loss_val += loss.item()\n",
    "\n",
    "        val_epoch_loss = running_loss_val/len(val_loader)\n",
    "        eval_dic['Loss_v'].append(val_epoch_loss)\n",
    "\n",
    "    print('Epoch', epoch)\n",
    "    print('Training Loss', eval_dic['Loss_t'][epoch])\n",
    "    print('Validation Loss', eval_dic['Loss_v'][epoch])\n",
    "\n",
    "torch.save(model.state_dict(), model_path)"
   ]
  },
  {
   "cell_type": "code",
   "execution_count": 18,
   "metadata": {},
   "outputs": [
    {
     "data": {
      "image/png": "[encoded data removed]",
      "text/plain": [
       "<Figure size 432x288 with 1 Axes>"
      ]
     },
     "metadata": {
      "needs_background": "light"
     },
     "output_type": "display_data"
    }
   ],
   "source": [
    "plt.plot(range(no_epochs), eval_dic['Loss_t'][:], label=\"Training loss\")\n",
    "plt.plot(range(no_epochs), eval_dic['Loss_v'][:], label=\"Validation loss\")\n",
    "plt.xlabel(\"epochs\")\n",
    "plt.ylabel(\"Loss\")\n",
    "plt.title(\"Simple autoencoder loss during training\")\n",
    "plt.legend()\n",
    "plt.show()"
   ]
  },
  {
   "cell_type": "code",
   "execution_count": 14,
   "metadata": {},
   "outputs": [
    {
     "data": {
      "text/plain": [
       "20"
      ]
     },
     "execution_count": 14,
     "metadata": {},
     "output_type": "execute_result"
    }
   ],
   "source": [
    "len(eval_dic['Loss_t'])"
   ]
  },
  {
   "cell_type": "code",
   "execution_count": 8,
   "metadata": {},
   "outputs": [
    {
     "data": {
      "image/png": "[encoded data removed]",
      "text/plain": [
       "<Figure size 1440x720 with 20 Axes>"
      ]
     },
     "metadata": {},
     "output_type": "display_data"
    }
   ],
   "source": [
    "# %% Plot an output after training\n",
    "# get some examples\n",
    "examples = enumerate(test_loader)\n",
    "_, (x_clean_example, x_noisy_example, labels_example) = next(examples)\n",
    "\n",
    "\n",
    "# Load in the model on CPU\n",
    "device = torch.device('cpu')\n",
    "model = AE()\n",
    "model.load_state_dict(torch.load(model_path))\n",
    "model = model.to(device=device)\n",
    "\n",
    "\n",
    "with torch.no_grad():\n",
    "    plt.figure(figsize=(20,10))\n",
    "    output,_ = model.forward(x_clean_example)\n",
    "    for i in range(10):\n",
    "        example = x_clean_example[i,0,:,:]\n",
    "        example_out =  output[i,0,:,:]\n",
    "        plt.subplot(5,10,i+1)\n",
    "        plt.gca().set_title('Clean_sample-'+str(i))\n",
    "        plt.imshow(example,cmap='gray')\n",
    "        plt.xticks([])\n",
    "        plt.yticks([])\n",
    "        \n",
    "        plt.subplot(5,10,i+11)\n",
    "        plt.gca().set_title('Clean_sample-'+str(i))\n",
    "        plt.imshow(example_out,cmap='gray')\n",
    "        plt.xticks([])\n",
    "        plt.yticks([])\n",
    "\n",
    "\n",
    "# %% HINT\n",
    "# #hint: if you do not care about going over the data in mini-batches but rather want the entire dataset use:\n",
    "# x_clean_train = train_loader.dataset.Clean_Images\n",
    "# x_noisy_train = train_loader.dataset.Noisy_Images\n",
    "# labels_train  = train_loader.dataset.Labels\n",
    "\n",
    "# x_clean_test  = test_loader.dataset.Clean_Images\n",
    "# x_noisy_test  = test_loader.dataset.Noisy_Images\n",
    "# labels_test   = test_loader.dataset.Labels\n",
    "\n",
    "# # use these 10 examples as representations for all digits\n",
    "# x_clean_example = x_clean_test[0:10,:,:,:]\n",
    "# x_noisy_example = x_noisy_test[0:10,:,:,:]\n",
    "# labels_example = labels_test[0:10]"
   ]
  },
  {
   "cell_type": "code",
   "execution_count": null,
   "metadata": {},
   "outputs": [],
   "source": [
    "# ####### TRAINING\n",
    "\n",
    "# # Paramters\n",
    "# batch_size = 64\n",
    "# epochs = 10\n",
    "# device =\n",
    "# # get dataloader\n",
    "# train_loader, test_loader = create_dataloaders(data_loc, batch_size)\n",
    "\n",
    "# # get some examples\n",
    "# examples = enumerate(test_loader)\n",
    "# _, (x_clean_example, x_noisy_example, labels_example) = next(examples)\n",
    "# y_output = Encoder().forward(x_clean_example)\n",
    "# print(y_output)\n",
    "\n",
    "# # Test if the encoder works\n",
    "# if __name__ == \"__main__\":\n",
    "#     # imports and parameters\n",
    "#     from config_file import data_loc\n",
    "#     import MNIST_dataloader\n",
    "#     import autoencoder_template\n",
    "#     from matplotlib import pyplot as plt\n",
    "#     from MNIST_dataloader import create_dataloaders\n",
    "#     batch_size = 64\n",
    "    \n",
    "#     # get dataloader\n",
    "#     train_loader, test_loader = create_dataloaders(data_loc, batch_size)\n",
    "    \n",
    "#     # get some examples\n",
    "#     examples = enumerate(test_loader)\n",
    "#     _, (x_clean_example, x_noisy_example, labels_example) = next(examples)\n",
    "#     y_output = Encoder().forward(x_clean_example)\n",
    "#     # try out the model before any training\n",
    "#     model = AE()\n",
    "#     output = model.forward(x_noisy_example)\n",
    "#     plt.figure(figsize=(12,3))\n",
    "#     plt.imshow(x_clean_example[0,0,:,:],cmap='gray')\n",
    "#     plt.show()"
   ]
  },
  {
   "cell_type": "markdown",
   "metadata": {},
   "source": [
    "# Exercise 2"
   ]
  },
  {
   "cell_type": "code",
   "execution_count": null,
   "metadata": {},
   "outputs": [],
   "source": [
    "from config_file import data_loc\n",
    "from MNIST_dataloader import *\n",
    "import matplotlib.cm as cm\n",
    "import numpy as np"
   ]
  },
  {
   "cell_type": "code",
   "execution_count": 9,
   "metadata": {},
   "outputs": [],
   "source": [
    "######################  Get the data  ##################################\n",
    "# get dataloader\n",
    "train_loader, test_loader, val_loader = MNIST_dataloader.create_dataloaders(data_loc, batch_size)\n",
    "\n",
    "# create the autoencoder\n",
    "model = AE()\n",
    "model_path = os.path.join(\"./\", \"Saved_Model.pth\")\n",
    "model.load_state_dict(torch.load(model_path))\n",
    "# batch_size = 64\n",
    "######### DEF PLOTTING LATENT\n",
    "# model(x_clean.to(torch.device('cuda')))\n",
    "# for batch_idx,(x_clean, x_noisy, label) in enumerate(tqdm(train_loader)):\n",
    "def latent_plot(model, data, batch_size=64):\n",
    "    # put the model in the correct device!\n",
    "    device = 'cuda' if torch.cuda.is_available() else 'cpu'\n",
    "    model = model.to(device=device)\n",
    "    \n",
    "    # make a rainbow_color space for the 10 classes\n",
    "    color_list = cm.rainbow(np.linspace(0, 1, 10))\n",
    "    k = 0\n",
    "    for i, (x, y, label) in enumerate(data):\n",
    "        # get the latent space from the encoder\n",
    "        z = model.encoder(x.to(torch.device('cuda')))\n",
    "        z = z.to(torch.device('cpu')).detach().numpy()\n",
    "#         if i == 0: # for sanity check!!!!\n",
    "        for j in range(len(z)):\n",
    "#                 print(z[j][0][0],z[j][0][1],label[j].item())\n",
    "#                 print(z[:,:,0])\n",
    "            plt.scatter(z[:,:,0],z[:,:,1], c=label[:], cmap='tab10')\n",
    "        if i == len(data)-1:\n",
    "            print(len(z))\n",
    "            plt.colorbar()\n",
    "            break\n",
    "\n",
    "\n",
    "\n",
    "#                 plt.scatter(z[:][0][0],z[:][0][1], color = color_list[label[:]])\n",
    "#                 plt.annotate(label[j].item(),(z[j][0][0],z[j][0][1]))\n",
    "    #             plt.annotate(label[j].item(), (z[j][0][0], z[j][0][1]), \n",
    "    #                          color = color_list[labels_example[j]],\n",
    "    #                          fontsize= 30 )\n",
    "    # #             print(z.flatten())\n",
    "    # #             plt.scatter(z[i][0][0][0], z[i][0][0][1], c=label[:], cmap='tab10')\n",
    "    # #         if i > num_batches:\n",
    "    # #             plt.colorbar()\n",
    "    # #             break\n",
    "\n"
   ]
  },
  {
   "cell_type": "code",
   "execution_count": null,
   "metadata": {},
   "outputs": [],
   "source": [
    "plt.figure(figsize=(20,10))\n",
    "latent_plot(model, test_loader)\n",
    "plt.xlabel(' Horizontal')\n",
    "plt.ylabel(' Vertical')\n",
    "# plt.xlim((0,1))\n",
    "# plt.ylim((0,1))\n",
    "plt.grid()"
   ]
  },
  {
   "cell_type": "code",
   "execution_count": null,
   "metadata": {},
   "outputs": [],
   "source": [
    "# latent_plot(model, test_loader)\n"
   ]
  },
  {
   "cell_type": "code",
   "execution_count": null,
   "metadata": {},
   "outputs": [],
   "source": [
    "# get dataloader\n",
    "train_loader, test_loader = create_dataloaders(data_loc, batch_size)\n",
    "# get some examples\n",
    "examples = enumerate(test_loader)\n",
    "_, (x_clean_example, x_noisy_example, labels_example) = next(examples)\n",
    "# use these example images througout the assignment as the first 10 correspond to the digits 0-9\n",
    "# make some fake encoder [1x2] outputs of batchsize\n",
    "x = torch.rand(batch_size,1,2,1)\n",
    "\n",
    "# X = x[image_number][0][0], Y =  x[image_number][0][1],  label = labels[image_number]\n",
    "\n",
    "# make a rainbow_color space for the 10 classes\n",
    "color_list = cm.rainbow(np.linspace(0, 1, 10))\n",
    "\n",
    "# Plot the latent space\n",
    "plt.figure(figsize=(20,20))\n",
    "for i in range(batch_size):\n",
    "    # plt.scatter(x[i][0][0],x[i][0][1], \n",
    "    #             color = color_list[labels_example[i]],\n",
    "    #             linewidths= 5) \n",
    "    plt.annotate(labels_example[i].item(), (x[i][0][0], x[i][0][1]), \n",
    "                color = color_list[labels_example[i]],\n",
    "                fontsize= 30 )\n",
    "plt.xlabel(' Horizontal')\n",
    "plt.ylabel(' Vertical')\n",
    "plt.xlim((0,1))\n",
    "plt.ylim((0,1))\n",
    "plt.grid()"
   ]
  },
  {
   "cell_type": "code",
   "execution_count": null,
   "metadata": {},
   "outputs": [],
   "source": []
  },
  {
   "cell_type": "code",
   "execution_count": null,
   "metadata": {},
   "outputs": [],
   "source": []
  },
  {
   "cell_type": "markdown",
   "metadata": {},
   "source": [
    "# Exercise 3\n",
    "### (a) [2 pt]  Encode the test data x_clean_test and perform a 1-nearest neighbour search. \n",
    "You can use the sci-kit learn library for nearest neighbour implementations: from sklearn.neighbors import NearestNeighbors In the 1-nearest neighbour, for every datapoint in the latent space of the testset, you search the datapoint from the training set that has the smallest Euclidean distance in the latent space. You can consider this such that the two images are mapped to the same area in the latent space and hence have relatively high probability that their characteristics, hopefully the digits they represent, are similar. Therefore, assign the class to the test image that corresponds with the class labels_train of its nearest neighbour."
   ]
  },
  {
   "cell_type": "code",
   "execution_count": 10,
   "metadata": {},
   "outputs": [
    {
     "name": "stdout",
     "output_type": "stream",
     "text": [
      "[[0 2]\n",
      " [1 2]\n",
      " [2 0]]\n",
      "[[0.         1.        ]\n",
      " [0.         1.41421356]\n",
      " [0.         1.        ]]\n",
      "[[0 2]\n",
      " [1 2]\n",
      " [2 0]]\n",
      "[[0.         1.        ]\n",
      " [0.         1.41421356]\n",
      " [0.         1.        ]]\n"
     ]
    }
   ],
   "source": [
    "import sklearn\n",
    "from sklearn.neighbors import NearestNeighbors\n",
    "import numpy as np\n",
    "\n",
    "############################### TEST SETUP ##############################################\n",
    "# make some fake encoder [1x2] outputs of batchsize\n",
    "x = torch.rand(batch_size,1,2,1)\n",
    "xq3 = x.flatten(start_dim=1).numpy()\n",
    "# print(xq3)\n",
    "\n",
    "\n",
    "samples = [[0, 0, 2], [1, 0, 0], [0, 0, 1]]\n",
    "# X3_lol = np.array([[-1, -1], [-2, -1], [-3, -2], [1, 1], [2, 1], [3, 2]])\n",
    "# X = np.array([[-1, -1], [-2, -1], [-3, -2], [1, 1], [2, 1], [3, 2]])\n",
    "# \n",
    "# neigh = NearestNeighbors(n_neighbors=1, radius=2.0)\n",
    "# neigh.fit(X3_lol)\n",
    "# dist, indi = neigh.kneighbors(X3_lol)\n",
    "\n",
    "\n",
    "nbrs = NearestNeighbors(n_neighbors=2, algorithm='auto').fit(samples)\n",
    "distances, indices = nbrs.kneighbors(samples)\n",
    "print(indices)\n",
    "print(distances)\n",
    "\n",
    "samples = [[0, 0, 2], [1, 0, 0], [0, 0, 1]]\n",
    "# X3_lol = np.array([[-1, -1], [-2, -1], [-3, -2], [1, 1], [2, 1], [3, 2]])\n",
    "# X = np.array([[-1, -1], [-2, -1], [-3, -2], [1, 1], [2, 1], [3, 2]])\n",
    "# \n",
    "# neigh = NearestNeighbors(n_neighbors=1, radius=2.0)\n",
    "# neigh.fit(X3_lol)\n",
    "# dist, indi = neigh.kneighbors(X3_lol)\n",
    "\n",
    "\n",
    "nbrs = NearestNeighbors(n_neighbors=2, algorithm='auto').fit(samples)\n",
    "distances, indices = nbrs.kneighbors(samples)\n",
    "print(indices)\n",
    "print(distances)\n"
   ]
  },
  {
   "cell_type": "code",
   "execution_count": 20,
   "metadata": {},
   "outputs": [],
   "source": [
    "###### LOAD IN THE DATA ####################\n",
    "\n",
    "# %% HINT\n",
    "#hint: if you do not care about going over the data in mini-batches but rather want the entire dataset use:\n",
    "# x_clean_train = train_loader.dataset.Clean_Images\n",
    "# x_noisy_train = train_loader.dataset.Noisy_Images\n",
    "# labels_train  = train_loader.dataset.Labels\n",
    "\n",
    "# x_clean_test  = test_loader.dataset.Clean_Images\n",
    "# x_noisy_test  = test_loader.dataset.Noisy_Images\n",
    "# labels_test   = test_loader.dataset.Labels\n",
    "\n",
    "# # use these 10 examples as representations for all digits\n",
    "# x_clean_example = x_clean_test[0:10,:,:,:]\n",
    "# x_noisy_example = x_noisy_test[0:00,:,:,:]\n",
    "# labels_example = labels_test[0:100]\n",
    "\n",
    "\n",
    "#hint: if you do not care about going over the data in mini-batches but rather want the entire dataset use:\n",
    "x_clean_train = train_loader.dataset.Clean_Images\n",
    "labels_train  = train_loader.dataset.Labels\n",
    "\n",
    "x_clean_test  = test_loader.dataset.Clean_Images\n",
    "labels_test   = test_loader.dataset.Labels\n",
    "\n",
    "# use these 10 examples as representations for all digits\n",
    "# x_clean_Q3 = x_clean_test[0:10,:,:,:]\n",
    "# labels_example = labels_test[0:10]\n",
    "\n",
    "\n",
    "\n",
    "    \n",
    "    \n",
    "\n"
   ]
  },
  {
   "cell_type": "code",
   "execution_count": 12,
   "metadata": {},
   "outputs": [
    {
     "data": {
      "text/plain": [
       "AE(\n",
       "  (encoder): Encoder(\n",
       "    (encoder): Sequential(\n",
       "      (0): Conv2d(1, 16, kernel_size=(3, 3), stride=(1, 1), padding=(1, 1))\n",
       "      (1): ReLU()\n",
       "      (2): MaxPool2d(kernel_size=2, stride=2, padding=0, dilation=1, ceil_mode=False)\n",
       "      (3): Conv2d(16, 16, kernel_size=(3, 3), stride=(1, 1), padding=(1, 1))\n",
       "      (4): ReLU()\n",
       "      (5): MaxPool2d(kernel_size=2, stride=2, padding=0, dilation=1, ceil_mode=False)\n",
       "      (6): Conv2d(16, 16, kernel_size=(3, 3), stride=(1, 1), padding=(1, 1))\n",
       "      (7): ReLU()\n",
       "      (8): MaxPool2d(kernel_size=2, stride=2, padding=0, dilation=1, ceil_mode=False)\n",
       "      (9): Conv2d(16, 16, kernel_size=(3, 3), stride=(1, 1), padding=(1, 1))\n",
       "      (10): ReLU()\n",
       "      (11): MaxPool2d(kernel_size=2, stride=2, padding=0, dilation=1, ceil_mode=False)\n",
       "      (12): Conv2d(16, 1, kernel_size=(3, 3), stride=(1, 1), padding=(1, 1))\n",
       "      (13): MaxPool2d(kernel_size=(1, 2), stride=(1, 2), padding=0, dilation=1, ceil_mode=False)\n",
       "    )\n",
       "  )\n",
       "  (decoder): Decoder(\n",
       "    (decoder): Sequential(\n",
       "      (0): ConvTranspose2d(1, 16, kernel_size=(3, 3), stride=(1, 1))\n",
       "      (1): ReLU()\n",
       "      (2): Upsample(scale_factor=2.0, mode=nearest)\n",
       "      (3): ConvTranspose2d(16, 16, kernel_size=(3, 3), stride=(1, 1))\n",
       "      (4): ReLU()\n",
       "      (5): Upsample(scale_factor=2.0, mode=nearest)\n",
       "      (6): ConvTranspose2d(16, 16, kernel_size=(3, 3), stride=(1, 1))\n",
       "      (7): ReLU()\n",
       "      (8): Upsample(scale_factor=2.0, mode=nearest)\n",
       "      (9): ConvTranspose2d(16, 1, kernel_size=(3, 3), stride=(1, 1))\n",
       "      (10): Upsample(size=(32, 32), mode=nearest)\n",
       "    )\n",
       "  )\n",
       ")"
      ]
     },
     "execution_count": 12,
     "metadata": {},
     "output_type": "execute_result"
    }
   ],
   "source": [
    "from sklearn.neighbors import NearestNeighbors\n",
    "# get dataloader\n",
    "train_loader, test_loader, val_loader = MNIST_dataloader.create_dataloaders(data_loc, batch_size)\n",
    "\n",
    "\n",
    "# init paramters\n",
    "batch_size = 64\n",
    "device = 'cuda' if torch.cuda.is_available() else 'cpu'\n",
    "\n",
    "\n",
    "# create the autoencoder and load in saved model\n",
    "model = AE()\n",
    "model_path = os.path.join(\"./\", \"Saved_Model.pth\")\n",
    "model.load_state_dict(torch.load(model_path))\n",
    "model = model.to(device=device)\n",
    "model.eval()\n"
   ]
  },
  {
   "cell_type": "code",
   "execution_count": 13,
   "metadata": {},
   "outputs": [],
   "source": [
    "x_clean_test_Q3 = x_clean_test[0:1000,:,:,:]\n",
    "\n",
    "with torch.no_grad():\n",
    "    _,enc_train = model(x_clean_train.to(device=device, dtype=dtype)) \n",
    "    _,enc_test = model(x_clean_test_Q3.to(device=device, dtype=dtype))\n"
   ]
  },
  {
   "cell_type": "code",
   "execution_count": 14,
   "metadata": {},
   "outputs": [
    {
     "name": "stdout",
     "output_type": "stream",
     "text": [
      "torch.Size([1000, 1, 2, 1])\n",
      "torch.Size([54000, 1, 2, 1])\n"
     ]
    }
   ],
   "source": [
    "print(enc_test.size()) #[1000,1,2,1]\n",
    "print(enc_train.size()) #[54000,1,2,1]\n",
    "\n",
    "\n",
    "#### convert back to cpu and squeeze dimensions from [Nx1x2x1] => [Nx2]\n",
    "enc_train = enc_train.cpu().detach().numpy().squeeze()\n",
    "enc_test = enc_test.cpu().detach().numpy().squeeze()\n",
    "\n"
   ]
  },
  {
   "cell_type": "code",
   "execution_count": 15,
   "metadata": {},
   "outputs": [
    {
     "name": "stdout",
     "output_type": "stream",
     "text": [
      "[[-13.115855  -10.32504  ]\n",
      " [ -7.0695114 -11.490951 ]\n",
      " [-17.695007   -5.622559 ]\n",
      " ...\n",
      " [ -9.928099  -10.94212  ]\n",
      " [-14.236233   -8.959322 ]\n",
      " [-11.356438  -11.911134 ]]\n"
     ]
    }
   ],
   "source": []
  },
  {
   "cell_type": "code",
   "execution_count": 83,
   "metadata": {},
   "outputs": [
    {
     "data": {
      "text/plain": [
       "([<matplotlib.axis.XTick at 0x272e7a5e280>,\n",
       "  <matplotlib.axis.XTick at 0x272e7a5e0a0>,\n",
       "  <matplotlib.axis.XTick at 0x272e7a5b100>,\n",
       "  <matplotlib.axis.XTick at 0x272e7a85070>,\n",
       "  <matplotlib.axis.XTick at 0x272e7a856a0>,\n",
       "  <matplotlib.axis.XTick at 0x272e7a85c40>,\n",
       "  <matplotlib.axis.XTick at 0x272e7a8b3d0>,\n",
       "  <matplotlib.axis.XTick at 0x272e7a8bb20>,\n",
       "  <matplotlib.axis.XTick at 0x272e7a922b0>,\n",
       "  <matplotlib.axis.XTick at 0x272e7a92a00>],\n",
       " [Text(0, 0, ''),\n",
       "  Text(0, 0, ''),\n",
       "  Text(0, 0, ''),\n",
       "  Text(0, 0, ''),\n",
       "  Text(0, 0, ''),\n",
       "  Text(0, 0, ''),\n",
       "  Text(0, 0, ''),\n",
       "  Text(0, 0, ''),\n",
       "  Text(0, 0, ''),\n",
       "  Text(0, 0, '')])"
      ]
     },
     "execution_count": 83,
     "metadata": {},
     "output_type": "execute_result"
    },
    {
     "data": {
      "image/png": "[encoded data removed]",
      "text/plain": [
       "<Figure size 1440x720 with 1 Axes>"
      ]
     },
     "metadata": {
      "needs_background": "light"
     },
     "output_type": "display_data"
    }
   ],
   "source": [
    "nbrs = NearestNeighbors(n_neighbors=1, algorithm='auto').fit(enc_train)\n",
    "distances, indices = nbrs.kneighbors(enc_test)\n",
    "\n",
    "# get the labels from the corresponding training labels\n",
    "labels_test_pred = labels_train[indices].squeeze()\n",
    "\n",
    "plt.figure(figsize=(20,10))\n",
    "acc = []\n",
    "for i in range(10):\n",
    "    # get the amount of cells in pred_labels which equal == i\n",
    "    #  get the amount of cells in true_labels which equal == i\n",
    "    # sum these values\n",
    "    # divide\n",
    "\n",
    "    pred_sum = (labels_test_pred == i).long() # get boolean and convert to [1 0] Truth-mask\n",
    "    truth_sum = (labels_test[0:1000] == i).long() # get a boolean mask and convert it to [1 0]\n",
    "    mask_sum = pred_sum+truth_sum\n",
    "    mask_sum2 = (mask_sum>1).long() # basically if a value is bigger than 1 it means that both the prediction and truth are the same for that indice\n",
    "    accuracy = torch.divide(mask_sum2.sum(), truth_sum.sum()) # we didivde sum(predicted_that_where_correct)/sum(all_correct)\n",
    "    acc.append(accuracy.item())\n",
    "\n",
    "langs = range(0,10)\n",
    "plt.bar(langs, acc)\n",
    "plt.xlabel(' Label')\n",
    "plt.ylabel(' Accuracy')\n",
    "plt.xticks(langs)\n"
   ]
  },
  {
   "cell_type": "markdown",
   "metadata": {},
   "source": [
    "### (b) [1 pt]If the classification based on the latent space would not work at all and produce random datapoint in the latent space, how many correct classifications would you expect? \n",
    "Which numbers are classified significantly better than the other, and\n",
    "(consequently) which number aren’t? Can you explain this from the plot of the latent\n",
    "space you made in Exercise 2?"
   ]
  },
  {
   "cell_type": "markdown",
   "metadata": {},
   "source": [
    "The number 1 and 6 are the highest, going a bit down in accuracy are the number 0 and 7 but still higher than 0.5 (i.e. random chance). It seems the numbers between 2 till and including 5 perform the worst. \n",
    "# Complete the answer!"
   ]
  },
  {
   "cell_type": "markdown",
   "metadata": {},
   "source": [
    "### (c) [0.5 pt]If we would design our network differently, where our goal would not be to encode and decode the images but to correctly classify the images, what cost function would you use?"
   ]
  },
  {
   "cell_type": "markdown",
   "metadata": {},
   "source": []
  },
  {
   "cell_type": "markdown",
   "metadata": {},
   "source": [
    "# Exercise 4\n",
    "### As mentioned above, the autoencoder is not designed for classification, but still it manages to classify at least some of the digits relatively accurately. With a rather simple modification, it should be possible to convert your network into a network that is designed for classification purposes."
   ]
  },
  {
   "cell_type": "markdown",
   "metadata": {},
   "source": [
    "That depends on the amount of classes one has to classify. If it is two, Binary Cross Entropy would be a good loss function. If we have more than 2 classes than you need the Categorical Cross Entropy Loss"
   ]
  },
  {
   "cell_type": "markdown",
   "metadata": {},
   "source": [
    "### (a) [2 pt]Use your Encoder as starting point and replace the last Convolutional layer (andits associated Activation and Pooling layer) and replace these by a Fully-Connected,or its equivalent: Dense, layer. \n",
    "If necessary, you can use a Flatten and Activation layer\n",
    "as well. Assign a proper loss function and train and test your network on exactly the\n",
    "same training and test data. What accuracies on the test set can you achieve now?"
   ]
  },
  {
   "cell_type": "code",
   "execution_count": 2,
   "metadata": {},
   "outputs": [
    {
     "ename": "NameError",
     "evalue": "name 'nn' is not defined",
     "output_type": "error",
     "traceback": [
      "\u001b[1;31m---------------------------------------------------------------------------\u001b[0m",
      "\u001b[1;31mNameError\u001b[0m                                 Traceback (most recent call last)",
      "Input \u001b[1;32mIn [2]\u001b[0m, in \u001b[0;36m<cell line: 2>\u001b[1;34m()\u001b[0m\n\u001b[0;32m      1\u001b[0m \u001b[38;5;66;03m# %%  Encoder\u001b[39;00m\n\u001b[1;32m----> 2\u001b[0m \u001b[38;5;28;01mclass\u001b[39;00m \u001b[38;5;21;01mEncoderQ4\u001b[39;00m(\u001b[43mnn\u001b[49m\u001b[38;5;241m.\u001b[39mModule):\n\u001b[0;32m      3\u001b[0m     \u001b[38;5;28;01mdef\u001b[39;00m \u001b[38;5;21m__init__\u001b[39m(\u001b[38;5;28mself\u001b[39m):\n\u001b[0;32m      4\u001b[0m         \u001b[38;5;28msuper\u001b[39m(EncoderQ4, \u001b[38;5;28mself\u001b[39m)\u001b[38;5;241m.\u001b[39m\u001b[38;5;21m__init__\u001b[39m()  \u001b[38;5;66;03m# same as super().__init__()\u001b[39;00m\n",
      "\u001b[1;31mNameError\u001b[0m: name 'nn' is not defined"
     ]
    }
   ],
   "source": [
    "# %%  Encoder\n",
    "class EncoderQ4(nn.Module):\n",
    "    def __init__(self):\n",
    "        super(EncoderQ4, self).__init__()  # same as super().__init__()\n",
    "        # how to find output shape: [input - kernel + 2*padding - (dilation-1)(kernel-1)]/stride + 1\n",
    "        self.encoder = nn.Sequential(\n",
    "            #  \n",
    "            nn.Conv2d(1,16, kernel_size=(3,3),padding=1, stride=1), #[Nx1x32x32]=> [Nx16x32x32]\n",
    "            nn.ReLU(),\n",
    "            nn.MaxPool2d(2,2),#[Nx16x32x32]=> [Nx16x16x16]\n",
    "\n",
    "            nn.Conv2d(16,16, kernel_size=(3,3),padding=1, stride=1), #[Nx16x16x16]=> [Nx16x16x16]\n",
    "            nn.ReLU(),\n",
    "            nn.MaxPool2d(2,2),#[Nx16x16x16]=> [Nx16x8x8]\n",
    "\n",
    "            nn.Conv2d(16,16, kernel_size=(3,3),padding=1, stride=1), #[Nx16x8x8]=> [Nx16x8x8]\n",
    "            nn.ReLU(),\n",
    "            nn.MaxPool2d(2,2),#[Nx16x8x8]=> [Nx16x4x4]\n",
    "\n",
    "            nn.Conv2d(16,16, kernel_size=(3,3),padding=1, stride=1), #[Nx16x4x4]=> [Nx16x4x4]\n",
    "            nn.ReLU(),\n",
    "            nn.MaxPool2d(2,2),#[Nx16x4x4]=> [Nx16x2x2]\n",
    "\n",
    "#             nn.Conv2d(16,1, kernel_size=(3,3),padding=1, stride=1), #[Nx16x2x2]=> [Nx1x2x2]\n",
    "#             nn.MaxPool2d((1,2)) #[Nx1x2x2]=> [Nx1x2x1]\n",
    "            nn.Flatten(), #[Nx16x2x2] => [Nx64]\n",
    "            nn.LogSoftmax(dim=1) # dim=1 and NOT 0 because you dont want to get log(prob) over the batches\n",
    "        )\n",
    "    def forward(self, x):\n",
    "        # First branch uses dilation\n",
    "        y = self.encoder(x)\n",
    "        return y"
   ]
  },
  {
   "cell_type": "code",
   "execution_count": 98,
   "metadata": {},
   "outputs": [
    {
     "name": "stdout",
     "output_type": "stream",
     "text": [
      "torch.Size([64, 64])\n"
     ]
    }
   ],
   "source": [
    "# sanity\n",
    "test_input = torch.rand(64,1,32,32)\n",
    "model_test = EncoderQ4()\n",
    "test_out=model_test.forward(test_input)\n",
    "print(test_out.size())"
   ]
  },
  {
   "cell_type": "code",
   "execution_count": 105,
   "metadata": {},
   "outputs": [
    {
     "name": "stdout",
     "output_type": "stream",
     "text": [
      "Using  cuda:0\n"
     ]
    }
   ],
   "source": [
    "# %% set torches random seed\n",
    "torch.random.manual_seed(0)\n",
    "\n",
    "# %% preperations\n",
    "model_path = os.path.join(\"./\", \"Saved_ModelQ4.pth\")\n",
    "\n",
    "# define parameters\n",
    "batch_size = 64\n",
    "no_epochs = 20\n",
    "learning_rate = 3e-4\n",
    "\n",
    "# get dataloader\n",
    "train_loader, test_loader, val_loader = MNIST_dataloader.create_dataloaders(data_loc, batch_size)\n",
    "\n",
    "# create the classification encoder\n",
    "model = EncoderQ4()\n",
    "\n",
    "# set device\n",
    "dtype = torch.float32\n",
    "if torch.cuda.is_available():\n",
    "    device = torch.device('cuda')\n",
    "else:\n",
    "    device = torch.device('cpu')\n",
    "print('Using ', device)\n",
    "model = model.to(device=device)\n",
    "\n",
    "# create the optimizer\n",
    "optimizer = optim.Adam(model.parameters(), lr=learning_rate, eps=1e-08, weight_decay=0.0005)\n",
    "\n",
    "# choose loss\n",
    "criterion = torch.nn.CrossEntropyLoss()\n",
    "\n",
    "\n",
    "\n"
   ]
  },
  {
   "cell_type": "code",
   "execution_count": 3,
   "metadata": {},
   "outputs": [
    {
     "name": "stdout",
     "output_type": "stream",
     "text": [
      "The training will start now!!!!!\n"
     ]
    },
    {
     "ename": "NameError",
     "evalue": "name 'no_epochs' is not defined",
     "output_type": "error",
     "traceback": [
      "\u001b[1;31m---------------------------------------------------------------------------\u001b[0m",
      "\u001b[1;31mNameError\u001b[0m                                 Traceback (most recent call last)",
      "Input \u001b[1;32mIn [3]\u001b[0m, in \u001b[0;36m<cell line: 8>\u001b[1;34m()\u001b[0m\n\u001b[0;32m      5\u001b[0m loss_val \u001b[38;5;241m=\u001b[39m []\n\u001b[0;32m      7\u001b[0m \u001b[38;5;66;03m# go over all epochs\u001b[39;00m\n\u001b[1;32m----> 8\u001b[0m \u001b[38;5;28;01mfor\u001b[39;00m epoch \u001b[38;5;129;01min\u001b[39;00m \u001b[38;5;28mrange\u001b[39m(\u001b[43mno_epochs\u001b[49m):\n\u001b[0;32m      9\u001b[0m     \u001b[38;5;28mprint\u001b[39m(\u001b[38;5;124mf\u001b[39m\u001b[38;5;124m\"\u001b[39m\u001b[38;5;130;01m\\n\u001b[39;00m\u001b[38;5;124mTraining Epoch \u001b[39m\u001b[38;5;132;01m{\u001b[39;00mepoch\u001b[38;5;132;01m}\u001b[39;00m\u001b[38;5;124m:\u001b[39m\u001b[38;5;124m\"\u001b[39m)\n\u001b[0;32m     10\u001b[0m     running_loss \u001b[38;5;241m=\u001b[39m \u001b[38;5;241m0.0\u001b[39m\n",
      "\u001b[1;31mNameError\u001b[0m: name 'no_epochs' is not defined"
     ]
    }
   ],
   "source": [
    "# %% training loop\n",
    "print(\"The training will start now!!!!!\")\n",
    "eval_dic = {'Loss_t': [], 'train_acc': [],'Loss_v': [], 'valid_acc': []}\n",
    "loss_train = []\n",
    "loss_val = []\n",
    "\n",
    "# go over all epochs\n",
    "for epoch in range(no_epochs):\n",
    "    print(f\"\\nTraining Epoch {epoch}:\")\n",
    "    running_loss = 0.0\n",
    "    # go over all minibatches\n",
    "    for batch_idx,(x_clean, x_noisy, label) in enumerate(tqdm(train_loader)):\n",
    "        # fill in how to train your network using only the clean images\n",
    "        model.train()\n",
    "        \n",
    "        x_clean =x_clean.to(device=device, dtype=dtype)\n",
    "#         print(x_clean)\n",
    "        \n",
    "        label = label.to(device=device, dtype=torch.int64)\n",
    "        optimizer.zero_grad()\n",
    "\n",
    "        out = model(x_clean)\n",
    "        loss = criterion(out, label)\n",
    "        loss.backward()\n",
    "        optimizer.step()\n",
    "\n",
    "        running_loss += loss.item()\n",
    "\n",
    "    # Check training loss\n",
    "    train_epoch_loss = running_loss/len(train_loader)\n",
    "    eval_dic['Loss_t'].append(train_epoch_loss)\n",
    "\n",
    "    # Check validation loss\n",
    "    with torch.no_grad():\n",
    "        running_loss_val = 0.0\n",
    "#         Set the model to evaluation mode\n",
    "        model.eval()\n",
    "\n",
    "        for (data_clean, data_noisy, labels) in val_loader:\n",
    "            # validation on noisy part or not\n",
    "            x = data_clean\n",
    "\n",
    "            # cast the inputs to the device\n",
    "            x = x.to(device=device)\n",
    "            label = labels.to(device=device, dtype=torch.int64)\n",
    "            \n",
    "            output = model(x)\n",
    "            \n",
    "            loss = criterion(output, label)\n",
    "            running_loss_val += loss.item()\n",
    "\n",
    "        val_epoch_loss = running_loss_val/len(val_loader)\n",
    "        eval_dic['Loss_v'].append(val_epoch_loss)\n",
    "\n",
    "    print('Epoch', epoch)\n",
    "    print('Training Loss', eval_dic['Loss_t'][epoch])\n",
    "    print('Validation Loss', eval_dic['Loss_v'][epoch])\n",
    "\n",
    "torch.save(model.state_dict(), model_path)"
   ]
  },
  {
   "cell_type": "code",
   "execution_count": 115,
   "metadata": {},
   "outputs": [
    {
     "data": {
      "text/plain": [
       "EncoderQ4(\n",
       "  (encoder): Sequential(\n",
       "    (0): Conv2d(1, 16, kernel_size=(3, 3), stride=(1, 1), padding=(1, 1))\n",
       "    (1): ReLU()\n",
       "    (2): MaxPool2d(kernel_size=2, stride=2, padding=0, dilation=1, ceil_mode=False)\n",
       "    (3): Conv2d(16, 16, kernel_size=(3, 3), stride=(1, 1), padding=(1, 1))\n",
       "    (4): ReLU()\n",
       "    (5): MaxPool2d(kernel_size=2, stride=2, padding=0, dilation=1, ceil_mode=False)\n",
       "    (6): Conv2d(16, 16, kernel_size=(3, 3), stride=(1, 1), padding=(1, 1))\n",
       "    (7): ReLU()\n",
       "    (8): MaxPool2d(kernel_size=2, stride=2, padding=0, dilation=1, ceil_mode=False)\n",
       "    (9): Conv2d(16, 16, kernel_size=(3, 3), stride=(1, 1), padding=(1, 1))\n",
       "    (10): ReLU()\n",
       "    (11): MaxPool2d(kernel_size=2, stride=2, padding=0, dilation=1, ceil_mode=False)\n",
       "    (12): Flatten(start_dim=1, end_dim=-1)\n",
       "    (13): LogSoftmax(dim=1)\n",
       "  )\n",
       ")"
      ]
     },
     "execution_count": 115,
     "metadata": {},
     "output_type": "execute_result"
    }
   ],
   "source": []
  },
  {
   "cell_type": "code",
   "execution_count": 158,
   "metadata": {},
   "outputs": [],
   "source": [
    "model = EncoderQ4()\n",
    "model_path = os.path.join(\"./\", \"Saved_ModelQ4.pth\")\n",
    "model.load_state_dict(torch.load(model_path))\n",
    "model = model.to(device=device)\n",
    "model.eval()\n",
    "for i in range(10):\n",
    "    # get the amount of cells in pred_labels which equal == i\n",
    "    #  get the amount of cells in true_labels which equal == i\n",
    "    # sum these values\n",
    "    # divide\n",
    "\n",
    "    pred_sum = (labels_test_pred == i).long() # get boolean and convert to [1 0] Truth-mask\n",
    "    truth_sum = (labels_test[0:1000] == i).long() # get a boolean mask and convert it to [1 0]\n",
    "    mask_sum = pred_sum+truth_sum\n",
    "    mask_sum2 = (mask_sum>1).long() # basically if a value is bigger than 1 it means that both the prediction and truth are the same for that indice\n",
    "    accuracy = torch.divide(mask_sum2.sum(), truth_sum.sum()) # we didivde sum(predicted_that_where_correct)/sum(all_correct)\n",
    "    acc.append(accuracy.item())\n",
    "#### Accuracy on test\n",
    "pred_test_Q4 =x_clean_test[0:1000,:,:,:]\n",
    "pred_test_Q4 = pred_test_Q4.to(device=device, dtype=dtype)\n",
    "\n",
    "# get the ground truth labels\n",
    "gt_Q4 = labels_test[0:1000]\n",
    "\n",
    "with torch.no_grad():\n",
    "    #Get the probs on the test set\n",
    "    pred_label_Q4 = model(pred_test_Q4).cpu().detach() #[1000x64]\n",
    "    \n",
    "    \n",
    "    "
   ]
  },
  {
   "cell_type": "code",
   "execution_count": 169,
   "metadata": {},
   "outputs": [
    {
     "name": "stdout",
     "output_type": "stream",
     "text": [
      "The accuracy is:  0.9710000157356262\n"
     ]
    }
   ],
   "source": [
    "# print(len(pred_label_Q4[999]))\n",
    "_,max_value_index = torch.max(pred_label_Q4,dim=1)\n",
    "# print(max_value_index )\n",
    "for i in range(1):\n",
    "    a = (max_value_index == gt_Q4).long().float()\n",
    "    acc =  torch.mean(a).item()\n",
    "print('The accuracy is: ', acc)"
   ]
  },
  {
   "cell_type": "markdown",
   "metadata": {},
   "source": [
    "### (b) [1 pt]Provide graphs of the training and test loss (perform intermittent evaluationsof the test loss during training). \n",
    "Comment on the capacity of your network."
   ]
  },
  {
   "cell_type": "code",
   "execution_count": 194,
   "metadata": {},
   "outputs": [
    {
     "data": {
      "text/plain": [
       "<matplotlib.legend.Legend at 0x273196de8e0>"
      ]
     },
     "execution_count": 194,
     "metadata": {},
     "output_type": "execute_result"
    },
    {
     "data": {
      "image/png": "[encoded data removed]",
      "text/plain": [
       "<Figure size 1500x1000 with 1 Axes>"
      ]
     },
     "metadata": {
      "needs_background": "light"
     },
     "output_type": "display_data"
    }
   ],
   "source": [
    "plt.figure(figsize=(15,10),dpi=100)\n",
    "plt.plot(range(no_epochs), eval_dic['Loss_t'], \n",
    "         label='training loss', linewidth=5)\n",
    "plt.plot(range(no_epochs), eval_dic['Loss_v'], \n",
    "         label='validation loss', linestyle='--', linewidth=5)\n",
    "plt.ylabel('loss')\n",
    "plt.xlabel('Epochs')\n",
    "plt.grid()\n",
    "plt.legend(loc=0, prop={'size': 20})\n",
    "# plt."
   ]
  },
  {
   "cell_type": "markdown",
   "metadata": {},
   "source": [
    "# Exercise 5\n",
    "### In this exercise you are going to use your previously trained autoencoder – in particular the Decoder stage – as a generative model."
   ]
  },
  {
   "cell_type": "markdown",
   "metadata": {},
   "source": [
    "### a) [2 pt]Define a 15 x 15 grid that equidistantly samples the latent space of Exercise2 across both axes. \n",
    "In other words, if you visualize the latent space as a Cartesian coordinate system, sample between the points that describe the corners of your (cubicshaped) latent space. Use 15 steps in both horizontal and vertical directions."
   ]
  },
  {
   "cell_type": "code",
   "execution_count": null,
   "metadata": {},
   "outputs": [],
   "source": []
  },
  {
   "cell_type": "code",
   "execution_count": null,
   "metadata": {},
   "outputs": [],
   "source": []
  }
 ],
 "metadata": {
  "interpreter": {
   "hash": "52cc05b29240497bdfae3b04fd09e6c0e15f276d506dc9b61246632cd72a94fb"
  },
  "kernelspec": {
   "display_name": "Python 3",
   "language": "python",
   "name": "python3"
  },
  "language_info": {
   "codemirror_mode": {
    "name": "ipython",
    "version": 3
   },
   "file_extension": ".py",
   "mimetype": "text/x-python",
   "name": "python",
   "nbconvert_exporter": "python",
   "pygments_lexer": "ipython3",
   "version": "3.6.5"
  }
 },
 "nbformat": 4,
 "nbformat_minor": 2
}
