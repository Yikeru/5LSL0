{
 "cells": [
  {
   "cell_type": "code",
   "execution_count": 113,
   "metadata": {},
   "outputs": [],
   "source": [
    "# %% imports\n",
    "# libraries\n",
    "import numpy as np\n",
    "import torch\n",
    "import torch.optim as optim\n",
    "import torch.nn as nn\n",
    "from torch.nn.modules.activation import ReLU\n",
    "from tqdm import tqdm\n",
    "import matplotlib.pyplot as plt\n",
    "import matplotlib.colors as colors\n",
    "import matplotlib.ticker as plticker\n",
    "import os\n",
    "\n",
    "# local imports\n",
    "import MNIST_dataloader\n",
    "import AEarchitecture\n",
    "from config_file import data_loc, batch_size\n",
    "from MNIST_dataloader import *\n",
    "import matplotlib.cm as cm\n",
    "\n",
    "# set device\n",
    "if torch.cuda.is_available():\n",
    "    device = torch.device('cuda')\n",
    "else:\n",
    "    device = torch.device('cpu')"
   ]
  },
  {
   "cell_type": "code",
   "execution_count": 143,
   "metadata": {},
   "outputs": [],
   "source": [
    "# %%  Encoder\n",
    "class Encoder(nn.Module):\n",
    "    def __init__(self):\n",
    "        super(Encoder, self).__init__()  # same as super().__init__()\n",
    "        # how to find output shape: [input - kernel + 2*padding - (dilation-1)(kernel-1)]/stride + 1\n",
    "        self.encoder = nn.Sequential(\n",
    "            #  \n",
    "            nn.Conv2d(1,16, kernel_size=(3,3),padding=1, stride=1), #[Nx1x32x32]=> [Nx16x32x32]\n",
    "            nn.BatchNorm2d(16),\n",
    "            nn.ReLU(),\n",
    "            nn.MaxPool2d(2,2),#[Nx16x32x32]=> [Nx16x16x16]\n",
    "\n",
    "            nn.Conv2d(16,16, kernel_size=(3,3),padding=1, stride=1), #[Nx16x16x16]=> [Nx16x16x16]\n",
    "            nn.BatchNorm2d(16),\n",
    "            nn.ReLU(),\n",
    "            nn.MaxPool2d(2,2),#[Nx16x16x16]=> [Nx16x8x8]\n",
    "\n",
    "            nn.Conv2d(16,16, kernel_size=(3,3),padding=1, stride=1), #[Nx16x8x8]=> [Nx16x8x8]\n",
    "            nn.BatchNorm2d(16),\n",
    "            nn.ReLU(),\n",
    "            nn.MaxPool2d(2,2),#[Nx16x8x8]=> [Nx16x4x4]\n",
    "\n",
    "            nn.Conv2d(16,16, kernel_size=(3,3),padding=1, stride=1), #[Nx16x4x4]=> [Nx16x4x4]\n",
    "            nn.BatchNorm2d(16),\n",
    "            nn.ReLU(),\n",
    "            nn.MaxPool2d(2,2),#[Nx16x4x4]=> [Nx16x2x2]\n",
    "            nn.Flatten(), #[Nx16x2x2] -> [Nx64]\n",
    "#             nn.Conv2d(16,1, kernel_size=(3,3),padding=1, stride=1), #[Nx16x2x2]=> [Nx1x2x2]\n",
    "#             nn.MaxPool2d(1) #[Nx1x2x2]=> [Nx1x2x2]            \n",
    "            )\n",
    "        \n",
    "        self.mean = nn.Sequential(\n",
    "            nn.Linear(16*2*2,2) #[Nx64] -> [Nx2]\n",
    "            )\n",
    "        \n",
    "        self.var = nn.Sequential(\n",
    "            nn.Linear(16*2*2,2) #[Nx64] -> [Nx2]\n",
    "            )\n",
    "        \n",
    "        self.Normal_dist = torch.distributions.Normal(0, 1) # (mean, scale)\n",
    "        self.Normal_dist.loc = self.Normal_dist.loc.cuda() # hack to get sampling on the GPU\n",
    "        self.Normal_dist.scale = self.Normal_dist.scale.cuda()\n",
    "        \n",
    "        self.kl = 0\n",
    "\n",
    "#             nn.Conv2d(16,1, kernel_size=(3,3),padding=1, stride=1), #[Nx16x2x2]=> [Nx1x2x2]\n",
    "#             nn.MaxPool2d((1,2)) #[Nx1x2x2]=> [Nx1x2x1]\n",
    "#             nn.Flatten(), #[Nx16x2x2] => [Nx64]\n",
    "#             nn.LogSoftmax(dim=1) # dim=1 and NOT 0 because you dont want to get log(prob) over the batches\n",
    "\n",
    "    def forward(self, x):\n",
    "        # First branch uses dilation\n",
    "        y = self.encoder(x)\n",
    "        mu = self.mean(y) # the mean\n",
    "        sigma = torch.exp(self.var(y)) # the variance     \n",
    "#         normal_dist = Normal_dist.sample(mu.shape).to(device=device)\n",
    "#         z = mu + sigma*normal_dist # sample latent\n",
    "        z = mu + sigma*self.Normal_dist.sample(mu.shape) # sample latent\n",
    "        \n",
    "        self.kl = (sigma**2 + mu**2 - torch.log(sigma) - 1/2).sum()      \n",
    "        return mu, sigma, z"
   ]
  },
  {
   "cell_type": "code",
   "execution_count": 114,
   "metadata": {},
   "outputs": [
    {
     "name": "stdout",
     "output_type": "stream",
     "text": [
      "torch.Size([64, 2])\n",
      "torch.Size([64, 2])\n",
      "torch.Size([64, 2])\n"
     ]
    }
   ],
   "source": [
    "# sanity\n",
    "test_input = torch.rand(64,1,32,32)\n",
    "model_test = Encoder()\n",
    "test_out=model_test.forward(test_input)\n",
    "print(test_out[0].size()) # mean\n",
    "print(test_out[1].size()) # variance\n",
    "print(test_out[2].size()) # latent space"
   ]
  },
  {
   "cell_type": "code",
   "execution_count": null,
   "metadata": {},
   "outputs": [],
   "source": []
  },
  {
   "cell_type": "code",
   "execution_count": 123,
   "metadata": {},
   "outputs": [],
   "source": [
    "# %%  Decoder\n",
    "class Decoder(nn.Module):\n",
    "    def __init__(self):\n",
    "        super(Decoder, self).__init__()\n",
    "        self.FC  = nn.Sequential(\n",
    "            nn.Linear(2,4), # [Nx2] => [Nx4]\n",
    "            nn.Linear(4,12), # [Nx4] => [Nx12]\n",
    "# #             nn.Linear(4,16), # [Nx4] => [Nx16]\n",
    "#             nn.Linear(16,48) # [Nx16] => [Nx48]\n",
    "        )\n",
    "            \n",
    "        \n",
    "        \n",
    "        self.decoder = nn.Sequential(\n",
    "            nn.ConvTranspose2d(1, 16, kernel_size=(1,1)), # [Nx1x4x3]=>[Nx16x4x3]\n",
    "            nn.BatchNorm2d(16),\n",
    "            nn.ReLU(),\n",
    "            nn.Upsample(scale_factor=2), #[Nx16x4x3]=>[Nx16x8x6]\n",
    "\n",
    "            nn.ConvTranspose2d(16, 16, kernel_size=(3,3)), # [Nx16x8x6]=>[Nx16x10x8]\n",
    "            nn.BatchNorm2d(16),\n",
    "            nn.ReLU(),\n",
    "            nn.Upsample(scale_factor=2), #[Nx16x10x8]=>[Nx16x20x16]\n",
    "\n",
    "            nn.ConvTranspose2d(16, 16, kernel_size=(3,3)), # [Nx16x10x8]=>[Nx16x22x18]\n",
    "            nn.BatchNorm2d(16),\n",
    "            nn.ReLU(),\n",
    "            nn.Upsample(scale_factor=2), #[Nx16x22x18]=>[Nx16x44x36]\n",
    "\n",
    "            nn.ConvTranspose2d(16, 1, kernel_size=(3,3)), # [Nx16x44x36]=>[Nx1x46x38]\n",
    "            nn.Upsample(size=(32,32)), #[Nx1x46x38]=>[Nx1x32x32]\n",
    "            )\n",
    "\n",
    "    def forward(self, h):\n",
    "        # use the created layers here\n",
    "        y = self.FC(h) # [Nx16]\n",
    "        y = y.reshape(-1,1,4,3) #[Nx12] => [Nx1x4x3]\n",
    "        y2 = self.decoder(y)\n",
    "#         y = self.decoder(y)\n",
    "        return y, y2"
   ]
  },
  {
   "cell_type": "code",
   "execution_count": 109,
   "metadata": {},
   "outputs": [
    {
     "name": "stdout",
     "output_type": "stream",
     "text": [
      "torch.Size([64, 1, 4, 3])\n",
      "torch.Size([64, 1, 32, 32])\n"
     ]
    }
   ],
   "source": [
    "# sanity\n",
    "test_input = torch.rand(64,2)\n",
    "model_test = Decoder()\n",
    "test_out=model_test.forward(test_input)\n",
    "print(test_out[0].size()) # LINEAR\n",
    "print(test_out[1].size()) # DECODER"
   ]
  },
  {
   "cell_type": "code",
   "execution_count": 139,
   "metadata": {},
   "outputs": [],
   "source": [
    "# %%  Autoencoder\n",
    "class AE(nn.Module):\n",
    "    def __init__(self):\n",
    "        super(AE, self).__init__()\n",
    "        self.encoder = Encoder()\n",
    "        self.decoder = Decoder()\n",
    "        \n",
    "    def forward(self, x):\n",
    "#         print(\"Setting up the autoencoder\")\n",
    "#         print(\"We re feeding the autoencoder input of shape \", x.size())\n",
    "        mu, sigma, z = self.encoder(x)\n",
    "        y, r = self.decoder(z)\n",
    "        return mu, sigma, y, r\n",
    "    "
   ]
  },
  {
   "cell_type": "code",
   "execution_count": 144,
   "metadata": {},
   "outputs": [
    {
     "ename": "RuntimeError",
     "evalue": "Expected all tensors to be on the same device, but found at least two devices, cuda:0 and cpu!",
     "output_type": "error",
     "traceback": [
      "\u001b[1;31m---------------------------------------------------------------------------\u001b[0m",
      "\u001b[1;31mRuntimeError\u001b[0m                              Traceback (most recent call last)",
      "Input \u001b[1;32mIn [144]\u001b[0m, in \u001b[0;36m<cell line: 4>\u001b[1;34m()\u001b[0m\n\u001b[0;32m      2\u001b[0m test_input \u001b[38;5;241m=\u001b[39m torch\u001b[38;5;241m.\u001b[39mrand(\u001b[38;5;241m64\u001b[39m,\u001b[38;5;241m1\u001b[39m,\u001b[38;5;241m32\u001b[39m,\u001b[38;5;241m32\u001b[39m)\n\u001b[0;32m      3\u001b[0m model_test \u001b[38;5;241m=\u001b[39m AE()\n\u001b[1;32m----> 4\u001b[0m test_out\u001b[38;5;241m=\u001b[39m\u001b[43mmodel_test\u001b[49m\u001b[38;5;241;43m.\u001b[39;49m\u001b[43mforward\u001b[49m\u001b[43m(\u001b[49m\u001b[43mtest_input\u001b[49m\u001b[43m)\u001b[49m\n\u001b[0;32m      5\u001b[0m \u001b[38;5;28mprint\u001b[39m(test_out[\u001b[38;5;241m0\u001b[39m]\u001b[38;5;241m.\u001b[39msize()) \u001b[38;5;66;03m# mean\u001b[39;00m\n\u001b[0;32m      6\u001b[0m \u001b[38;5;28mprint\u001b[39m(test_out[\u001b[38;5;241m1\u001b[39m]\u001b[38;5;241m.\u001b[39msize()) \u001b[38;5;66;03m# sigma\u001b[39;00m\n",
      "Input \u001b[1;32mIn [139]\u001b[0m, in \u001b[0;36mAE.forward\u001b[1;34m(self, x)\u001b[0m\n\u001b[0;32m      8\u001b[0m     \u001b[38;5;28;01mdef\u001b[39;00m \u001b[38;5;21mforward\u001b[39m(\u001b[38;5;28mself\u001b[39m, x):\n\u001b[0;32m      9\u001b[0m \u001b[38;5;66;03m#         print(\"Setting up the autoencoder\")\u001b[39;00m\n\u001b[0;32m     10\u001b[0m \u001b[38;5;66;03m#         print(\"We re feeding the autoencoder input of shape \", x.size())\u001b[39;00m\n\u001b[1;32m---> 11\u001b[0m         mu, sigma, z \u001b[38;5;241m=\u001b[39m \u001b[38;5;28;43mself\u001b[39;49m\u001b[38;5;241;43m.\u001b[39;49m\u001b[43mencoder\u001b[49m\u001b[43m(\u001b[49m\u001b[43mx\u001b[49m\u001b[43m)\u001b[49m\n\u001b[0;32m     12\u001b[0m         y, r \u001b[38;5;241m=\u001b[39m \u001b[38;5;28mself\u001b[39m\u001b[38;5;241m.\u001b[39mdecoder(z)\n\u001b[0;32m     13\u001b[0m         \u001b[38;5;28;01mreturn\u001b[39;00m mu, sigma, y, r\n",
      "File \u001b[1;32m~\\anaconda3\\envs\\PGPUC\\lib\\site-packages\\torch\\nn\\modules\\module.py:1110\u001b[0m, in \u001b[0;36mModule._call_impl\u001b[1;34m(self, *input, **kwargs)\u001b[0m\n\u001b[0;32m   1106\u001b[0m \u001b[38;5;66;03m# If we don't have any hooks, we want to skip the rest of the logic in\u001b[39;00m\n\u001b[0;32m   1107\u001b[0m \u001b[38;5;66;03m# this function, and just call forward.\u001b[39;00m\n\u001b[0;32m   1108\u001b[0m \u001b[38;5;28;01mif\u001b[39;00m \u001b[38;5;129;01mnot\u001b[39;00m (\u001b[38;5;28mself\u001b[39m\u001b[38;5;241m.\u001b[39m_backward_hooks \u001b[38;5;129;01mor\u001b[39;00m \u001b[38;5;28mself\u001b[39m\u001b[38;5;241m.\u001b[39m_forward_hooks \u001b[38;5;129;01mor\u001b[39;00m \u001b[38;5;28mself\u001b[39m\u001b[38;5;241m.\u001b[39m_forward_pre_hooks \u001b[38;5;129;01mor\u001b[39;00m _global_backward_hooks\n\u001b[0;32m   1109\u001b[0m         \u001b[38;5;129;01mor\u001b[39;00m _global_forward_hooks \u001b[38;5;129;01mor\u001b[39;00m _global_forward_pre_hooks):\n\u001b[1;32m-> 1110\u001b[0m     \u001b[38;5;28;01mreturn\u001b[39;00m \u001b[43mforward_call\u001b[49m\u001b[43m(\u001b[49m\u001b[38;5;241;43m*\u001b[39;49m\u001b[38;5;28;43minput\u001b[39;49m\u001b[43m,\u001b[49m\u001b[43m \u001b[49m\u001b[38;5;241;43m*\u001b[39;49m\u001b[38;5;241;43m*\u001b[39;49m\u001b[43mkwargs\u001b[49m\u001b[43m)\u001b[49m\n\u001b[0;32m   1111\u001b[0m \u001b[38;5;66;03m# Do not call functions when jit is used\u001b[39;00m\n\u001b[0;32m   1112\u001b[0m full_backward_hooks, non_full_backward_hooks \u001b[38;5;241m=\u001b[39m [], []\n",
      "Input \u001b[1;32mIn [143]\u001b[0m, in \u001b[0;36mEncoder.forward\u001b[1;34m(self, x)\u001b[0m\n\u001b[0;32m     55\u001b[0m         sigma \u001b[38;5;241m=\u001b[39m torch\u001b[38;5;241m.\u001b[39mexp(\u001b[38;5;28mself\u001b[39m\u001b[38;5;241m.\u001b[39mvar(y)) \u001b[38;5;66;03m# the variance     \u001b[39;00m\n\u001b[0;32m     56\u001b[0m \u001b[38;5;66;03m#         normal_dist = Normal_dist.sample(mu.shape).to(device=device)\u001b[39;00m\n\u001b[0;32m     57\u001b[0m \u001b[38;5;66;03m#         z = mu + sigma*normal_dist # sample latent\u001b[39;00m\n\u001b[1;32m---> 58\u001b[0m         z \u001b[38;5;241m=\u001b[39m mu \u001b[38;5;241m+\u001b[39m \u001b[43msigma\u001b[49m\u001b[38;5;241;43m*\u001b[39;49m\u001b[38;5;28;43mself\u001b[39;49m\u001b[38;5;241;43m.\u001b[39;49m\u001b[43mNormal_dist\u001b[49m\u001b[38;5;241;43m.\u001b[39;49m\u001b[43msample\u001b[49m\u001b[43m(\u001b[49m\u001b[43mmu\u001b[49m\u001b[38;5;241;43m.\u001b[39;49m\u001b[43mshape\u001b[49m\u001b[43m)\u001b[49m \u001b[38;5;66;03m# sample latent\u001b[39;00m\n\u001b[0;32m     60\u001b[0m         \u001b[38;5;28mself\u001b[39m\u001b[38;5;241m.\u001b[39mkl \u001b[38;5;241m=\u001b[39m (sigma\u001b[38;5;241m*\u001b[39m\u001b[38;5;241m*\u001b[39m\u001b[38;5;241m2\u001b[39m \u001b[38;5;241m+\u001b[39m mu\u001b[38;5;241m*\u001b[39m\u001b[38;5;241m*\u001b[39m\u001b[38;5;241m2\u001b[39m \u001b[38;5;241m-\u001b[39m torch\u001b[38;5;241m.\u001b[39mlog(sigma) \u001b[38;5;241m-\u001b[39m \u001b[38;5;241m1\u001b[39m\u001b[38;5;241m/\u001b[39m\u001b[38;5;241m2\u001b[39m)\u001b[38;5;241m.\u001b[39msum()      \n\u001b[0;32m     61\u001b[0m         \u001b[38;5;28;01mreturn\u001b[39;00m mu, sigma, z\n",
      "\u001b[1;31mRuntimeError\u001b[0m: Expected all tensors to be on the same device, but found at least two devices, cuda:0 and cpu!"
     ]
    }
   ],
   "source": [
    "# sanity\n",
    "test_input = torch.rand(64,1,32,32)\n",
    "model_test = AE()\n",
    "test_out=model_test.forward(test_input)\n",
    "print(test_out[0].size()) # mean\n",
    "print(test_out[1].size()) # sigma\n",
    "print(test_out[2].size()) # linear\n",
    "print(test_out[3].size()) # decoded"
   ]
  },
  {
   "cell_type": "code",
   "execution_count": 147,
   "metadata": {},
   "outputs": [
    {
     "name": "stdout",
     "output_type": "stream",
     "text": [
      "Using  cuda\n"
     ]
    }
   ],
   "source": [
    "#% import\n",
    "import torch.nn.functional as F\n",
    "# %% set torches random seed\n",
    "torch.random.manual_seed(0)\n",
    "\n",
    "# %% preperations\n",
    "model_path = os.path.join(\"./\", \"Saved_ModelQ7.pth\")\n",
    "\n",
    "# define parameters\n",
    "batch_size = 64\n",
    "no_epochs = 20\n",
    "learning_rate = 3e-4\n",
    "\n",
    "# get dataloader\n",
    "train_loader, test_loader, val_loader = MNIST_dataloader.create_dataloaders(data_loc, batch_size)\n",
    "\n",
    "# create the classification encoder\n",
    "model = AE()\n",
    "\n",
    "# set device\n",
    "dtype = torch.float32\n",
    "if torch.cuda.is_available():\n",
    "    device = torch.device('cuda')\n",
    "else:\n",
    "    device = torch.device('cpu')\n",
    "print('Using ', device)\n",
    "model = model.to(device=device)\n",
    "\n",
    "# create the optimizer\n",
    "optimizer = optim.Adam(model.parameters(), lr=learning_rate, eps=1e-08, weight_decay=0.0005)\n",
    "\n",
    "# choose loss\n",
    "criterion = torch.nn.CrossEntropyLoss()\n",
    "\n"
   ]
  },
  {
   "cell_type": "code",
   "execution_count": 148,
   "metadata": {},
   "outputs": [
    {
     "name": "stdout",
     "output_type": "stream",
     "text": [
      "The training will start now!!!!!\n",
      "\n",
      "Training Epoch 0:\n"
     ]
    },
    {
     "name": "stderr",
     "output_type": "stream",
     "text": [
      "100%|██████████| 844/844 [00:11<00:00, 76.19it/s]\n"
     ]
    },
    {
     "name": "stdout",
     "output_type": "stream",
     "text": [
      "Epoch 0\n",
      "Training Loss 17710.749009552725\n",
      "Validation Loss 9913.17333984375\n",
      "\n",
      "Training Epoch 1:\n"
     ]
    },
    {
     "name": "stderr",
     "output_type": "stream",
     "text": [
      "100%|██████████| 844/844 [00:11<00:00, 76.12it/s]\n"
     ]
    },
    {
     "name": "stdout",
     "output_type": "stream",
     "text": [
      "Epoch 1\n",
      "Training Loss 13189.987994297986\n",
      "Validation Loss 9512.499572753906\n",
      "\n",
      "Training Epoch 2:\n"
     ]
    },
    {
     "name": "stderr",
     "output_type": "stream",
     "text": [
      "100%|██████████| 844/844 [00:10<00:00, 77.44it/s]\n"
     ]
    },
    {
     "name": "stdout",
     "output_type": "stream",
     "text": [
      "Epoch 2\n",
      "Training Loss 12628.191236161507\n",
      "Validation Loss 8694.435241699219\n",
      "\n",
      "Training Epoch 3:\n"
     ]
    },
    {
     "name": "stderr",
     "output_type": "stream",
     "text": [
      "100%|██████████| 844/844 [00:11<00:00, 74.62it/s]\n"
     ]
    },
    {
     "name": "stdout",
     "output_type": "stream",
     "text": [
      "Epoch 3\n",
      "Training Loss 12282.561487568499\n",
      "Validation Loss 8695.416809082031\n",
      "\n",
      "Training Epoch 4:\n"
     ]
    },
    {
     "name": "stderr",
     "output_type": "stream",
     "text": [
      "100%|██████████| 844/844 [00:10<00:00, 76.90it/s]\n"
     ]
    },
    {
     "name": "stdout",
     "output_type": "stream",
     "text": [
      "Epoch 4\n",
      "Training Loss 12028.599955337308\n",
      "Validation Loss 9024.09423828125\n",
      "\n",
      "Training Epoch 5:\n"
     ]
    },
    {
     "name": "stderr",
     "output_type": "stream",
     "text": [
      "100%|██████████| 844/844 [00:10<00:00, 77.19it/s]\n"
     ]
    },
    {
     "name": "stdout",
     "output_type": "stream",
     "text": [
      "Epoch 5\n",
      "Training Loss 11827.45015481524\n",
      "Validation Loss 9582.879577636719\n",
      "\n",
      "Training Epoch 6:\n"
     ]
    },
    {
     "name": "stderr",
     "output_type": "stream",
     "text": [
      "100%|██████████| 844/844 [00:10<00:00, 77.11it/s]\n"
     ]
    },
    {
     "name": "stdout",
     "output_type": "stream",
     "text": [
      "Epoch 6\n",
      "Training Loss 11678.794400038878\n",
      "Validation Loss 8172.330810546875\n",
      "\n",
      "Training Epoch 7:\n"
     ]
    },
    {
     "name": "stderr",
     "output_type": "stream",
     "text": [
      "100%|██████████| 844/844 [00:10<00:00, 76.96it/s]\n"
     ]
    },
    {
     "name": "stdout",
     "output_type": "stream",
     "text": [
      "Epoch 7\n",
      "Training Loss 11553.674747991336\n",
      "Validation Loss 8077.140563964844\n",
      "\n",
      "Training Epoch 8:\n"
     ]
    },
    {
     "name": "stderr",
     "output_type": "stream",
     "text": [
      "100%|██████████| 844/844 [00:10<00:00, 76.85it/s]\n"
     ]
    },
    {
     "name": "stdout",
     "output_type": "stream",
     "text": [
      "Epoch 8\n",
      "Training Loss 11449.594731190758\n",
      "Validation Loss 8545.679870605469\n",
      "\n",
      "Training Epoch 9:\n"
     ]
    },
    {
     "name": "stderr",
     "output_type": "stream",
     "text": [
      "100%|██████████| 844/844 [00:11<00:00, 71.65it/s]\n"
     ]
    },
    {
     "name": "stdout",
     "output_type": "stream",
     "text": [
      "Epoch 9\n",
      "Training Loss 11360.177926447719\n",
      "Validation Loss 8061.701599121094\n",
      "\n",
      "Training Epoch 10:\n"
     ]
    },
    {
     "name": "stderr",
     "output_type": "stream",
     "text": [
      "100%|██████████| 844/844 [00:11<00:00, 72.55it/s]\n"
     ]
    },
    {
     "name": "stdout",
     "output_type": "stream",
     "text": [
      "Epoch 10\n",
      "Training Loss 11290.353859273178\n",
      "Validation Loss 8921.48828125\n",
      "\n",
      "Training Epoch 11:\n"
     ]
    },
    {
     "name": "stderr",
     "output_type": "stream",
     "text": [
      "100%|██████████| 844/844 [00:11<00:00, 73.57it/s]\n"
     ]
    },
    {
     "name": "stdout",
     "output_type": "stream",
     "text": [
      "Epoch 11\n",
      "Training Loss 11223.478283055021\n",
      "Validation Loss 8399.809753417969\n",
      "\n",
      "Training Epoch 12:\n"
     ]
    },
    {
     "name": "stderr",
     "output_type": "stream",
     "text": [
      "100%|██████████| 844/844 [00:10<00:00, 77.04it/s]\n"
     ]
    },
    {
     "name": "stdout",
     "output_type": "stream",
     "text": [
      "Epoch 12\n",
      "Training Loss 11158.472645836418\n",
      "Validation Loss 8115.926025390625\n",
      "\n",
      "Training Epoch 13:\n"
     ]
    },
    {
     "name": "stderr",
     "output_type": "stream",
     "text": [
      "100%|██████████| 844/844 [00:11<00:00, 75.77it/s]\n"
     ]
    },
    {
     "name": "stdout",
     "output_type": "stream",
     "text": [
      "Epoch 13\n",
      "Training Loss 11105.405731635072\n",
      "Validation Loss 8673.4423828125\n",
      "\n",
      "Training Epoch 14:\n"
     ]
    },
    {
     "name": "stderr",
     "output_type": "stream",
     "text": [
      "100%|██████████| 844/844 [00:11<00:00, 75.39it/s]\n"
     ]
    },
    {
     "name": "stdout",
     "output_type": "stream",
     "text": [
      "Epoch 14\n",
      "Training Loss 11052.618743751851\n",
      "Validation Loss 8253.26611328125\n",
      "\n",
      "Training Epoch 15:\n"
     ]
    },
    {
     "name": "stderr",
     "output_type": "stream",
     "text": [
      "100%|██████████| 844/844 [00:11<00:00, 76.67it/s]\n"
     ]
    },
    {
     "name": "stdout",
     "output_type": "stream",
     "text": [
      "Epoch 15\n",
      "Training Loss 11011.963488827385\n",
      "Validation Loss 8909.996826171875\n",
      "\n",
      "Training Epoch 16:\n"
     ]
    },
    {
     "name": "stderr",
     "output_type": "stream",
     "text": [
      "100%|██████████| 844/844 [00:10<00:00, 76.84it/s]\n"
     ]
    },
    {
     "name": "stdout",
     "output_type": "stream",
     "text": [
      "Epoch 16\n",
      "Training Loss 10979.126179627332\n",
      "Validation Loss 8143.305480957031\n",
      "\n",
      "Training Epoch 17:\n"
     ]
    },
    {
     "name": "stderr",
     "output_type": "stream",
     "text": [
      "100%|██████████| 844/844 [00:11<00:00, 74.91it/s]\n"
     ]
    },
    {
     "name": "stdout",
     "output_type": "stream",
     "text": [
      "Epoch 17\n",
      "Training Loss 10931.88558771938\n",
      "Validation Loss 8092.369873046875\n",
      "\n",
      "Training Epoch 18:\n"
     ]
    },
    {
     "name": "stderr",
     "output_type": "stream",
     "text": [
      "100%|██████████| 844/844 [00:10<00:00, 76.79it/s]\n"
     ]
    },
    {
     "name": "stdout",
     "output_type": "stream",
     "text": [
      "Epoch 18\n",
      "Training Loss 10898.001615262145\n",
      "Validation Loss 9095.714538574219\n",
      "\n",
      "Training Epoch 19:\n"
     ]
    },
    {
     "name": "stderr",
     "output_type": "stream",
     "text": [
      "100%|██████████| 844/844 [00:10<00:00, 76.84it/s]"
     ]
    },
    {
     "name": "stdout",
     "output_type": "stream",
     "text": [
      "Epoch 19\n",
      "Training Loss 10867.787343102043\n",
      "Validation Loss 8517.394409179688\n"
     ]
    },
    {
     "name": "stderr",
     "output_type": "stream",
     "text": [
      "\n"
     ]
    }
   ],
   "source": [
    "# %% training loop\n",
    "print(\"The training will start now!!!!!\")\n",
    "eval_dic = {'Loss_t': [], 'train_acc': [],'Loss_v': [], 'valid_acc': []}\n",
    "loss_train = []\n",
    "loss_val = []\n",
    "\n",
    "# go over all epochs\n",
    "for epoch in range(no_epochs):\n",
    "    print(f\"\\nTraining Epoch {epoch}:\")\n",
    "    running_loss = 0.0\n",
    "    # go over all minibatches\n",
    "    for batch_idx,(x_clean, x_noisy, label) in enumerate(tqdm(train_loader)):\n",
    "        # fill in how to train your network using only the clean images\n",
    "        model.train()\n",
    "        \n",
    "        x_clean =x_clean.to(device=device, dtype=dtype)\n",
    "        \n",
    "        label = label.to(device=device, dtype=torch.int64)\n",
    "        optimizer.zero_grad()\n",
    "\n",
    "        mu, sigma, y, r = model(x_clean)\n",
    "        loss = F.mse_loss(r,x_clean,reduction='sum') + model.encoder.kl\n",
    "        loss.backward()\n",
    "        optimizer.step()   \n",
    "        \n",
    "        running_loss += loss.item()\n",
    "\n",
    "    # Check training loss\n",
    "    train_epoch_loss = running_loss/len(train_loader)\n",
    "    eval_dic['Loss_t'].append(train_epoch_loss)\n",
    "\n",
    "    # Check validation loss\n",
    "    with torch.no_grad():\n",
    "        running_loss_val = 0.0\n",
    "#         Set the model to evaluation mode\n",
    "        model.eval()\n",
    "\n",
    "        for (data_clean, data_noisy, labels) in val_loader:\n",
    "            # validation on noisy part or not\n",
    "            x = data_clean\n",
    "\n",
    "            # cast the inputs to the device\n",
    "            x = x.to(device=device)\n",
    "#             label = labels.to(device=device, dtype=torch.int64)\n",
    "            \n",
    "            mu, sigma, y, r = model(x_clean)\n",
    "            \n",
    "            loss = F.mse_loss(r,x_clean,reduction='sum') + model.encoder.kl\n",
    "            running_loss_val += loss.item()\n",
    "\n",
    "        val_epoch_loss = running_loss_val/len(val_loader)\n",
    "        eval_dic['Loss_v'].append(val_epoch_loss)\n",
    "\n",
    "    print('Epoch', epoch)\n",
    "    print('Training Loss', eval_dic['Loss_t'][epoch])\n",
    "    print('Validation Loss', eval_dic['Loss_v'][epoch])\n",
    "\n",
    "torch.save(model.state_dict(), model_path)"
   ]
  },
  {
   "cell_type": "code",
   "execution_count": 149,
   "metadata": {},
   "outputs": [
    {
     "data": {
      "text/plain": [
       "<matplotlib.legend.Legend at 0x16fa91eaf10>"
      ]
     },
     "execution_count": 149,
     "metadata": {},
     "output_type": "execute_result"
    },
    {
     "data": {
      "image/png": "[encoded data removed]",
      "text/plain": [
       "<Figure size 1500x1000 with 1 Axes>"
      ]
     },
     "metadata": {
      "needs_background": "light"
     },
     "output_type": "display_data"
    }
   ],
   "source": [
    "plt.figure(figsize=(15,10),dpi=100)\n",
    "plt.plot(range(no_epochs), eval_dic['Loss_t'], \n",
    "         label='training loss', linewidth=5)\n",
    "plt.plot(range(no_epochs), eval_dic['Loss_v'], \n",
    "         label='validation loss', linestyle='--', linewidth=5)\n",
    "plt.ylabel('loss')\n",
    "plt.xlabel('Epochs')\n",
    "plt.grid()\n",
    "plt.legend(loc=0, prop={'size': 20})\n",
    "# plt."
   ]
  },
  {
   "cell_type": "code",
   "execution_count": 5,
   "metadata": {},
   "outputs": [],
   "source": [
    "# %% Create fucntion to sample from latent space\n",
    "\n",
    "def sample(xmean: torch.Tensor, logstd: torch.Tensor) -> torch.Tensor:\n",
    "    '''outputs a vector of the same length where v[k] = xmean[k] + n*std[k] \n",
    "    where n is sampled from the normal distribution'''\n",
    "\n",
    "    assert xmean.size(0) == logstd.size(0), \"Vectors of emans and standard deviations have different lengths\" \n",
    "    l = xmean.size(0)\n",
    "    n = np.random.rand(n)\n",
    "\n",
    "    return xmean + n * torch.exp(logstd)"
   ]
  }
 ],
 "metadata": {
  "interpreter": {
   "hash": "e6582fcdad78c9817c7b8382b86eb25db2029e48a96f1080b267c5349ec26f2c"
  },
  "kernelspec": {
   "display_name": "Python 3 (ipykernel)",
   "language": "python",
   "name": "python3"
  },
  "language_info": {
   "codemirror_mode": {
    "name": "ipython",
    "version": 3
   },
   "file_extension": ".py",
   "mimetype": "text/x-python",
   "name": "python",
   "nbconvert_exporter": "python",
   "pygments_lexer": "ipython3",
   "version": "3.8.13"
  }
 },
 "nbformat": 4,
 "nbformat_minor": 2
}
